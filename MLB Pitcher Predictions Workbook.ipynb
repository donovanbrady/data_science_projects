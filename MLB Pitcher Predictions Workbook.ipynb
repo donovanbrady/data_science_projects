{
 "cells": [
  {
   "cell_type": "markdown",
   "id": "39a5f0f4",
   "metadata": {},
   "source": [
    "# Capstone: Analyzing and Predicting Pitching Data\n",
    "\n",
    "#### Donovan Brady\n",
    "\n",
    "#### Booz Allen + GA: Data Science Foundations"
   ]
  },
  {
   "cell_type": "markdown",
   "id": "cefedf10",
   "metadata": {},
   "source": [
    "Outline \n",
    "1. Problem Statement\n",
    "2. Obtaining Data\n",
    "3. Experimental Data Analysis\n",
    "4. Machine Learning\n",
    "5. Predicting Future Prospects\n",
    "6. Conclusion"
   ]
  },
  {
   "cell_type": "markdown",
   "id": "623cf268",
   "metadata": {},
   "source": [
    "# 1. Problem Statement\n",
    "\n",
    "Baseball is a statistics driven game, but there are often parts of the game people would argue statistics don't tell the whole story. When evaluating up-and-coming pitchers, scouts often have little statistical information to go off of. Because young pitchers face a much wider variety of talent, scouts can really only go off of how well they think a pitcher will do against a major league hitters. Rather than looking at their performance history, they have to look at their \"stuff\": What they throw, how accurate they are, etc.\n",
    "\n",
    "My goal is to take data on pitchers that can be obtained wihtout the presence of a batter at the plate (with a few exceptions like walks per 9 innings). That way, we can see if we can determine if a pitcher will be successful in the major leagues without a need for them to face a single major league batter.\n",
    "\n",
    "We want to reject the hypothesis that we need historical performance data (like how many runs does the pitcher give up) to determine if the pitcher will be successful in the future. This is done by proving that we can fit a model to some degree of accuracy that will predict a pitcher's successfulness based on the features chosen."
   ]
  },
  {
   "cell_type": "markdown",
   "id": "356241b0",
   "metadata": {},
   "source": [
    "### Load Relevant Libraries to Start (may load more later)"
   ]
  },
  {
   "cell_type": "code",
   "execution_count": 234,
   "id": "d384582d",
   "metadata": {},
   "outputs": [],
   "source": [
    "#pip install pybaseball"
   ]
  },
  {
   "cell_type": "code",
   "execution_count": 235,
   "id": "0d64c6b3",
   "metadata": {},
   "outputs": [],
   "source": [
    "import pandas as pd\n",
    "import numpy as np\n",
    "import seaborn as sns\n",
    "import matplotlib.pyplot as plt\n",
    "import math\n",
    "\n",
    "\n",
    "#pybaseball is the library used to download data\n",
    "from pybaseball import pitching_stats #gets the general stats for major league pitchers\n",
    "from pybaseball.statcast_pitcher_spin import statcast_pitcher_spin #gets the spin of pitches thrown by a pitcher over a set time period\n",
    "from pybaseball.playerid_lookup import playerid_lookup #looks up the id of a pitcher using a pitcher's name\n",
    "from pybaseball.playerid_lookup import playerid_reverse_lookup"
   ]
  },
  {
   "cell_type": "markdown",
   "id": "69aad70e",
   "metadata": {},
   "source": [
    "# 2. Obtaining Data"
   ]
  },
  {
   "cell_type": "markdown",
   "id": "8b7bccf1",
   "metadata": {},
   "source": [
    "### Refer to the notebook \"Get data for unit-4_project\" for the methodology on how I obtained this data. In short, the data comes from three sources: Fangraphs.com, BaseballSavant (Statcast data), and Baseball Reference (bibliographical data). I merged these two datasets because I wanted information from both (specifically features that you could get by doing a scouting report). I also parsed out the information I did not need (the Fangraphs data had over 300 columns, and I only took a few). After downloading the data, I wrote it into a csv file so I don't have to download a bunch of data every time I open this notebook."
   ]
  },
  {
   "cell_type": "markdown",
   "id": "80c01e6a",
   "metadata": {},
   "source": [
    "### Read data from mlb_pitcher_data.csv"
   ]
  },
  {
   "cell_type": "code",
   "execution_count": 236,
   "id": "a870e3c4",
   "metadata": {},
   "outputs": [],
   "source": [
    "pitching_data = pd.read_csv('mlb_pitcher_data.csv')"
   ]
  },
  {
   "cell_type": "markdown",
   "id": "8dde9865",
   "metadata": {},
   "source": [
    "## Details about the Data"
   ]
  },
  {
   "cell_type": "markdown",
   "id": "0bcfaaa6",
   "metadata": {},
   "source": [
    "Again, refer to the \"Get data for unit-4_project\" notebook for how I created this .csv file. "
   ]
  },
  {
   "cell_type": "code",
   "execution_count": 397,
   "id": "33c2f27e",
   "metadata": {},
   "outputs": [
    {
     "data": {
      "text/html": [
       "<div>\n",
       "<style scoped>\n",
       "    .dataframe tbody tr th:only-of-type {\n",
       "        vertical-align: middle;\n",
       "    }\n",
       "\n",
       "    .dataframe tbody tr th {\n",
       "        vertical-align: top;\n",
       "    }\n",
       "\n",
       "    .dataframe thead th {\n",
       "        text-align: right;\n",
       "    }\n",
       "</style>\n",
       "<table border=\"1\" class=\"dataframe\">\n",
       "  <thead>\n",
       "    <tr style=\"text-align: right;\">\n",
       "      <th></th>\n",
       "      <th>Unnamed: 0</th>\n",
       "      <th>last_name</th>\n",
       "      <th>first_name</th>\n",
       "      <th>mlbam_id</th>\n",
       "      <th>ff_avg_speed</th>\n",
       "      <th>si_avg_speed</th>\n",
       "      <th>fc_avg_speed</th>\n",
       "      <th>sl_avg_speed</th>\n",
       "      <th>ch_avg_speed</th>\n",
       "      <th>cu_avg_speed</th>\n",
       "      <th>...</th>\n",
       "      <th>Fav_pitch_cu</th>\n",
       "      <th>Fav_pitch_fc</th>\n",
       "      <th>Fav_pitch_ff</th>\n",
       "      <th>Fav_pitch_si</th>\n",
       "      <th>Fav_pitch_sl</th>\n",
       "      <th>Fav_pitch_2_ch</th>\n",
       "      <th>Fav_pitch_2_cu</th>\n",
       "      <th>Fav_pitch_2_ff</th>\n",
       "      <th>Fav_pitch_2_si</th>\n",
       "      <th>Fav_pitch_2_sl</th>\n",
       "    </tr>\n",
       "  </thead>\n",
       "  <tbody>\n",
       "    <tr>\n",
       "      <th>0</th>\n",
       "      <td>0</td>\n",
       "      <td>Clase</td>\n",
       "      <td>Emmanuel</td>\n",
       "      <td>661403</td>\n",
       "      <td>100.7</td>\n",
       "      <td>NaN</td>\n",
       "      <td>100.2</td>\n",
       "      <td>91.9</td>\n",
       "      <td>NaN</td>\n",
       "      <td>NaN</td>\n",
       "      <td>...</td>\n",
       "      <td>0</td>\n",
       "      <td>1</td>\n",
       "      <td>0</td>\n",
       "      <td>0</td>\n",
       "      <td>0</td>\n",
       "      <td>0</td>\n",
       "      <td>0</td>\n",
       "      <td>0</td>\n",
       "      <td>0</td>\n",
       "      <td>1</td>\n",
       "    </tr>\n",
       "    <tr>\n",
       "      <th>1</th>\n",
       "      <td>1</td>\n",
       "      <td>Clase</td>\n",
       "      <td>Emmanuel</td>\n",
       "      <td>661403</td>\n",
       "      <td>99.5</td>\n",
       "      <td>NaN</td>\n",
       "      <td>99.2</td>\n",
       "      <td>90.5</td>\n",
       "      <td>NaN</td>\n",
       "      <td>NaN</td>\n",
       "      <td>...</td>\n",
       "      <td>0</td>\n",
       "      <td>1</td>\n",
       "      <td>0</td>\n",
       "      <td>0</td>\n",
       "      <td>0</td>\n",
       "      <td>0</td>\n",
       "      <td>0</td>\n",
       "      <td>0</td>\n",
       "      <td>0</td>\n",
       "      <td>1</td>\n",
       "    </tr>\n",
       "    <tr>\n",
       "      <th>2</th>\n",
       "      <td>2</td>\n",
       "      <td>Hicks</td>\n",
       "      <td>Jordan</td>\n",
       "      <td>663855</td>\n",
       "      <td>100.5</td>\n",
       "      <td>99.2</td>\n",
       "      <td>87.2</td>\n",
       "      <td>83.5</td>\n",
       "      <td>90.2</td>\n",
       "      <td>NaN</td>\n",
       "      <td>...</td>\n",
       "      <td>0</td>\n",
       "      <td>0</td>\n",
       "      <td>0</td>\n",
       "      <td>1</td>\n",
       "      <td>0</td>\n",
       "      <td>0</td>\n",
       "      <td>0</td>\n",
       "      <td>0</td>\n",
       "      <td>0</td>\n",
       "      <td>0</td>\n",
       "    </tr>\n",
       "    <tr>\n",
       "      <th>3</th>\n",
       "      <td>3</td>\n",
       "      <td>Hicks</td>\n",
       "      <td>Jordan</td>\n",
       "      <td>663855</td>\n",
       "      <td>100.9</td>\n",
       "      <td>101.1</td>\n",
       "      <td>NaN</td>\n",
       "      <td>87.0</td>\n",
       "      <td>91.0</td>\n",
       "      <td>NaN</td>\n",
       "      <td>...</td>\n",
       "      <td>0</td>\n",
       "      <td>0</td>\n",
       "      <td>0</td>\n",
       "      <td>1</td>\n",
       "      <td>0</td>\n",
       "      <td>0</td>\n",
       "      <td>0</td>\n",
       "      <td>0</td>\n",
       "      <td>0</td>\n",
       "      <td>1</td>\n",
       "    </tr>\n",
       "    <tr>\n",
       "      <th>4</th>\n",
       "      <td>4</td>\n",
       "      <td>Hicks</td>\n",
       "      <td>Jordan</td>\n",
       "      <td>663855</td>\n",
       "      <td>100.9</td>\n",
       "      <td>100.5</td>\n",
       "      <td>NaN</td>\n",
       "      <td>86.2</td>\n",
       "      <td>NaN</td>\n",
       "      <td>NaN</td>\n",
       "      <td>...</td>\n",
       "      <td>0</td>\n",
       "      <td>0</td>\n",
       "      <td>0</td>\n",
       "      <td>1</td>\n",
       "      <td>0</td>\n",
       "      <td>0</td>\n",
       "      <td>0</td>\n",
       "      <td>0</td>\n",
       "      <td>0</td>\n",
       "      <td>1</td>\n",
       "    </tr>\n",
       "    <tr>\n",
       "      <th>...</th>\n",
       "      <td>...</td>\n",
       "      <td>...</td>\n",
       "      <td>...</td>\n",
       "      <td>...</td>\n",
       "      <td>...</td>\n",
       "      <td>...</td>\n",
       "      <td>...</td>\n",
       "      <td>...</td>\n",
       "      <td>...</td>\n",
       "      <td>...</td>\n",
       "      <td>...</td>\n",
       "      <td>...</td>\n",
       "      <td>...</td>\n",
       "      <td>...</td>\n",
       "      <td>...</td>\n",
       "      <td>...</td>\n",
       "      <td>...</td>\n",
       "      <td>...</td>\n",
       "      <td>...</td>\n",
       "      <td>...</td>\n",
       "      <td>...</td>\n",
       "    </tr>\n",
       "    <tr>\n",
       "      <th>2278</th>\n",
       "      <td>2278</td>\n",
       "      <td>Hart</td>\n",
       "      <td>Donnie</td>\n",
       "      <td>643354</td>\n",
       "      <td>NaN</td>\n",
       "      <td>87.7</td>\n",
       "      <td>NaN</td>\n",
       "      <td>76.1</td>\n",
       "      <td>80.6</td>\n",
       "      <td>NaN</td>\n",
       "      <td>...</td>\n",
       "      <td>0</td>\n",
       "      <td>0</td>\n",
       "      <td>0</td>\n",
       "      <td>1</td>\n",
       "      <td>0</td>\n",
       "      <td>0</td>\n",
       "      <td>0</td>\n",
       "      <td>0</td>\n",
       "      <td>0</td>\n",
       "      <td>1</td>\n",
       "    </tr>\n",
       "    <tr>\n",
       "      <th>2279</th>\n",
       "      <td>2279</td>\n",
       "      <td>Bergman</td>\n",
       "      <td>Christian</td>\n",
       "      <td>548357</td>\n",
       "      <td>NaN</td>\n",
       "      <td>88.5</td>\n",
       "      <td>NaN</td>\n",
       "      <td>85.3</td>\n",
       "      <td>78.3</td>\n",
       "      <td>76.7</td>\n",
       "      <td>...</td>\n",
       "      <td>0</td>\n",
       "      <td>0</td>\n",
       "      <td>0</td>\n",
       "      <td>1</td>\n",
       "      <td>0</td>\n",
       "      <td>1</td>\n",
       "      <td>0</td>\n",
       "      <td>0</td>\n",
       "      <td>0</td>\n",
       "      <td>0</td>\n",
       "    </tr>\n",
       "    <tr>\n",
       "      <th>2280</th>\n",
       "      <td>2280</td>\n",
       "      <td>Solís</td>\n",
       "      <td>Sammy</td>\n",
       "      <td>519301</td>\n",
       "      <td>NaN</td>\n",
       "      <td>93.3</td>\n",
       "      <td>NaN</td>\n",
       "      <td>NaN</td>\n",
       "      <td>85.3</td>\n",
       "      <td>78.1</td>\n",
       "      <td>...</td>\n",
       "      <td>0</td>\n",
       "      <td>0</td>\n",
       "      <td>0</td>\n",
       "      <td>1</td>\n",
       "      <td>0</td>\n",
       "      <td>0</td>\n",
       "      <td>1</td>\n",
       "      <td>0</td>\n",
       "      <td>0</td>\n",
       "      <td>0</td>\n",
       "    </tr>\n",
       "    <tr>\n",
       "      <th>2281</th>\n",
       "      <td>2281</td>\n",
       "      <td>Rzepczynski</td>\n",
       "      <td>Marc</td>\n",
       "      <td>519240</td>\n",
       "      <td>NaN</td>\n",
       "      <td>91.9</td>\n",
       "      <td>NaN</td>\n",
       "      <td>84.1</td>\n",
       "      <td>86.2</td>\n",
       "      <td>NaN</td>\n",
       "      <td>...</td>\n",
       "      <td>0</td>\n",
       "      <td>0</td>\n",
       "      <td>0</td>\n",
       "      <td>1</td>\n",
       "      <td>0</td>\n",
       "      <td>0</td>\n",
       "      <td>0</td>\n",
       "      <td>0</td>\n",
       "      <td>0</td>\n",
       "      <td>1</td>\n",
       "    </tr>\n",
       "    <tr>\n",
       "      <th>2282</th>\n",
       "      <td>2282</td>\n",
       "      <td>Meyer</td>\n",
       "      <td>Ben</td>\n",
       "      <td>656738</td>\n",
       "      <td>NaN</td>\n",
       "      <td>91.6</td>\n",
       "      <td>NaN</td>\n",
       "      <td>NaN</td>\n",
       "      <td>82.6</td>\n",
       "      <td>76.8</td>\n",
       "      <td>...</td>\n",
       "      <td>0</td>\n",
       "      <td>0</td>\n",
       "      <td>0</td>\n",
       "      <td>1</td>\n",
       "      <td>0</td>\n",
       "      <td>0</td>\n",
       "      <td>1</td>\n",
       "      <td>0</td>\n",
       "      <td>0</td>\n",
       "      <td>0</td>\n",
       "    </tr>\n",
       "  </tbody>\n",
       "</table>\n",
       "<p>2282 rows × 54 columns</p>\n",
       "</div>"
      ],
      "text/plain": [
       "      Unnamed: 0    last_name  first_name  mlbam_id  ff_avg_speed  \\\n",
       "0              0        Clase    Emmanuel    661403         100.7   \n",
       "1              1        Clase    Emmanuel    661403          99.5   \n",
       "2              2        Hicks      Jordan    663855         100.5   \n",
       "3              3        Hicks      Jordan    663855         100.9   \n",
       "4              4        Hicks      Jordan    663855         100.9   \n",
       "...          ...          ...         ...       ...           ...   \n",
       "2278        2278         Hart      Donnie    643354           NaN   \n",
       "2279        2279      Bergman   Christian    548357           NaN   \n",
       "2280        2280        Solís       Sammy    519301           NaN   \n",
       "2281        2281  Rzepczynski        Marc    519240           NaN   \n",
       "2282        2282        Meyer         Ben    656738           NaN   \n",
       "\n",
       "      si_avg_speed  fc_avg_speed  sl_avg_speed  ch_avg_speed  cu_avg_speed  \\\n",
       "0              NaN         100.2          91.9           NaN           NaN   \n",
       "1              NaN          99.2          90.5           NaN           NaN   \n",
       "2             99.2          87.2          83.5          90.2           NaN   \n",
       "3            101.1           NaN          87.0          91.0           NaN   \n",
       "4            100.5           NaN          86.2           NaN           NaN   \n",
       "...            ...           ...           ...           ...           ...   \n",
       "2278          87.7           NaN          76.1          80.6           NaN   \n",
       "2279          88.5           NaN          85.3          78.3          76.7   \n",
       "2280          93.3           NaN           NaN          85.3          78.1   \n",
       "2281          91.9           NaN          84.1          86.2           NaN   \n",
       "2282          91.6           NaN           NaN          82.6          76.8   \n",
       "\n",
       "      ...  Fav_pitch_cu  Fav_pitch_fc  Fav_pitch_ff  Fav_pitch_si  \\\n",
       "0     ...             0             1             0             0   \n",
       "1     ...             0             1             0             0   \n",
       "2     ...             0             0             0             1   \n",
       "3     ...             0             0             0             1   \n",
       "4     ...             0             0             0             1   \n",
       "...   ...           ...           ...           ...           ...   \n",
       "2278  ...             0             0             0             1   \n",
       "2279  ...             0             0             0             1   \n",
       "2280  ...             0             0             0             1   \n",
       "2281  ...             0             0             0             1   \n",
       "2282  ...             0             0             0             1   \n",
       "\n",
       "      Fav_pitch_sl  Fav_pitch_2_ch  Fav_pitch_2_cu  Fav_pitch_2_ff  \\\n",
       "0                0               0               0               0   \n",
       "1                0               0               0               0   \n",
       "2                0               0               0               0   \n",
       "3                0               0               0               0   \n",
       "4                0               0               0               0   \n",
       "...            ...             ...             ...             ...   \n",
       "2278             0               0               0               0   \n",
       "2279             0               1               0               0   \n",
       "2280             0               0               1               0   \n",
       "2281             0               0               0               0   \n",
       "2282             0               0               1               0   \n",
       "\n",
       "      Fav_pitch_2_si  Fav_pitch_2_sl  \n",
       "0                  0               1  \n",
       "1                  0               1  \n",
       "2                  0               0  \n",
       "3                  0               1  \n",
       "4                  0               1  \n",
       "...              ...             ...  \n",
       "2278               0               1  \n",
       "2279               0               0  \n",
       "2280               0               0  \n",
       "2281               0               1  \n",
       "2282               0               0  \n",
       "\n",
       "[2282 rows x 54 columns]"
      ]
     },
     "execution_count": 397,
     "metadata": {},
     "output_type": "execute_result"
    }
   ],
   "source": [
    "pitching_data"
   ]
  },
  {
   "cell_type": "code",
   "execution_count": 238,
   "id": "300e0a97",
   "metadata": {},
   "outputs": [
    {
     "data": {
      "text/plain": [
       "Index(['Unnamed: 0', 'last_name', ' first_name', 'mlbam_id', 'ff_avg_speed',\n",
       "       'si_avg_speed', 'fc_avg_speed', 'sl_avg_speed', 'ch_avg_speed',\n",
       "       'cu_avg_speed', 'fs_avg_speed', 'ff_avg_spin', 'si_avg_spin',\n",
       "       'fc_avg_spin', 'sl_avg_spin', 'ch_avg_spin', 'cu_avg_spin',\n",
       "       'fs_avg_spin', 'n_ff', 'n_si', 'n_fc', 'n_sl', 'n_ch', 'n_cu', 'n_fs',\n",
       "       'Season', 'F-Strike%', 'BB/9', 'Age', 'WAR', 'K/9', 'ERA', 'Fav_pitch',\n",
       "       'Fav_pitch_2', 'Num_pitches', 'throws', 'weight', 'height'],\n",
       "      dtype='object')"
      ]
     },
     "execution_count": 238,
     "metadata": {},
     "output_type": "execute_result"
    }
   ],
   "source": [
    "pitching_data.columns #check to see the names of each column"
   ]
  },
  {
   "cell_type": "markdown",
   "id": "7eb9686c",
   "metadata": {},
   "source": [
    "Pitching_data contains information about Major League Pitchers from the years 2018-2021. The information includes their first name, their last name, and their mlbam id (unique identifier). \n",
    "\n",
    "For each pitcher, there is information on the types of pitches they throw. There are seven different kinds of pitches:\n",
    "1. __Fastball__ (ff) - ball thrown straight as possible to maximize speed\n",
    "2. __Sinker__ (si) - ball thrown fast, but with some downward movement\n",
    "3. __Cutter__ (fc) - ball thrown fast, but with some sideways movement\n",
    "4. __Slider__ (sl) - ball meant to move away from the strikezone horizontally\n",
    "5. __Changeup__ (ch) - ball meant to go slower than a fastball (decieving the batter)\n",
    "6. __Curveball__ (cu) - ball meant to move away from the strikezone both vertically (and horizontall)\n",
    "7. __Splitter__ (fs) - halfway between a changeup and a fastball, but has a lot of downward movement\n",
    "\n",
    "The aspects of these pitches that are recorded in the data are its average speed (pitch_avg_speed), its average spin (pitch_avg_spin), and the percentage of the time it is thrown by that entry's pitcher (n_pitch).\n",
    "\n",
    "__Speed__ is recorded in miles per hour and is how fast the pitch moves.\n",
    "\n",
    "__Spin__ is the rotations per minute of the ball, captured via advanced techniques. Spin is often how a pitch is able to move up, horizontally, or downwards. (Although a knuckleball, which is ignored intentianally because of how much of an outlier it is, has no spin at all)\n",
    "\n",
    "The __percentage__, represented by n_(pitch), shows how often a pitch is thrown within that pitcher's arsenal. If n_ff = 0.5, then the pitcher throws a fastball 50% of the time.\n",
    "\n"
   ]
  },
  {
   "cell_type": "markdown",
   "id": "9f66fd07",
   "metadata": {},
   "source": [
    "__Assumption__ An assumption was made to include the pitcher's data for a single season, rather over multiple. This is because many pitcher's change their arsenal over the years. For example, pitcher's start to throw slower as they age. This means, they may have been really successful in their early years, but very unsuccessful later. If I were to take the pitcher's stats over their career, I would not understand why they were good one year, but not so good another.\n",
    "\n",
    "Therefore, each entry has a season. This means a pitcher can show up multiple times in the data, but not have the same season."
   ]
  },
  {
   "cell_type": "markdown",
   "id": "705917d1",
   "metadata": {},
   "source": [
    "__Other Metrics include F-Strike%, BB/9, Age, WAR, K/9, and ERA.__\n",
    "\n",
    "\n",
    "__F-Strike%__ is the percentage that a pitcher throws a strike on the first pitch of an at-bat.\n",
    "\n",
    "__BB/9__ is the amount of walks given up per 9 innings.\n",
    "\n",
    "__Age__ is a pitcher's age in years (probably won't use this).\n",
    "\n",
    "__WAR__ stands for wins above replacement. It is a number representing the amount of wins a pitcher generates over the standard replacement player. A replacement player would be someone who would be the understudy a team would bring in if, for example, every pitcher got hurt (either a free agent or minor leaguer). The metric is complex and not perfect, but it gives a good approximation of the amount of value a pitcher provides for their team.\n",
    "\n",
    "__K/9__ is the amount of strikeouts per 9 innings.\n",
    "\n",
    "__ERA__ is a pitcher's earned run average. It is the amount of runs they give up per 9 innings that weren't caused by an error on the field. Those runs are theoretically \"the pitcher's fault\". This is not a perfect stat as ERA is dependent on a ton of uncontrollable factors on the pitcher's part. This could also be a metric for value.\n",
    "\n",
    "(Might add more metrics later)\n",
    "\n"
   ]
  },
  {
   "cell_type": "markdown",
   "id": "a751c7de",
   "metadata": {},
   "source": [
    "__Biographical information such as throwing arm, height, and weight__\n",
    "\n",
    "__Throws__ is the hand which the pitcher throws (right or left). __Height__ is the pitcher's height in cm. __Weight__ is the pitcher's weight in pounds."
   ]
  },
  {
   "cell_type": "markdown",
   "id": "aed815d7",
   "metadata": {},
   "source": [
    "__Finally, there is some information I featured engineered (see other notebook)__\n",
    "\n",
    "Fav_pitch is the pitcher's most thrown pitch, while Fav_pitch_2 is the pitcher's second favorite pitch.\n",
    "\n",
    "Num_pitches represents the number of pitches a pitcher throws."
   ]
  },
  {
   "cell_type": "code",
   "execution_count": 239,
   "id": "35c7fd42",
   "metadata": {},
   "outputs": [
    {
     "data": {
      "text/html": [
       "<div>\n",
       "<style scoped>\n",
       "    .dataframe tbody tr th:only-of-type {\n",
       "        vertical-align: middle;\n",
       "    }\n",
       "\n",
       "    .dataframe tbody tr th {\n",
       "        vertical-align: top;\n",
       "    }\n",
       "\n",
       "    .dataframe thead th {\n",
       "        text-align: right;\n",
       "    }\n",
       "</style>\n",
       "<table border=\"1\" class=\"dataframe\">\n",
       "  <thead>\n",
       "    <tr style=\"text-align: right;\">\n",
       "      <th></th>\n",
       "      <th>Unnamed: 0</th>\n",
       "      <th>mlbam_id</th>\n",
       "      <th>ff_avg_speed</th>\n",
       "      <th>si_avg_speed</th>\n",
       "      <th>fc_avg_speed</th>\n",
       "      <th>sl_avg_speed</th>\n",
       "      <th>ch_avg_speed</th>\n",
       "      <th>cu_avg_speed</th>\n",
       "      <th>fs_avg_speed</th>\n",
       "      <th>ff_avg_spin</th>\n",
       "      <th>...</th>\n",
       "      <th>Season</th>\n",
       "      <th>F-Strike%</th>\n",
       "      <th>BB/9</th>\n",
       "      <th>Age</th>\n",
       "      <th>WAR</th>\n",
       "      <th>K/9</th>\n",
       "      <th>ERA</th>\n",
       "      <th>Num_pitches</th>\n",
       "      <th>weight</th>\n",
       "      <th>height</th>\n",
       "    </tr>\n",
       "  </thead>\n",
       "  <tbody>\n",
       "    <tr>\n",
       "      <th>count</th>\n",
       "      <td>2283.000000</td>\n",
       "      <td>2283.000000</td>\n",
       "      <td>2184.000000</td>\n",
       "      <td>1585.000000</td>\n",
       "      <td>639.000000</td>\n",
       "      <td>1773.000000</td>\n",
       "      <td>1832.000000</td>\n",
       "      <td>1495.000000</td>\n",
       "      <td>139.000000</td>\n",
       "      <td>2184.000000</td>\n",
       "      <td>...</td>\n",
       "      <td>2283.000000</td>\n",
       "      <td>2283.000000</td>\n",
       "      <td>2283.000000</td>\n",
       "      <td>2283.000000</td>\n",
       "      <td>2283.000000</td>\n",
       "      <td>2283.000000</td>\n",
       "      <td>2283.000000</td>\n",
       "      <td>2283.000000</td>\n",
       "      <td>2283.000000</td>\n",
       "      <td>2283.000000</td>\n",
       "    </tr>\n",
       "    <tr>\n",
       "      <th>mean</th>\n",
       "      <td>1141.000000</td>\n",
       "      <td>586150.058257</td>\n",
       "      <td>93.220559</td>\n",
       "      <td>92.709338</td>\n",
       "      <td>88.495931</td>\n",
       "      <td>84.291201</td>\n",
       "      <td>85.350928</td>\n",
       "      <td>78.593779</td>\n",
       "      <td>85.779856</td>\n",
       "      <td>2262.688187</td>\n",
       "      <td>...</td>\n",
       "      <td>2019.493649</td>\n",
       "      <td>0.598418</td>\n",
       "      <td>3.687328</td>\n",
       "      <td>28.082786</td>\n",
       "      <td>0.629742</td>\n",
       "      <td>8.873815</td>\n",
       "      <td>4.615703</td>\n",
       "      <td>4.091984</td>\n",
       "      <td>215.279457</td>\n",
       "      <td>74.605782</td>\n",
       "    </tr>\n",
       "    <tr>\n",
       "      <th>std</th>\n",
       "      <td>659.189654</td>\n",
       "      <td>67265.653063</td>\n",
       "      <td>2.511117</td>\n",
       "      <td>2.716788</td>\n",
       "      <td>2.694383</td>\n",
       "      <td>3.105542</td>\n",
       "      <td>3.234613</td>\n",
       "      <td>3.442439</td>\n",
       "      <td>2.852971</td>\n",
       "      <td>155.630161</td>\n",
       "      <td>...</td>\n",
       "      <td>1.149374</td>\n",
       "      <td>0.054244</td>\n",
       "      <td>1.508571</td>\n",
       "      <td>3.597116</td>\n",
       "      <td>1.161358</td>\n",
       "      <td>2.243634</td>\n",
       "      <td>1.933819</td>\n",
       "      <td>0.960819</td>\n",
       "      <td>19.640120</td>\n",
       "      <td>2.045410</td>\n",
       "    </tr>\n",
       "    <tr>\n",
       "      <th>min</th>\n",
       "      <td>0.000000</td>\n",
       "      <td>112526.000000</td>\n",
       "      <td>80.600000</td>\n",
       "      <td>78.900000</td>\n",
       "      <td>78.800000</td>\n",
       "      <td>70.000000</td>\n",
       "      <td>63.000000</td>\n",
       "      <td>59.400000</td>\n",
       "      <td>76.800000</td>\n",
       "      <td>1769.000000</td>\n",
       "      <td>...</td>\n",
       "      <td>2018.000000</td>\n",
       "      <td>0.359000</td>\n",
       "      <td>0.340000</td>\n",
       "      <td>19.000000</td>\n",
       "      <td>-1.400000</td>\n",
       "      <td>1.710000</td>\n",
       "      <td>0.000000</td>\n",
       "      <td>2.000000</td>\n",
       "      <td>155.000000</td>\n",
       "      <td>67.000000</td>\n",
       "    </tr>\n",
       "    <tr>\n",
       "      <th>25%</th>\n",
       "      <td>570.500000</td>\n",
       "      <td>543272.000000</td>\n",
       "      <td>91.700000</td>\n",
       "      <td>91.000000</td>\n",
       "      <td>86.700000</td>\n",
       "      <td>82.400000</td>\n",
       "      <td>83.600000</td>\n",
       "      <td>76.500000</td>\n",
       "      <td>84.100000</td>\n",
       "      <td>2158.000000</td>\n",
       "      <td>...</td>\n",
       "      <td>2018.000000</td>\n",
       "      <td>0.565000</td>\n",
       "      <td>2.660000</td>\n",
       "      <td>25.000000</td>\n",
       "      <td>-0.100000</td>\n",
       "      <td>7.330000</td>\n",
       "      <td>3.330000</td>\n",
       "      <td>3.000000</td>\n",
       "      <td>202.000000</td>\n",
       "      <td>73.000000</td>\n",
       "    </tr>\n",
       "    <tr>\n",
       "      <th>50%</th>\n",
       "      <td>1141.000000</td>\n",
       "      <td>605218.000000</td>\n",
       "      <td>93.400000</td>\n",
       "      <td>92.800000</td>\n",
       "      <td>88.300000</td>\n",
       "      <td>84.600000</td>\n",
       "      <td>85.700000</td>\n",
       "      <td>78.800000</td>\n",
       "      <td>86.100000</td>\n",
       "      <td>2262.000000</td>\n",
       "      <td>...</td>\n",
       "      <td>2019.000000</td>\n",
       "      <td>0.600000</td>\n",
       "      <td>3.450000</td>\n",
       "      <td>28.000000</td>\n",
       "      <td>0.300000</td>\n",
       "      <td>8.710000</td>\n",
       "      <td>4.340000</td>\n",
       "      <td>4.000000</td>\n",
       "      <td>215.000000</td>\n",
       "      <td>75.000000</td>\n",
       "    </tr>\n",
       "    <tr>\n",
       "      <th>75%</th>\n",
       "      <td>1711.500000</td>\n",
       "      <td>641816.000000</td>\n",
       "      <td>94.800000</td>\n",
       "      <td>94.400000</td>\n",
       "      <td>90.200000</td>\n",
       "      <td>86.500000</td>\n",
       "      <td>87.500000</td>\n",
       "      <td>81.000000</td>\n",
       "      <td>87.850000</td>\n",
       "      <td>2366.000000</td>\n",
       "      <td>...</td>\n",
       "      <td>2021.000000</td>\n",
       "      <td>0.636000</td>\n",
       "      <td>4.500000</td>\n",
       "      <td>30.000000</td>\n",
       "      <td>0.900000</td>\n",
       "      <td>10.265000</td>\n",
       "      <td>5.605000</td>\n",
       "      <td>5.000000</td>\n",
       "      <td>225.000000</td>\n",
       "      <td>76.000000</td>\n",
       "    </tr>\n",
       "    <tr>\n",
       "      <th>max</th>\n",
       "      <td>2282.000000</td>\n",
       "      <td>685503.000000</td>\n",
       "      <td>100.900000</td>\n",
       "      <td>101.100000</td>\n",
       "      <td>100.200000</td>\n",
       "      <td>92.500000</td>\n",
       "      <td>95.700000</td>\n",
       "      <td>87.200000</td>\n",
       "      <td>92.200000</td>\n",
       "      <td>2891.000000</td>\n",
       "      <td>...</td>\n",
       "      <td>2021.000000</td>\n",
       "      <td>0.759000</td>\n",
       "      <td>15.260000</td>\n",
       "      <td>45.000000</td>\n",
       "      <td>9.000000</td>\n",
       "      <td>17.670000</td>\n",
       "      <td>18.260000</td>\n",
       "      <td>7.000000</td>\n",
       "      <td>285.000000</td>\n",
       "      <td>82.000000</td>\n",
       "    </tr>\n",
       "  </tbody>\n",
       "</table>\n",
       "<p>8 rows × 33 columns</p>\n",
       "</div>"
      ],
      "text/plain": [
       "        Unnamed: 0       mlbam_id  ff_avg_speed  si_avg_speed  fc_avg_speed  \\\n",
       "count  2283.000000    2283.000000   2184.000000   1585.000000    639.000000   \n",
       "mean   1141.000000  586150.058257     93.220559     92.709338     88.495931   \n",
       "std     659.189654   67265.653063      2.511117      2.716788      2.694383   \n",
       "min       0.000000  112526.000000     80.600000     78.900000     78.800000   \n",
       "25%     570.500000  543272.000000     91.700000     91.000000     86.700000   \n",
       "50%    1141.000000  605218.000000     93.400000     92.800000     88.300000   \n",
       "75%    1711.500000  641816.000000     94.800000     94.400000     90.200000   \n",
       "max    2282.000000  685503.000000    100.900000    101.100000    100.200000   \n",
       "\n",
       "       sl_avg_speed  ch_avg_speed  cu_avg_speed  fs_avg_speed  ff_avg_spin  \\\n",
       "count   1773.000000   1832.000000   1495.000000    139.000000  2184.000000   \n",
       "mean      84.291201     85.350928     78.593779     85.779856  2262.688187   \n",
       "std        3.105542      3.234613      3.442439      2.852971   155.630161   \n",
       "min       70.000000     63.000000     59.400000     76.800000  1769.000000   \n",
       "25%       82.400000     83.600000     76.500000     84.100000  2158.000000   \n",
       "50%       84.600000     85.700000     78.800000     86.100000  2262.000000   \n",
       "75%       86.500000     87.500000     81.000000     87.850000  2366.000000   \n",
       "max       92.500000     95.700000     87.200000     92.200000  2891.000000   \n",
       "\n",
       "       ...       Season    F-Strike%         BB/9          Age          WAR  \\\n",
       "count  ...  2283.000000  2283.000000  2283.000000  2283.000000  2283.000000   \n",
       "mean   ...  2019.493649     0.598418     3.687328    28.082786     0.629742   \n",
       "std    ...     1.149374     0.054244     1.508571     3.597116     1.161358   \n",
       "min    ...  2018.000000     0.359000     0.340000    19.000000    -1.400000   \n",
       "25%    ...  2018.000000     0.565000     2.660000    25.000000    -0.100000   \n",
       "50%    ...  2019.000000     0.600000     3.450000    28.000000     0.300000   \n",
       "75%    ...  2021.000000     0.636000     4.500000    30.000000     0.900000   \n",
       "max    ...  2021.000000     0.759000    15.260000    45.000000     9.000000   \n",
       "\n",
       "               K/9          ERA  Num_pitches       weight       height  \n",
       "count  2283.000000  2283.000000  2283.000000  2283.000000  2283.000000  \n",
       "mean      8.873815     4.615703     4.091984   215.279457    74.605782  \n",
       "std       2.243634     1.933819     0.960819    19.640120     2.045410  \n",
       "min       1.710000     0.000000     2.000000   155.000000    67.000000  \n",
       "25%       7.330000     3.330000     3.000000   202.000000    73.000000  \n",
       "50%       8.710000     4.340000     4.000000   215.000000    75.000000  \n",
       "75%      10.265000     5.605000     5.000000   225.000000    76.000000  \n",
       "max      17.670000    18.260000     7.000000   285.000000    82.000000  \n",
       "\n",
       "[8 rows x 33 columns]"
      ]
     },
     "execution_count": 239,
     "metadata": {},
     "output_type": "execute_result"
    }
   ],
   "source": [
    "pitching_data.describe() #throw a describe in there"
   ]
  },
  {
   "cell_type": "code",
   "execution_count": 240,
   "id": "88a3cca9",
   "metadata": {},
   "outputs": [
    {
     "data": {
      "text/plain": [
       "Unnamed: 0         0\n",
       "last_name          0\n",
       " first_name        0\n",
       "mlbam_id           0\n",
       "ff_avg_speed      99\n",
       "si_avg_speed     698\n",
       "fc_avg_speed    1644\n",
       "sl_avg_speed     510\n",
       "ch_avg_speed     451\n",
       "cu_avg_speed     788\n",
       "fs_avg_speed    2144\n",
       "ff_avg_spin       99\n",
       "si_avg_spin      699\n",
       "fc_avg_spin     1644\n",
       "sl_avg_spin      510\n",
       "ch_avg_spin      451\n",
       "cu_avg_spin      790\n",
       "fs_avg_spin     2144\n",
       "n_ff               0\n",
       "n_si               0\n",
       "n_fc               0\n",
       "n_sl               0\n",
       "n_ch               0\n",
       "n_cu               0\n",
       "n_fs               0\n",
       "Season             0\n",
       "F-Strike%          0\n",
       "BB/9               0\n",
       "Age                0\n",
       "WAR                0\n",
       "K/9                0\n",
       "ERA                0\n",
       "Fav_pitch          0\n",
       "Fav_pitch_2        0\n",
       "Num_pitches        0\n",
       "throws             0\n",
       "weight             0\n",
       "height             0\n",
       "dtype: int64"
      ]
     },
     "execution_count": 240,
     "metadata": {},
     "output_type": "execute_result"
    }
   ],
   "source": [
    "#lot's of null values with speed and spin\n",
    "#will have to think of solution for those\n",
    "pitching_data.isnull().sum()"
   ]
  },
  {
   "cell_type": "markdown",
   "id": "c1456c7a",
   "metadata": {},
   "source": [
    "# 3. EDA "
   ]
  },
  {
   "cell_type": "code",
   "execution_count": 241,
   "id": "56b45230",
   "metadata": {},
   "outputs": [
    {
     "data": {
      "text/html": [
       "<div>\n",
       "<style scoped>\n",
       "    .dataframe tbody tr th:only-of-type {\n",
       "        vertical-align: middle;\n",
       "    }\n",
       "\n",
       "    .dataframe tbody tr th {\n",
       "        vertical-align: top;\n",
       "    }\n",
       "\n",
       "    .dataframe thead th {\n",
       "        text-align: right;\n",
       "    }\n",
       "</style>\n",
       "<table border=\"1\" class=\"dataframe\">\n",
       "  <thead>\n",
       "    <tr style=\"text-align: right;\">\n",
       "      <th></th>\n",
       "      <th>Unnamed: 0</th>\n",
       "      <th>last_name</th>\n",
       "      <th>first_name</th>\n",
       "      <th>mlbam_id</th>\n",
       "      <th>ff_avg_speed</th>\n",
       "      <th>si_avg_speed</th>\n",
       "      <th>fc_avg_speed</th>\n",
       "      <th>sl_avg_speed</th>\n",
       "      <th>ch_avg_speed</th>\n",
       "      <th>cu_avg_speed</th>\n",
       "      <th>...</th>\n",
       "      <th>Age</th>\n",
       "      <th>WAR</th>\n",
       "      <th>K/9</th>\n",
       "      <th>ERA</th>\n",
       "      <th>Fav_pitch</th>\n",
       "      <th>Fav_pitch_2</th>\n",
       "      <th>Num_pitches</th>\n",
       "      <th>throws</th>\n",
       "      <th>weight</th>\n",
       "      <th>height</th>\n",
       "    </tr>\n",
       "  </thead>\n",
       "  <tbody>\n",
       "    <tr>\n",
       "      <th>0</th>\n",
       "      <td>0</td>\n",
       "      <td>Clase</td>\n",
       "      <td>Emmanuel</td>\n",
       "      <td>661403</td>\n",
       "      <td>100.7</td>\n",
       "      <td>NaN</td>\n",
       "      <td>100.2</td>\n",
       "      <td>91.9</td>\n",
       "      <td>NaN</td>\n",
       "      <td>NaN</td>\n",
       "      <td>...</td>\n",
       "      <td>23</td>\n",
       "      <td>2.2</td>\n",
       "      <td>9.56</td>\n",
       "      <td>1.29</td>\n",
       "      <td>fc</td>\n",
       "      <td>sl</td>\n",
       "      <td>3</td>\n",
       "      <td>R</td>\n",
       "      <td>206.0</td>\n",
       "      <td>74.0</td>\n",
       "    </tr>\n",
       "    <tr>\n",
       "      <th>1</th>\n",
       "      <td>1</td>\n",
       "      <td>Clase</td>\n",
       "      <td>Emmanuel</td>\n",
       "      <td>661403</td>\n",
       "      <td>99.5</td>\n",
       "      <td>NaN</td>\n",
       "      <td>99.2</td>\n",
       "      <td>90.5</td>\n",
       "      <td>NaN</td>\n",
       "      <td>NaN</td>\n",
       "      <td>...</td>\n",
       "      <td>21</td>\n",
       "      <td>0.4</td>\n",
       "      <td>8.10</td>\n",
       "      <td>2.31</td>\n",
       "      <td>fc</td>\n",
       "      <td>sl</td>\n",
       "      <td>3</td>\n",
       "      <td>R</td>\n",
       "      <td>206.0</td>\n",
       "      <td>74.0</td>\n",
       "    </tr>\n",
       "    <tr>\n",
       "      <th>2</th>\n",
       "      <td>2</td>\n",
       "      <td>Hicks</td>\n",
       "      <td>Jordan</td>\n",
       "      <td>663855</td>\n",
       "      <td>100.5</td>\n",
       "      <td>99.2</td>\n",
       "      <td>87.2</td>\n",
       "      <td>83.5</td>\n",
       "      <td>90.2</td>\n",
       "      <td>NaN</td>\n",
       "      <td>...</td>\n",
       "      <td>24</td>\n",
       "      <td>0.0</td>\n",
       "      <td>9.00</td>\n",
       "      <td>5.40</td>\n",
       "      <td>si</td>\n",
       "      <td>fc</td>\n",
       "      <td>5</td>\n",
       "      <td>R</td>\n",
       "      <td>220.0</td>\n",
       "      <td>74.0</td>\n",
       "    </tr>\n",
       "    <tr>\n",
       "      <th>3</th>\n",
       "      <td>3</td>\n",
       "      <td>Hicks</td>\n",
       "      <td>Jordan</td>\n",
       "      <td>663855</td>\n",
       "      <td>100.9</td>\n",
       "      <td>101.1</td>\n",
       "      <td>NaN</td>\n",
       "      <td>87.0</td>\n",
       "      <td>91.0</td>\n",
       "      <td>NaN</td>\n",
       "      <td>...</td>\n",
       "      <td>22</td>\n",
       "      <td>0.5</td>\n",
       "      <td>9.73</td>\n",
       "      <td>3.14</td>\n",
       "      <td>si</td>\n",
       "      <td>sl</td>\n",
       "      <td>3</td>\n",
       "      <td>R</td>\n",
       "      <td>220.0</td>\n",
       "      <td>74.0</td>\n",
       "    </tr>\n",
       "    <tr>\n",
       "      <th>4</th>\n",
       "      <td>4</td>\n",
       "      <td>Hicks</td>\n",
       "      <td>Jordan</td>\n",
       "      <td>663855</td>\n",
       "      <td>100.9</td>\n",
       "      <td>100.5</td>\n",
       "      <td>NaN</td>\n",
       "      <td>86.2</td>\n",
       "      <td>NaN</td>\n",
       "      <td>NaN</td>\n",
       "      <td>...</td>\n",
       "      <td>21</td>\n",
       "      <td>0.5</td>\n",
       "      <td>8.11</td>\n",
       "      <td>3.59</td>\n",
       "      <td>si</td>\n",
       "      <td>sl</td>\n",
       "      <td>3</td>\n",
       "      <td>R</td>\n",
       "      <td>220.0</td>\n",
       "      <td>74.0</td>\n",
       "    </tr>\n",
       "  </tbody>\n",
       "</table>\n",
       "<p>5 rows × 38 columns</p>\n",
       "</div>"
      ],
      "text/plain": [
       "   Unnamed: 0 last_name  first_name  mlbam_id  ff_avg_speed  si_avg_speed  \\\n",
       "0           0     Clase    Emmanuel    661403         100.7           NaN   \n",
       "1           1     Clase    Emmanuel    661403          99.5           NaN   \n",
       "2           2     Hicks      Jordan    663855         100.5          99.2   \n",
       "3           3     Hicks      Jordan    663855         100.9         101.1   \n",
       "4           4     Hicks      Jordan    663855         100.9         100.5   \n",
       "\n",
       "   fc_avg_speed  sl_avg_speed  ch_avg_speed  cu_avg_speed  ...  Age  WAR  \\\n",
       "0         100.2          91.9           NaN           NaN  ...   23  2.2   \n",
       "1          99.2          90.5           NaN           NaN  ...   21  0.4   \n",
       "2          87.2          83.5          90.2           NaN  ...   24  0.0   \n",
       "3           NaN          87.0          91.0           NaN  ...   22  0.5   \n",
       "4           NaN          86.2           NaN           NaN  ...   21  0.5   \n",
       "\n",
       "    K/9   ERA  Fav_pitch  Fav_pitch_2  Num_pitches  throws  weight  height  \n",
       "0  9.56  1.29         fc           sl            3       R   206.0    74.0  \n",
       "1  8.10  2.31         fc           sl            3       R   206.0    74.0  \n",
       "2  9.00  5.40         si           fc            5       R   220.0    74.0  \n",
       "3  9.73  3.14         si           sl            3       R   220.0    74.0  \n",
       "4  8.11  3.59         si           sl            3       R   220.0    74.0  \n",
       "\n",
       "[5 rows x 38 columns]"
      ]
     },
     "execution_count": 241,
     "metadata": {},
     "output_type": "execute_result"
    }
   ],
   "source": [
    "pitching_data.head()"
   ]
  },
  {
   "cell_type": "code",
   "execution_count": 242,
   "id": "5087055b",
   "metadata": {},
   "outputs": [],
   "source": [
    "#in case if I want to look at a single season\n",
    "pitching_data_2021 = pitching_data[pitching_data['Season'] == 2021]"
   ]
  },
  {
   "cell_type": "markdown",
   "id": "316f9614",
   "metadata": {},
   "source": [
    "## WAR (Wins Above Replacement)"
   ]
  },
  {
   "cell_type": "markdown",
   "id": "1f76695f",
   "metadata": {},
   "source": [
    "### The response variable in this project will be WAR"
   ]
  },
  {
   "cell_type": "markdown",
   "id": "cc85e2e2",
   "metadata": {},
   "source": [
    "To measure the successfulness of a major league pitcher we look at WAR (Wins above Replacement). \n",
    "\n",
    "At its most basic level, pitching WAR calculation requires only overall Runs Allowed (both earned and unearned) and Innings Pitched. Fangraphs WAR (the one used here) uses FIP (Fielding Independent Pitching) which, for the purpose of simplifying, represents the amount of runs a pitcher gives up. Fangraphs also considers the ballpark being played at and the amount of innings pitched. This is not a simple calculation (especially for pitchers) so refer here for descriptions and links for further details https://library.fangraphs.com/misc/war/\n",
    "\n",
    "\n",
    "Simply, WAR is an attempt by the sabermetric baseball community to summarize a player’s total contributions to their team in one statistic. While it is not the be-all and end-all for pitchers, WAR can give a good approximation of the value of a pitcher. \n",
    "\n",
    "For example: Fangraphs provides good rule-of-thumb chart to assess the meaning of WAR.\n",
    "\n",
    "- Scrub\t0-1 WAR\n",
    "- Role Player\t1-2 WAR\n",
    "- Solid Starter\t2-3 WAR\n",
    "- Good Player\t3-4 WAR\n",
    "- All-Star\t4-5 WAR\n",
    "- Superstar\t5-6 WAR\n",
    "- MVP\t6+ WAR\n",
    "\n",
    "A higher WAR represents a pitcher's ability to win games for their team. A higher WAR means success, while a low or negative WAR indicates a pitcher was not successful for their team.\n",
    "\n",
    "That being said, baseball is a very complex game and summarizing everything into one number can't be done without losing fine details that really help define what a player is about.\n"
   ]
  },
  {
   "cell_type": "markdown",
   "id": "d241a94d",
   "metadata": {},
   "source": [
    "Let's look at WAR"
   ]
  },
  {
   "cell_type": "code",
   "execution_count": 243,
   "id": "35928908",
   "metadata": {},
   "outputs": [
    {
     "data": {
      "text/plain": [
       "count    2283.000000\n",
       "mean        0.629742\n",
       "std         1.161358\n",
       "min        -1.400000\n",
       "25%        -0.100000\n",
       "50%         0.300000\n",
       "75%         0.900000\n",
       "max         9.000000\n",
       "Name: WAR, dtype: float64"
      ]
     },
     "execution_count": 243,
     "metadata": {},
     "output_type": "execute_result"
    }
   ],
   "source": [
    "pitching_data['WAR'].describe()"
   ]
  },
  {
   "cell_type": "markdown",
   "id": "38b4b215",
   "metadata": {},
   "source": [
    "Two things stick out to me. \n",
    "1. The standard deviation is greater than the mean implying WAR is heavily skewed.\n",
    "2. 75% of pitchers have a WAR under ~1. According to Fangraphs, 3/4 of mlb pitchers are scrubs? May need to reavaluate what scrub means\n",
    "\n",
    "Let's look at a graph."
   ]
  },
  {
   "cell_type": "code",
   "execution_count": 244,
   "id": "5685d231",
   "metadata": {},
   "outputs": [
    {
     "data": {
      "image/png": "[encoded data removed]",
      "text/plain": [
       "<Figure size 432x288 with 1 Axes>"
      ]
     },
     "metadata": {
      "needs_background": "light"
     },
     "output_type": "display_data"
    }
   ],
   "source": [
    "#get histogram of WAR\n",
    "pitching_data['WAR'].hist(bins='scott')\n",
    "plt.xlabel('WAR')\n",
    "plt.ylabel('Count')\n",
    "plt.title('Histogram of WAR in Seasons 2017-2021')\n",
    "plt.show()"
   ]
  },
  {
   "cell_type": "markdown",
   "id": "26134846",
   "metadata": {},
   "source": [
    "We see above that the above histogram is positively skewed. This makes sense as the All-star caliber pitchers are in a league of their own, while most of the pitchers in the league are competing at similar levels. We also see that many pitcher's have negative WAR, meaning loosely that they are worse than their replacement."
   ]
  },
  {
   "cell_type": "markdown",
   "id": "be76c633",
   "metadata": {},
   "source": [
    "While Fangraphs describes a scrub pitcher as between a 0-1 WAR, I'm going to define an unsuccessful pitcher with a __0 or negative WAR__. This is because, looking at the histogram above, most major league pitchers have a WAR between 0-1. A large amount of the best pitchers in the world play in the MLB, so to be playing as well as most of your peers warrents a success from my perspective. It is only when there is someone not in the major leagues who can take your place and do a better job is when I say that you have been unsuccessful. \n",
    "\n",
    "__Assumption__: A successful pitcher has a WAR > 0. An unsuccessful pitcher has a WAR <= 0. This was arbitrarly chosen by myself as the determination of whether someone is successful or not is wholly subjective. Therefore, in no way whatsoever is this objective. In fact, I am certain there is going to be a great pitcher who finds themself on the wrong side of this assumption. However, this is a conservative assumption. I believe setting a WAR <= 0, is more than enough room for a successful pitcher to put up sub-par or unlucky numbers but still make the cut (i.e. more sub-par pitchers will be considered successful than above-par pitchers successful).\n"
   ]
  },
  {
   "cell_type": "code",
   "execution_count": 245,
   "id": "c9d5a34f",
   "metadata": {},
   "outputs": [
    {
     "name": "stdout",
     "output_type": "stream",
     "text": [
      "number of unsuccessful pitchers: 785\n"
     ]
    }
   ],
   "source": [
    "print('number of unsuccessful pitchers:', pitching_data[pitching_data['WAR']<=0].shape[0])"
   ]
  },
  {
   "cell_type": "code",
   "execution_count": 246,
   "id": "ff9d53fb",
   "metadata": {},
   "outputs": [
    {
     "name": "stdout",
     "output_type": "stream",
     "text": [
      "number of successful pitchers: 1498\n"
     ]
    }
   ],
   "source": [
    "print('number of successful pitchers:', pitching_data[pitching_data['WAR']>0].shape[0])"
   ]
  },
  {
   "cell_type": "markdown",
   "id": "a38fcb66",
   "metadata": {},
   "source": [
    "Since I want to answer the simple question, \"Will this pitcher be successful\", let's create a binary feature that states the pitcher is successful or unsucessful. This column called \"successful\" will represent two different classes, which turns this problem into a classification problem if we use \"successful\" as the response variable instead of \"WAR\""
   ]
  },
  {
   "cell_type": "code",
   "execution_count": 247,
   "id": "9684be17",
   "metadata": {
    "scrolled": true
   },
   "outputs": [
    {
     "data": {
      "text/html": [
       "<div>\n",
       "<style scoped>\n",
       "    .dataframe tbody tr th:only-of-type {\n",
       "        vertical-align: middle;\n",
       "    }\n",
       "\n",
       "    .dataframe tbody tr th {\n",
       "        vertical-align: top;\n",
       "    }\n",
       "\n",
       "    .dataframe thead th {\n",
       "        text-align: right;\n",
       "    }\n",
       "</style>\n",
       "<table border=\"1\" class=\"dataframe\">\n",
       "  <thead>\n",
       "    <tr style=\"text-align: right;\">\n",
       "      <th></th>\n",
       "      <th>Unnamed: 0</th>\n",
       "      <th>last_name</th>\n",
       "      <th>first_name</th>\n",
       "      <th>mlbam_id</th>\n",
       "      <th>ff_avg_speed</th>\n",
       "      <th>si_avg_speed</th>\n",
       "      <th>fc_avg_speed</th>\n",
       "      <th>sl_avg_speed</th>\n",
       "      <th>ch_avg_speed</th>\n",
       "      <th>cu_avg_speed</th>\n",
       "      <th>...</th>\n",
       "      <th>WAR</th>\n",
       "      <th>K/9</th>\n",
       "      <th>ERA</th>\n",
       "      <th>Fav_pitch</th>\n",
       "      <th>Fav_pitch_2</th>\n",
       "      <th>Num_pitches</th>\n",
       "      <th>throws</th>\n",
       "      <th>weight</th>\n",
       "      <th>height</th>\n",
       "      <th>successful</th>\n",
       "    </tr>\n",
       "  </thead>\n",
       "  <tbody>\n",
       "    <tr>\n",
       "      <th>0</th>\n",
       "      <td>0</td>\n",
       "      <td>Clase</td>\n",
       "      <td>Emmanuel</td>\n",
       "      <td>661403</td>\n",
       "      <td>100.7</td>\n",
       "      <td>NaN</td>\n",
       "      <td>100.2</td>\n",
       "      <td>91.9</td>\n",
       "      <td>NaN</td>\n",
       "      <td>NaN</td>\n",
       "      <td>...</td>\n",
       "      <td>2.2</td>\n",
       "      <td>9.56</td>\n",
       "      <td>1.29</td>\n",
       "      <td>fc</td>\n",
       "      <td>sl</td>\n",
       "      <td>3</td>\n",
       "      <td>R</td>\n",
       "      <td>206.0</td>\n",
       "      <td>74.0</td>\n",
       "      <td>1</td>\n",
       "    </tr>\n",
       "    <tr>\n",
       "      <th>1</th>\n",
       "      <td>1</td>\n",
       "      <td>Clase</td>\n",
       "      <td>Emmanuel</td>\n",
       "      <td>661403</td>\n",
       "      <td>99.5</td>\n",
       "      <td>NaN</td>\n",
       "      <td>99.2</td>\n",
       "      <td>90.5</td>\n",
       "      <td>NaN</td>\n",
       "      <td>NaN</td>\n",
       "      <td>...</td>\n",
       "      <td>0.4</td>\n",
       "      <td>8.10</td>\n",
       "      <td>2.31</td>\n",
       "      <td>fc</td>\n",
       "      <td>sl</td>\n",
       "      <td>3</td>\n",
       "      <td>R</td>\n",
       "      <td>206.0</td>\n",
       "      <td>74.0</td>\n",
       "      <td>1</td>\n",
       "    </tr>\n",
       "    <tr>\n",
       "      <th>2</th>\n",
       "      <td>2</td>\n",
       "      <td>Hicks</td>\n",
       "      <td>Jordan</td>\n",
       "      <td>663855</td>\n",
       "      <td>100.5</td>\n",
       "      <td>99.2</td>\n",
       "      <td>87.2</td>\n",
       "      <td>83.5</td>\n",
       "      <td>90.2</td>\n",
       "      <td>NaN</td>\n",
       "      <td>...</td>\n",
       "      <td>0.0</td>\n",
       "      <td>9.00</td>\n",
       "      <td>5.40</td>\n",
       "      <td>si</td>\n",
       "      <td>fc</td>\n",
       "      <td>5</td>\n",
       "      <td>R</td>\n",
       "      <td>220.0</td>\n",
       "      <td>74.0</td>\n",
       "      <td>0</td>\n",
       "    </tr>\n",
       "    <tr>\n",
       "      <th>3</th>\n",
       "      <td>3</td>\n",
       "      <td>Hicks</td>\n",
       "      <td>Jordan</td>\n",
       "      <td>663855</td>\n",
       "      <td>100.9</td>\n",
       "      <td>101.1</td>\n",
       "      <td>NaN</td>\n",
       "      <td>87.0</td>\n",
       "      <td>91.0</td>\n",
       "      <td>NaN</td>\n",
       "      <td>...</td>\n",
       "      <td>0.5</td>\n",
       "      <td>9.73</td>\n",
       "      <td>3.14</td>\n",
       "      <td>si</td>\n",
       "      <td>sl</td>\n",
       "      <td>3</td>\n",
       "      <td>R</td>\n",
       "      <td>220.0</td>\n",
       "      <td>74.0</td>\n",
       "      <td>1</td>\n",
       "    </tr>\n",
       "    <tr>\n",
       "      <th>4</th>\n",
       "      <td>4</td>\n",
       "      <td>Hicks</td>\n",
       "      <td>Jordan</td>\n",
       "      <td>663855</td>\n",
       "      <td>100.9</td>\n",
       "      <td>100.5</td>\n",
       "      <td>NaN</td>\n",
       "      <td>86.2</td>\n",
       "      <td>NaN</td>\n",
       "      <td>NaN</td>\n",
       "      <td>...</td>\n",
       "      <td>0.5</td>\n",
       "      <td>8.11</td>\n",
       "      <td>3.59</td>\n",
       "      <td>si</td>\n",
       "      <td>sl</td>\n",
       "      <td>3</td>\n",
       "      <td>R</td>\n",
       "      <td>220.0</td>\n",
       "      <td>74.0</td>\n",
       "      <td>1</td>\n",
       "    </tr>\n",
       "  </tbody>\n",
       "</table>\n",
       "<p>5 rows × 39 columns</p>\n",
       "</div>"
      ],
      "text/plain": [
       "   Unnamed: 0 last_name  first_name  mlbam_id  ff_avg_speed  si_avg_speed  \\\n",
       "0           0     Clase    Emmanuel    661403         100.7           NaN   \n",
       "1           1     Clase    Emmanuel    661403          99.5           NaN   \n",
       "2           2     Hicks      Jordan    663855         100.5          99.2   \n",
       "3           3     Hicks      Jordan    663855         100.9         101.1   \n",
       "4           4     Hicks      Jordan    663855         100.9         100.5   \n",
       "\n",
       "   fc_avg_speed  sl_avg_speed  ch_avg_speed  cu_avg_speed  ...  WAR   K/9  \\\n",
       "0         100.2          91.9           NaN           NaN  ...  2.2  9.56   \n",
       "1          99.2          90.5           NaN           NaN  ...  0.4  8.10   \n",
       "2          87.2          83.5          90.2           NaN  ...  0.0  9.00   \n",
       "3           NaN          87.0          91.0           NaN  ...  0.5  9.73   \n",
       "4           NaN          86.2           NaN           NaN  ...  0.5  8.11   \n",
       "\n",
       "    ERA  Fav_pitch  Fav_pitch_2  Num_pitches  throws  weight  height  \\\n",
       "0  1.29         fc           sl            3       R   206.0    74.0   \n",
       "1  2.31         fc           sl            3       R   206.0    74.0   \n",
       "2  5.40         si           fc            5       R   220.0    74.0   \n",
       "3  3.14         si           sl            3       R   220.0    74.0   \n",
       "4  3.59         si           sl            3       R   220.0    74.0   \n",
       "\n",
       "   successful  \n",
       "0           1  \n",
       "1           1  \n",
       "2           0  \n",
       "3           1  \n",
       "4           1  \n",
       "\n",
       "[5 rows x 39 columns]"
      ]
     },
     "execution_count": 247,
     "metadata": {},
     "output_type": "execute_result"
    }
   ],
   "source": [
    "#Let's make a new column called \"successful\" that is a 1 if a pitcher has a successful season (postive WAR), 0 otherwise\n",
    "def success_of_pitcher(WAR):\n",
    "    if WAR > 0:\n",
    "        return 1\n",
    "    else:\n",
    "        return 0\n",
    "    \n",
    "pitching_data['successful'] = pitching_data['WAR'].apply(success_of_pitcher)\n",
    "pitching_data.head()"
   ]
  },
  {
   "cell_type": "markdown",
   "id": "ff4afeb5",
   "metadata": {},
   "source": [
    "In short, if this is a classification problem __Response Variable = successful__\n",
    "\n",
    "If this is a predicting a continuous value problem (regression): __Response Variable = WAR__\n",
    "\n",
    "However, both problems are using WAR as something we want to predict."
   ]
  },
  {
   "cell_type": "markdown",
   "id": "11297627",
   "metadata": {},
   "source": [
    "## Feature Selection\n",
    "For this next portion, I try to justify why we may consider using certain features in the machine learning model. A lot of this is checking for colinearity between features to remove unecessary data and using knowledge about the game of baseball."
   ]
  },
  {
   "cell_type": "markdown",
   "id": "64008233",
   "metadata": {},
   "source": [
    "## Pitch Speed and Spin"
   ]
  },
  {
   "cell_type": "markdown",
   "id": "445b6b7e",
   "metadata": {},
   "source": [
    "We have information about the velocity and spin (number of rotations per minute) for every pitch thrown by each pitcher. However, is all of this information \"relevant\" to our model. We do not want to put highly correlated feautres in our model in predicting WAR. Pitchers who throw a high speed fastball most likely throws a higher speed curveball than a pitcher who throws a slow fastball. "
   ]
  },
  {
   "cell_type": "markdown",
   "id": "bc8145eb",
   "metadata": {},
   "source": [
    "### Pitch Speeds"
   ]
  },
  {
   "cell_type": "markdown",
   "id": "7a58c26a",
   "metadata": {},
   "source": [
    "Theoretically, pitchers who throw hard are more difficult to hit. That is because the batter is given less time to swing their bat, and therefore have a more slim margin error. That is why pitchers who hit triple digits (100 mph) are highly valued in baseball since they can overpower the opponent with their fastest pitch. However, pitch speed is only one element of the puzzle. \n",
    "\n",
    "While it is obvious to consider a pitcher's fastest pitch (usually a fastball or sinker), should we consider the speeds of lower pitches. Let's look at the correlations, as we do not want our features to be highly correlated when fitting the model."
   ]
  },
  {
   "cell_type": "markdown",
   "id": "16debe14",
   "metadata": {},
   "source": [
    "Below is fastball versus sinker, fastball versus curveball."
   ]
  },
  {
   "cell_type": "code",
   "execution_count": 248,
   "id": "8eb9b8c7",
   "metadata": {
    "scrolled": true
   },
   "outputs": [
    {
     "name": "stdout",
     "output_type": "stream",
     "text": [
      "              ff_avg_speed  si_avg_speed\n",
      "ff_avg_speed      1.000000      0.946932\n",
      "si_avg_speed      0.946932      1.000000\n",
      "\n",
      "\n",
      "              ff_avg_speed  cu_avg_speed\n",
      "ff_avg_speed      1.000000      0.601944\n",
      "cu_avg_speed      0.601944      1.000000\n"
     ]
    },
    {
     "data": {
      "image/png": "[encoded data removed]",
      "text/plain": [
       "<Figure size 432x288 with 1 Axes>"
      ]
     },
     "metadata": {
      "needs_background": "light"
     },
     "output_type": "display_data"
    },
    {
     "data": {
      "image/png": "[encoded data removed]",
      "text/plain": [
       "<Figure size 432x288 with 1 Axes>"
      ]
     },
     "metadata": {
      "needs_background": "light"
     },
     "output_type": "display_data"
    }
   ],
   "source": [
    "# fastball vs sinker (speeds)\n",
    "pitching_data.plot(kind='scatter', x = 'ff_avg_speed', y='si_avg_speed');\n",
    "print(pitching_data[['ff_avg_speed', 'si_avg_speed']].corr())\n",
    "\n",
    "#fastball vs curveball (speeds)\n",
    "print('\\n')\n",
    "pitching_data.plot(kind='scatter', x = 'ff_avg_speed', y='cu_avg_speed');\n",
    "print(pitching_data[['ff_avg_speed', 'cu_avg_speed']].corr())"
   ]
  },
  {
   "cell_type": "markdown",
   "id": "2f679135",
   "metadata": {},
   "source": [
    "Fastballs and sinkers are extremely highly correlated in terms of speed, so we should consider these the same speed wise."
   ]
  },
  {
   "cell_type": "markdown",
   "id": "73fa91d1",
   "metadata": {},
   "source": [
    "Fastball and curveball speeds are moderately correlated. However, a curveball's speed is rarely what makes this pitch useful, so I am considering not using it."
   ]
  },
  {
   "cell_type": "markdown",
   "id": "62f817f0",
   "metadata": {},
   "source": [
    "Let's look at the heatmap if there are any other findings."
   ]
  },
  {
   "cell_type": "code",
   "execution_count": 249,
   "id": "c8e4f8c2",
   "metadata": {
    "scrolled": true
   },
   "outputs": [
    {
     "data": {
      "image/png": "[encoded data removed]",
      "text/plain": [
       "<Figure size 864x720 with 2 Axes>"
      ]
     },
     "metadata": {
      "needs_background": "light"
     },
     "output_type": "display_data"
    }
   ],
   "source": [
    "# plot correlation heatmap using seaborne\n",
    "fig, ax = plt.subplots(figsize = (12,10))\n",
    "sns.heatmap(pitching_data_2021[['ff_avg_speed', 'si_avg_speed',\n",
    "       'fc_avg_speed', 'sl_avg_speed', 'ch_avg_speed', 'cu_avg_speed',\n",
    "       'fs_avg_speed']].corr(), ax=ax);"
   ]
  },
  {
   "cell_type": "markdown",
   "id": "804b1c58",
   "metadata": {},
   "source": [
    "__Takeaway__: Because the speeds of each pitch are highly to moderately correlated, I don't think it is worth considering more than one feature when measuring a pitcher's speed. Really, velocity is important to pitches such as the fastball or sinker that are thrown to get batters to swing late."
   ]
  },
  {
   "cell_type": "markdown",
   "id": "69d99405",
   "metadata": {},
   "source": [
    "Therefore we may consider just the pitcher's __fastest pitch__ as a measure of a pitcher's speed."
   ]
  },
  {
   "cell_type": "markdown",
   "id": "3b90831d",
   "metadata": {},
   "source": [
    "Typically, a pitcher's fastest pitch is either their fastball, sinker, or cutter. Let's create a new column called average fastest speed that contains the average speed of the pitcher's fastest pitch"
   ]
  },
  {
   "cell_type": "markdown",
   "id": "d0b75095",
   "metadata": {},
   "source": [
    "The function below assumes that the fastball is the fastest pitch, followed by sinker, then cutter (in theory this should be the case). However, not all pitchers throw a fastball, so a pitcher's fastest pitch may be a sinker or a cutter. The logic is shown in the function."
   ]
  },
  {
   "cell_type": "code",
   "execution_count": 250,
   "id": "df97c656",
   "metadata": {},
   "outputs": [],
   "source": [
    "# Function: get average of fastest speed\n",
    "# Parameters: Pitching data\n",
    "# Purpose: Stores the average velocity of a pitcher's fastest pitch into the avg_fastest_speed column.\n",
    "#          This is done by assuming the fastball is the fastest pitch, but if a pitcher doesn't throw a fastball\n",
    "#          then it is a sinker. If a pitcher doesn't throw a fastball or a sinker, then the pitch is a cutter.\n",
    "\n",
    "def get_avg_fastest_speed(pitching_df):\n",
    "    for i in range(pitching_df.shape[0]):\n",
    "        \n",
    "        # if a pitcher throws a fastball, that is the pitcher's fastest pitch\n",
    "        if math.isnan(pitching_df['ff_avg_speed'].loc[i]) == False:\n",
    "            pitching_df['avg_fastest_speed'].loc[i] = pitching_df['ff_avg_speed'].loc[i]\n",
    "        \n",
    "        # if a pitcher doesn't throw a fastball but throws a sinker, then the fastest pitch is a sinker\n",
    "        elif math.isnan(pitching_df['si_avg_speed'].loc[i]) == False:\n",
    "            pitching_df['avg_fastest_speed'].loc[i] = pitching_df['si_avg_speed'].loc[i]\n",
    "        \n",
    "        # if a pitcher doesn't throw a fastball or a sinker, then it must be a cutter\n",
    "        else:\n",
    "            pitching_df['avg_fastest_speed'].loc[i] = pitching_df['fc_avg_speed'].loc[i]\n",
    "    \n",
    "    return pitching_df"
   ]
  },
  {
   "cell_type": "markdown",
   "id": "9835da81",
   "metadata": {},
   "source": [
    "Let's create this new \"fastest pitch\" column."
   ]
  },
  {
   "cell_type": "code",
   "execution_count": 251,
   "id": "baf5ea05",
   "metadata": {},
   "outputs": [
    {
     "name": "stderr",
     "output_type": "stream",
     "text": [
      "C:\\Users\\605089\\Anaconda3\\lib\\site-packages\\pandas\\core\\indexing.py:1637: SettingWithCopyWarning: \n",
      "A value is trying to be set on a copy of a slice from a DataFrame\n",
      "\n",
      "See the caveats in the documentation: https://pandas.pydata.org/pandas-docs/stable/user_guide/indexing.html#returning-a-view-versus-a-copy\n",
      "  self._setitem_single_block(indexer, value, name)\n"
     ]
    }
   ],
   "source": [
    "# create new column called avg_fastest_speed\n",
    "pitching_data['avg_fastest_speed'] = 0\n",
    "\n",
    "# run the function in the cell above to fill values in avg_fastest_speed\n",
    "pitching_data = get_avg_fastest_speed(pitching_data.copy())\n",
    "\n"
   ]
  },
  {
   "cell_type": "markdown",
   "id": "c8511887",
   "metadata": {},
   "source": [
    "Check if we are missing any pitcher's (a pitcher who doesn't throw a fastball, sinker, or cutter)"
   ]
  },
  {
   "cell_type": "code",
   "execution_count": 252,
   "id": "bdbcb145",
   "metadata": {},
   "outputs": [
    {
     "data": {
      "text/plain": [
       "0"
      ]
     },
     "execution_count": 252,
     "metadata": {},
     "output_type": "execute_result"
    }
   ],
   "source": [
    "# check if we are missing a pitcher's fastest pitch\n",
    "pitching_data['avg_fastest_speed'].isnull().sum()"
   ]
  },
  {
   "cell_type": "markdown",
   "id": "8bd0d6de",
   "metadata": {},
   "source": [
    "Compare to WAR"
   ]
  },
  {
   "cell_type": "code",
   "execution_count": 253,
   "id": "33006f49",
   "metadata": {},
   "outputs": [
    {
     "data": {
      "text/html": [
       "<div>\n",
       "<style scoped>\n",
       "    .dataframe tbody tr th:only-of-type {\n",
       "        vertical-align: middle;\n",
       "    }\n",
       "\n",
       "    .dataframe tbody tr th {\n",
       "        vertical-align: top;\n",
       "    }\n",
       "\n",
       "    .dataframe thead th {\n",
       "        text-align: right;\n",
       "    }\n",
       "</style>\n",
       "<table border=\"1\" class=\"dataframe\">\n",
       "  <thead>\n",
       "    <tr style=\"text-align: right;\">\n",
       "      <th></th>\n",
       "      <th>avg_fastest_speed</th>\n",
       "      <th>WAR</th>\n",
       "    </tr>\n",
       "  </thead>\n",
       "  <tbody>\n",
       "    <tr>\n",
       "      <th>avg_fastest_speed</th>\n",
       "      <td>1.000000</td>\n",
       "      <td>0.112899</td>\n",
       "    </tr>\n",
       "    <tr>\n",
       "      <th>WAR</th>\n",
       "      <td>0.112899</td>\n",
       "      <td>1.000000</td>\n",
       "    </tr>\n",
       "  </tbody>\n",
       "</table>\n",
       "</div>"
      ],
      "text/plain": [
       "                   avg_fastest_speed       WAR\n",
       "avg_fastest_speed           1.000000  0.112899\n",
       "WAR                         0.112899  1.000000"
      ]
     },
     "execution_count": 253,
     "metadata": {},
     "output_type": "execute_result"
    },
    {
     "data": {
      "image/png": "[encoded data removed]",
      "text/plain": [
       "<Figure size 432x288 with 1 Axes>"
      ]
     },
     "metadata": {
      "needs_background": "light"
     },
     "output_type": "display_data"
    }
   ],
   "source": [
    "#graph the fastest speed of pitchers compared to their WAR to see if we could use it as a feature\n",
    "\n",
    "pitching_data.plot(kind='scatter', x='avg_fastest_speed', y='WAR')\n",
    "pitching_data[['avg_fastest_speed', 'WAR']].corr()"
   ]
  },
  {
   "cell_type": "markdown",
   "id": "e49cca02",
   "metadata": {},
   "source": [
    "Speed has a correlation with WAR, but it is farily low, which means that speed is only one piece of the puzzle in a pitcher's success."
   ]
  },
  {
   "cell_type": "markdown",
   "id": "ac5140bb",
   "metadata": {},
   "source": [
    "### Pitching Spin\n",
    "(This is a long section. To summarize the results of this EDA, I end up creating a new feature that averages the spin of each pitch called 'avg_spin'. However, 'avg_spin' excludes changeups and splitters because I find out the spin on those pitches are outliers compared to the others)"
   ]
  },
  {
   "cell_type": "markdown",
   "id": "d86873c3",
   "metadata": {},
   "source": [
    "A pitch's spin is the rotations per minute of the ball thrown. This is a more advanced measurement that has only come in the recent decade. In recent years, Pitcher's have been using sticky substances on their hands to artificially increase the spin rate of their pitches as a method to increase their odds of success (current hot topic in baseball). \n",
    "\n",
    "Let's see if we need to combine spin into one feature similar to speed based on if they are colinear or not."
   ]
  },
  {
   "cell_type": "code",
   "execution_count": 254,
   "id": "69b726ba",
   "metadata": {
    "scrolled": true
   },
   "outputs": [
    {
     "name": "stdout",
     "output_type": "stream",
     "text": [
      "             ff_avg_spin  si_avg_spin\n",
      "ff_avg_spin     1.000000     0.823161\n",
      "si_avg_spin     0.823161     1.000000\n",
      "\n",
      "\n",
      "             ff_avg_spin  cu_avg_spin\n",
      "ff_avg_spin     1.000000     0.477528\n",
      "cu_avg_spin     0.477528     1.000000\n",
      "\n",
      "\n",
      "             ff_avg_spin  ch_avg_spin\n",
      "ff_avg_spin     1.000000     0.267582\n",
      "ch_avg_spin     0.267582     1.000000\n",
      "\n",
      "\n",
      "             ff_avg_spin  fs_avg_spin\n",
      "ff_avg_spin     1.000000     0.223343\n",
      "fs_avg_spin     0.223343     1.000000\n"
     ]
    },
    {
     "data": {
      "image/png": "[encoded data removed]",
      "text/plain": [
       "<Figure size 432x288 with 1 Axes>"
      ]
     },
     "metadata": {
      "needs_background": "light"
     },
     "output_type": "display_data"
    },
    {
     "data": {
      "image/png": "[encoded data removed]",
      "text/plain": [
       "<Figure size 432x288 with 1 Axes>"
      ]
     },
     "metadata": {
      "needs_background": "light"
     },
     "output_type": "display_data"
    },
    {
     "data": {
      "image/png": "[encoded data removed]",
      "text/plain": [
       "<Figure size 432x288 with 1 Axes>"
      ]
     },
     "metadata": {
      "needs_background": "light"
     },
     "output_type": "display_data"
    },
    {
     "data": {
      "image/png": "[encoded data removed]",
      "text/plain": [
       "<Figure size 432x288 with 1 Axes>"
      ]
     },
     "metadata": {
      "needs_background": "light"
     },
     "output_type": "display_data"
    }
   ],
   "source": [
    "# fastball vs sinker (spin)\n",
    "pitching_data_2021.plot(kind='scatter', x = 'ff_avg_spin', y='si_avg_spin');\n",
    "print(pitching_data_2021[['ff_avg_spin', 'si_avg_spin']].corr())\n",
    "\n",
    "print('\\n')\n",
    "\n",
    "# fastball vs curveball (spin)\n",
    "pitching_data_2021.plot(kind='scatter', x = 'ff_avg_spin', y='cu_avg_spin');\n",
    "print(pitching_data_2021[['ff_avg_spin', 'cu_avg_spin']].corr())\n",
    "\n",
    "print('\\n')\n",
    "\n",
    "# fastball versus changeup (spin)\n",
    "pitching_data_2021.plot(kind='scatter', x = 'ff_avg_spin', y='ch_avg_spin');\n",
    "print(pitching_data_2021[['ff_avg_spin', 'ch_avg_spin']].corr())\n",
    "\n",
    "print('\\n')\n",
    "\n",
    "#fastball vs cutter (spin)\n",
    "pitching_data_2021.plot(kind='scatter', x = 'ff_avg_spin', y='fs_avg_spin');\n",
    "print(pitching_data_2021[['ff_avg_spin', 'fs_avg_spin']].corr())"
   ]
  },
  {
   "cell_type": "markdown",
   "id": "2b7cba32",
   "metadata": {},
   "source": [
    "1. Fastball and sinker are very similar in their average spin.\n",
    "2. Fastball and curveballs are moderately correlated in their spin. \n",
    "3. Fastballs and changeups are weakly correlated in their spin. This is interesting as changeups seem to be the most random in their spin as a function of the spin of that same pitcher's fastball. This is most likely due to the fact that a changeup is meant to be a pitch to decieve a batter in solely its speed and not its movement.\n",
    "4. Splitters are less correlated. However, the points are quite sparse, so it would be interesting to see the restuls with more data points. The splitter is similar to the changeup in its use, so I expect a similar result to the changeup."
   ]
  },
  {
   "cell_type": "markdown",
   "id": "9f3834c0",
   "metadata": {},
   "source": [
    "Let's look at a heatmap."
   ]
  },
  {
   "cell_type": "code",
   "execution_count": 255,
   "id": "06d5ec43",
   "metadata": {
    "scrolled": true
   },
   "outputs": [
    {
     "data": {
      "image/png": "[encoded data removed]",
      "text/plain": [
       "<Figure size 864x720 with 2 Axes>"
      ]
     },
     "metadata": {
      "needs_background": "light"
     },
     "output_type": "display_data"
    }
   ],
   "source": [
    "#seaborne heatmap of spin\n",
    "fig, ax = plt.subplots(figsize = (12,10))\n",
    "sns.heatmap(pitching_data_2021[['ff_avg_spin', 'si_avg_spin',\n",
    "       'fc_avg_spin', 'sl_avg_spin', 'ch_avg_spin', 'cu_avg_spin', 'fs_avg_spin']].corr(), ax=ax);"
   ]
  },
  {
   "cell_type": "markdown",
   "id": "d4089fcb",
   "metadata": {},
   "source": [
    "__Looking above__ there seem to be _three_ groups:\n",
    "1. Fastballs (ff, si, fc) are highly correlated in terms of spin\n",
    "2. Breaking balls (cu, sl) are moderately correlated, but curveball seems to align better with the slider than fastballs.\n",
    "3. Changeups and splitters (ch, fs) are the odd ones out with a negative correlation. Changeups seem to be the least correlated to fastballs."
   ]
  },
  {
   "cell_type": "markdown",
   "id": "66976db8",
   "metadata": {},
   "source": [
    "To analyze further, let' seperate each pitch and graph via a box plot."
   ]
  },
  {
   "cell_type": "code",
   "execution_count": 256,
   "id": "b78a1042",
   "metadata": {
    "scrolled": true
   },
   "outputs": [
    {
     "data": {
      "image/png": "[encoded data removed]",
      "text/plain": [
       "<Figure size 432x288 with 1 Axes>"
      ]
     },
     "metadata": {
      "needs_background": "light"
     },
     "output_type": "display_data"
    }
   ],
   "source": [
    "fig, ax = plt.subplots()\n",
    "\n",
    "pitch_types = ['fastball', 'sinker', 'cutter', 'slider', 'changeup', 'curveball', 'splitter']\n",
    "\n",
    "pitching_data[['ff_avg_spin', 'si_avg_spin',\n",
    "       'fc_avg_spin', 'sl_avg_spin', 'ch_avg_spin', 'cu_avg_spin',\n",
    "       'fs_avg_spin']].plot(kind='box', rot=90, ax = ax);\n",
    "\n",
    "ax.set_xticklabels(pitch_types)\n",
    "plt.title('Average Spin for Different Pitches 2021');"
   ]
  },
  {
   "cell_type": "markdown",
   "id": "5b9fea22",
   "metadata": {},
   "source": [
    "1. Group 1 (fastball, sinker, and cutter) seem to have similar spins.\n",
    "2. Group 2 (breaking balls) generally the greatest amount of spin (slider and curveball)\n",
    "3. Group 3 (changeups and splitters) have by far the lowest spin"
   ]
  },
  {
   "cell_type": "markdown",
   "id": "5af53d09",
   "metadata": {},
   "source": [
    "__Idea__: What if we seperate spin by these three groups. A spin for fastballs, a spin for breaking balls, and a spin for changeups."
   ]
  },
  {
   "cell_type": "markdown",
   "id": "13a69563",
   "metadata": {},
   "source": [
    "Based on the above heatmap, I am fairly confident in combining the fastball, sinker, and cutter into one fastball spin feature (because they are highly correlated and have similar values of spin). "
   ]
  },
  {
   "cell_type": "code",
   "execution_count": 257,
   "id": "ceebc6e2",
   "metadata": {},
   "outputs": [],
   "source": [
    "#create new column avg_fastball_spin that contains the mean of fastball spin, sinker spin, and cutter spin\n",
    "pitching_data['avg_fastball_spin'] = round(pitching_data[['ff_avg_spin', 'si_avg_spin', 'fc_avg_spin']].mean(axis=1), 1)"
   ]
  },
  {
   "cell_type": "markdown",
   "id": "1504566c",
   "metadata": {},
   "source": [
    "However, let's look at the breaking ball, curveball's versus sliders."
   ]
  },
  {
   "cell_type": "code",
   "execution_count": 258,
   "id": "a468a55a",
   "metadata": {},
   "outputs": [
    {
     "data": {
      "text/html": [
       "<div>\n",
       "<style scoped>\n",
       "    .dataframe tbody tr th:only-of-type {\n",
       "        vertical-align: middle;\n",
       "    }\n",
       "\n",
       "    .dataframe tbody tr th {\n",
       "        vertical-align: top;\n",
       "    }\n",
       "\n",
       "    .dataframe thead th {\n",
       "        text-align: right;\n",
       "    }\n",
       "</style>\n",
       "<table border=\"1\" class=\"dataframe\">\n",
       "  <thead>\n",
       "    <tr style=\"text-align: right;\">\n",
       "      <th></th>\n",
       "      <th>sl_avg_spin</th>\n",
       "      <th>cu_avg_spin</th>\n",
       "    </tr>\n",
       "  </thead>\n",
       "  <tbody>\n",
       "    <tr>\n",
       "      <th>sl_avg_spin</th>\n",
       "      <td>1.000000</td>\n",
       "      <td>0.704514</td>\n",
       "    </tr>\n",
       "    <tr>\n",
       "      <th>cu_avg_spin</th>\n",
       "      <td>0.704514</td>\n",
       "      <td>1.000000</td>\n",
       "    </tr>\n",
       "  </tbody>\n",
       "</table>\n",
       "</div>"
      ],
      "text/plain": [
       "             sl_avg_spin  cu_avg_spin\n",
       "sl_avg_spin     1.000000     0.704514\n",
       "cu_avg_spin     0.704514     1.000000"
      ]
     },
     "execution_count": 258,
     "metadata": {},
     "output_type": "execute_result"
    },
    {
     "data": {
      "image/png": "[encoded data removed]",
      "text/plain": [
       "<Figure size 432x288 with 1 Axes>"
      ]
     },
     "metadata": {
      "needs_background": "light"
     },
     "output_type": "display_data"
    }
   ],
   "source": [
    "#slider vs curveball (spin)\n",
    "pitching_data.plot(kind='scatter', x = 'sl_avg_spin', y='cu_avg_spin');\n",
    "pitching_data[['sl_avg_spin', 'cu_avg_spin']].corr()"
   ]
  },
  {
   "cell_type": "markdown",
   "id": "affe2854",
   "metadata": {},
   "source": [
    "Slider's spin and curveball's spin look very correlated. The box plot shows that they have similar values in spin, so I am confident in combining these two into a breaking ball spin feature."
   ]
  },
  {
   "cell_type": "code",
   "execution_count": 259,
   "id": "adc92152",
   "metadata": {},
   "outputs": [],
   "source": [
    "# create new column called avg_breaking_spin that contains the mean of slider and curveball spins\n",
    "pitching_data['avg_breaking_spin'] = round(pitching_data[['sl_avg_spin', 'cu_avg_spin']].mean(axis=1), 1)"
   ]
  },
  {
   "cell_type": "markdown",
   "id": "bd8ff785",
   "metadata": {},
   "source": [
    "Now let's look at the remaining two pitches: changeup and splitter."
   ]
  },
  {
   "cell_type": "code",
   "execution_count": 260,
   "id": "1b13cf84",
   "metadata": {
    "scrolled": true
   },
   "outputs": [
    {
     "data": {
      "text/html": [
       "<div>\n",
       "<style scoped>\n",
       "    .dataframe tbody tr th:only-of-type {\n",
       "        vertical-align: middle;\n",
       "    }\n",
       "\n",
       "    .dataframe tbody tr th {\n",
       "        vertical-align: top;\n",
       "    }\n",
       "\n",
       "    .dataframe thead th {\n",
       "        text-align: right;\n",
       "    }\n",
       "</style>\n",
       "<table border=\"1\" class=\"dataframe\">\n",
       "  <thead>\n",
       "    <tr style=\"text-align: right;\">\n",
       "      <th></th>\n",
       "      <th>ch_avg_spin</th>\n",
       "      <th>fs_avg_spin</th>\n",
       "    </tr>\n",
       "  </thead>\n",
       "  <tbody>\n",
       "    <tr>\n",
       "      <th>ch_avg_spin</th>\n",
       "      <td>1.000000</td>\n",
       "      <td>-0.386405</td>\n",
       "    </tr>\n",
       "    <tr>\n",
       "      <th>fs_avg_spin</th>\n",
       "      <td>-0.386405</td>\n",
       "      <td>1.000000</td>\n",
       "    </tr>\n",
       "  </tbody>\n",
       "</table>\n",
       "</div>"
      ],
      "text/plain": [
       "             ch_avg_spin  fs_avg_spin\n",
       "ch_avg_spin     1.000000    -0.386405\n",
       "fs_avg_spin    -0.386405     1.000000"
      ]
     },
     "execution_count": 260,
     "metadata": {},
     "output_type": "execute_result"
    },
    {
     "data": {
      "image/png": "[encoded data removed]",
      "text/plain": [
       "<Figure size 432x288 with 1 Axes>"
      ]
     },
     "metadata": {
      "needs_background": "light"
     },
     "output_type": "display_data"
    }
   ],
   "source": [
    "# changeup vs splitter (spin)\n",
    "pitching_data.plot(kind='scatter', x = 'ch_avg_spin', y='fs_avg_spin');\n",
    "pitching_data[['ch_avg_spin', 'fs_avg_spin']].corr()"
   ]
  },
  {
   "cell_type": "markdown",
   "id": "a3b448a2",
   "metadata": {},
   "source": [
    "This tells me they are not correlated. "
   ]
  },
  {
   "cell_type": "markdown",
   "id": "d99ed626",
   "metadata": {},
   "source": [
    "However, it is obvious spin behaves much differently for these pitches.  \n",
    "\n",
    "From my knowledge of the game, spin may not play a big role in the success of these pitches when executed. We see this as changeup and splitter spins on average are much lower than the other pitches (see box plot). Therefore, I propose ignoring the spin of changeups and splitters because spin is not what makes these pitches effective. Rather it is the deception of these pitches to look like a fastball to get a batter to swing early. \n"
   ]
  },
  {
   "cell_type": "markdown",
   "id": "21d413b1",
   "metadata": {},
   "source": [
    "__Assumption__: We will be ignoring changeup and splitter spin."
   ]
  },
  {
   "cell_type": "markdown",
   "id": "9f148206",
   "metadata": {},
   "source": [
    "Hence, we have two spins: fastball spin and breaking ball spin. Let's see how well correlated these two are."
   ]
  },
  {
   "cell_type": "code",
   "execution_count": 261,
   "id": "c8db756a",
   "metadata": {},
   "outputs": [
    {
     "data": {
      "text/html": [
       "<div>\n",
       "<style scoped>\n",
       "    .dataframe tbody tr th:only-of-type {\n",
       "        vertical-align: middle;\n",
       "    }\n",
       "\n",
       "    .dataframe tbody tr th {\n",
       "        vertical-align: top;\n",
       "    }\n",
       "\n",
       "    .dataframe thead th {\n",
       "        text-align: right;\n",
       "    }\n",
       "</style>\n",
       "<table border=\"1\" class=\"dataframe\">\n",
       "  <thead>\n",
       "    <tr style=\"text-align: right;\">\n",
       "      <th></th>\n",
       "      <th>avg_fastball_spin</th>\n",
       "      <th>avg_breaking_spin</th>\n",
       "    </tr>\n",
       "  </thead>\n",
       "  <tbody>\n",
       "    <tr>\n",
       "      <th>avg_fastball_spin</th>\n",
       "      <td>1.000000</td>\n",
       "      <td>0.489571</td>\n",
       "    </tr>\n",
       "    <tr>\n",
       "      <th>avg_breaking_spin</th>\n",
       "      <td>0.489571</td>\n",
       "      <td>1.000000</td>\n",
       "    </tr>\n",
       "  </tbody>\n",
       "</table>\n",
       "</div>"
      ],
      "text/plain": [
       "                   avg_fastball_spin  avg_breaking_spin\n",
       "avg_fastball_spin           1.000000           0.489571\n",
       "avg_breaking_spin           0.489571           1.000000"
      ]
     },
     "execution_count": 261,
     "metadata": {},
     "output_type": "execute_result"
    },
    {
     "data": {
      "image/png": "[encoded data removed]",
      "text/plain": [
       "<Figure size 432x288 with 1 Axes>"
      ]
     },
     "metadata": {
      "needs_background": "light"
     },
     "output_type": "display_data"
    }
   ],
   "source": [
    "# fastball (ff, si, fc) spin vs breaking (sl, cu) spin\n",
    "pitching_data.plot(kind='scatter', x = 'avg_fastball_spin', y='avg_breaking_spin');\n",
    "pitching_data[['avg_fastball_spin', 'avg_breaking_spin']].corr()"
   ]
  },
  {
   "cell_type": "markdown",
   "id": "69a22ee0",
   "metadata": {},
   "source": [
    "We see that fastball spin versus breaking spin is moderately correlated. In short, those who tend to have a high spin on their fastball tend to also have a high spin on their breaking balls. If I were to use both of these as a feature, then it may hurt interpretability because it may seemingly weaken the effect spin might have on a pitcher's success (due to the fact these two features seem to be not entirely independent). "
   ]
  },
  {
   "cell_type": "markdown",
   "id": "f7c4ed65",
   "metadata": {},
   "source": [
    "Therefore, it may serve us to just combine the fastball and breaking ball spin into one avg_spin column. However, this would still be ignoring changeup and splitter for the reason that spin is significantly lower for these pitches while spin is not meant to augment these pitches."
   ]
  },
  {
   "cell_type": "markdown",
   "id": "d0441ee8",
   "metadata": {},
   "source": [
    "__Assumption__: Average spin incorporates all pitches except changeups and splitters."
   ]
  },
  {
   "cell_type": "code",
   "execution_count": 262,
   "id": "ee5d4b92",
   "metadata": {},
   "outputs": [],
   "source": [
    "# create new column called average spin that is the mean of all the fastball and breaking ball spins\n",
    "pitching_data['avg_spin'] =round(pitching_data[['avg_fastball_spin', 'avg_breaking_spin']].mean(axis=1), 1)"
   ]
  },
  {
   "cell_type": "markdown",
   "id": "885f9d90",
   "metadata": {},
   "source": [
    "Compare Average Spin to WAR"
   ]
  },
  {
   "cell_type": "code",
   "execution_count": 263,
   "id": "222925ea",
   "metadata": {},
   "outputs": [
    {
     "data": {
      "text/html": [
       "<div>\n",
       "<style scoped>\n",
       "    .dataframe tbody tr th:only-of-type {\n",
       "        vertical-align: middle;\n",
       "    }\n",
       "\n",
       "    .dataframe tbody tr th {\n",
       "        vertical-align: top;\n",
       "    }\n",
       "\n",
       "    .dataframe thead th {\n",
       "        text-align: right;\n",
       "    }\n",
       "</style>\n",
       "<table border=\"1\" class=\"dataframe\">\n",
       "  <thead>\n",
       "    <tr style=\"text-align: right;\">\n",
       "      <th></th>\n",
       "      <th>avg_spin</th>\n",
       "      <th>WAR</th>\n",
       "    </tr>\n",
       "  </thead>\n",
       "  <tbody>\n",
       "    <tr>\n",
       "      <th>avg_spin</th>\n",
       "      <td>1.000000</td>\n",
       "      <td>0.097467</td>\n",
       "    </tr>\n",
       "    <tr>\n",
       "      <th>WAR</th>\n",
       "      <td>0.097467</td>\n",
       "      <td>1.000000</td>\n",
       "    </tr>\n",
       "  </tbody>\n",
       "</table>\n",
       "</div>"
      ],
      "text/plain": [
       "          avg_spin       WAR\n",
       "avg_spin  1.000000  0.097467\n",
       "WAR       0.097467  1.000000"
      ]
     },
     "execution_count": 263,
     "metadata": {},
     "output_type": "execute_result"
    },
    {
     "data": {
      "image/png": "[encoded data removed]",
      "text/plain": [
       "<Figure size 432x288 with 1 Axes>"
      ]
     },
     "metadata": {
      "needs_background": "light"
     },
     "output_type": "display_data"
    }
   ],
   "source": [
    "#graph the fastest speed of pitchers compared to their WAR to see if we could use it as a feature\n",
    "\n",
    "pitching_data.plot(kind='scatter', x='avg_spin', y='WAR')\n",
    "pitching_data[['avg_spin', 'WAR']].corr()"
   ]
  },
  {
   "cell_type": "markdown",
   "id": "16cf9c73",
   "metadata": {},
   "source": [
    "Spin seems to be less correlated to WAR than speed. The correlation is very weak. This does not make a good case to use spin as a feature. However, spin was a very controversial topic during the 2021 season because of the use of artificial substances to boost the rotations on the ball (see https://www.nysportsday.com/2021/06/09/the-spin-rate-mlb-sticky-issue/). There seemed to be a very real concern about increasing spin to get better results, and for that reason I am motivated to include spin as a feature."
   ]
  },
  {
   "cell_type": "markdown",
   "id": "1069d320",
   "metadata": {},
   "source": [
    "### Compare Speed to Spin"
   ]
  },
  {
   "cell_type": "code",
   "execution_count": 264,
   "id": "e44c7b99",
   "metadata": {},
   "outputs": [
    {
     "data": {
      "text/html": [
       "<div>\n",
       "<style scoped>\n",
       "    .dataframe tbody tr th:only-of-type {\n",
       "        vertical-align: middle;\n",
       "    }\n",
       "\n",
       "    .dataframe tbody tr th {\n",
       "        vertical-align: top;\n",
       "    }\n",
       "\n",
       "    .dataframe thead th {\n",
       "        text-align: right;\n",
       "    }\n",
       "</style>\n",
       "<table border=\"1\" class=\"dataframe\">\n",
       "  <thead>\n",
       "    <tr style=\"text-align: right;\">\n",
       "      <th></th>\n",
       "      <th>avg_fastest_speed</th>\n",
       "      <th>avg_spin</th>\n",
       "    </tr>\n",
       "  </thead>\n",
       "  <tbody>\n",
       "    <tr>\n",
       "      <th>avg_fastest_speed</th>\n",
       "      <td>1.000000</td>\n",
       "      <td>0.237277</td>\n",
       "    </tr>\n",
       "    <tr>\n",
       "      <th>avg_spin</th>\n",
       "      <td>0.237277</td>\n",
       "      <td>1.000000</td>\n",
       "    </tr>\n",
       "  </tbody>\n",
       "</table>\n",
       "</div>"
      ],
      "text/plain": [
       "                   avg_fastest_speed  avg_spin\n",
       "avg_fastest_speed           1.000000  0.237277\n",
       "avg_spin                    0.237277  1.000000"
      ]
     },
     "execution_count": 264,
     "metadata": {},
     "output_type": "execute_result"
    },
    {
     "data": {
      "image/png": "[encoded data removed]",
      "text/plain": [
       "<Figure size 432x288 with 1 Axes>"
      ]
     },
     "metadata": {
      "needs_background": "light"
     },
     "output_type": "display_data"
    }
   ],
   "source": [
    "# pitcher's average fastest pitch vs pitcher's average spin\n",
    "pitching_data.plot(kind='scatter', x = 'avg_fastest_speed', y='avg_spin');\n",
    "pitching_data[['avg_fastest_speed', 'avg_spin']].corr()"
   ]
  },
  {
   "cell_type": "markdown",
   "id": "9005b9ff",
   "metadata": {},
   "source": [
    "Speed and spin seem to be weakly correlated, but correlated nonetheless which may hinder the features ability to be independent from each other. Though, it is weak, which means it may still be worth using both of these features when fitting a model. For the reason that it is a fairly weak correlation, I will be using avg_fastest_speed and avg_spin as features to measure against the response variable WAR (successful)."
   ]
  },
  {
   "cell_type": "markdown",
   "id": "79ff78b2",
   "metadata": {},
   "source": [
    "## Other Information we can use About Pitcher's Pitch Arsenal"
   ]
  },
  {
   "cell_type": "markdown",
   "id": "43e35299",
   "metadata": {},
   "source": [
    "Other than the speed and spin of the ball of each type of pitch thrown by a pitcher, what other data can we extract? "
   ]
  },
  {
   "cell_type": "markdown",
   "id": "bb4a0f13",
   "metadata": {},
   "source": [
    "### How often is a pitch thrown\n",
    "\n",
    "The columns where this information can be found is in columns n_ff, n_si, n_fc, n_sl, n_ch, n_cu, and n_fs. Essentially, if n_ff = 0.5, then the pitcher has thrown a fastball 50% of the time. \n",
    "\n",
    "In the notebook \"Get data for unit-4 project\", I did some feature engineering to figure out pitcher's favorite pitch and their second favorite pitch. That way I could dummify those columns and use them in an analysis. The reason I did this was in the case I might want to predict scouting data. Scouting data is not going to have the percentage of pitches thrown, but instead a ranking of those pitcher's favorite pitch. Because each pitcher has at least two pitches, I could use that fact to compare this dataset with scouting data (if I get to that point later in the project).\n",
    "\n",
    "At this point in the notebook, I don't know if I will use the percentages or the favorite pitches, but I will be using one or the other"
   ]
  },
  {
   "cell_type": "code",
   "execution_count": 265,
   "id": "06b7ca93",
   "metadata": {},
   "outputs": [
    {
     "data": {
      "text/html": [
       "<div>\n",
       "<style scoped>\n",
       "    .dataframe tbody tr th:only-of-type {\n",
       "        vertical-align: middle;\n",
       "    }\n",
       "\n",
       "    .dataframe tbody tr th {\n",
       "        vertical-align: top;\n",
       "    }\n",
       "\n",
       "    .dataframe thead th {\n",
       "        text-align: right;\n",
       "    }\n",
       "</style>\n",
       "<table border=\"1\" class=\"dataframe\">\n",
       "  <thead>\n",
       "    <tr style=\"text-align: right;\">\n",
       "      <th></th>\n",
       "      <th>last_name</th>\n",
       "      <th>first_name</th>\n",
       "      <th>mlbam_id</th>\n",
       "      <th>n_ff</th>\n",
       "      <th>n_si</th>\n",
       "      <th>n_fc</th>\n",
       "      <th>n_sl</th>\n",
       "      <th>n_ch</th>\n",
       "      <th>n_cu</th>\n",
       "      <th>n_fs</th>\n",
       "      <th>Fav_pitch</th>\n",
       "      <th>Fav_pitch_2</th>\n",
       "    </tr>\n",
       "  </thead>\n",
       "  <tbody>\n",
       "    <tr>\n",
       "      <th>0</th>\n",
       "      <td>Clase</td>\n",
       "      <td>Emmanuel</td>\n",
       "      <td>661403</td>\n",
       "      <td>0.9</td>\n",
       "      <td>0.0</td>\n",
       "      <td>69.3</td>\n",
       "      <td>29.7</td>\n",
       "      <td>0.0</td>\n",
       "      <td>0.0</td>\n",
       "      <td>0.0</td>\n",
       "      <td>fc</td>\n",
       "      <td>sl</td>\n",
       "    </tr>\n",
       "    <tr>\n",
       "      <th>1</th>\n",
       "      <td>Clase</td>\n",
       "      <td>Emmanuel</td>\n",
       "      <td>661403</td>\n",
       "      <td>5.5</td>\n",
       "      <td>0.0</td>\n",
       "      <td>73.3</td>\n",
       "      <td>21.2</td>\n",
       "      <td>0.0</td>\n",
       "      <td>0.0</td>\n",
       "      <td>0.0</td>\n",
       "      <td>fc</td>\n",
       "      <td>sl</td>\n",
       "    </tr>\n",
       "    <tr>\n",
       "      <th>2</th>\n",
       "      <td>Hicks</td>\n",
       "      <td>Jordan</td>\n",
       "      <td>663855</td>\n",
       "      <td>1.4</td>\n",
       "      <td>68.1</td>\n",
       "      <td>26.1</td>\n",
       "      <td>1.0</td>\n",
       "      <td>3.4</td>\n",
       "      <td>0.0</td>\n",
       "      <td>0.0</td>\n",
       "      <td>si</td>\n",
       "      <td>fc</td>\n",
       "    </tr>\n",
       "    <tr>\n",
       "      <th>3</th>\n",
       "      <td>Hicks</td>\n",
       "      <td>Jordan</td>\n",
       "      <td>663855</td>\n",
       "      <td>0.2</td>\n",
       "      <td>60.3</td>\n",
       "      <td>0.0</td>\n",
       "      <td>34.7</td>\n",
       "      <td>4.8</td>\n",
       "      <td>0.0</td>\n",
       "      <td>0.0</td>\n",
       "      <td>si</td>\n",
       "      <td>sl</td>\n",
       "    </tr>\n",
       "    <tr>\n",
       "      <th>4</th>\n",
       "      <td>Hicks</td>\n",
       "      <td>Jordan</td>\n",
       "      <td>663855</td>\n",
       "      <td>1.9</td>\n",
       "      <td>76.1</td>\n",
       "      <td>0.0</td>\n",
       "      <td>22.0</td>\n",
       "      <td>0.0</td>\n",
       "      <td>0.0</td>\n",
       "      <td>0.0</td>\n",
       "      <td>si</td>\n",
       "      <td>sl</td>\n",
       "    </tr>\n",
       "  </tbody>\n",
       "</table>\n",
       "</div>"
      ],
      "text/plain": [
       "  last_name  first_name  mlbam_id  n_ff  n_si  n_fc  n_sl  n_ch  n_cu  n_fs  \\\n",
       "0     Clase    Emmanuel    661403   0.9   0.0  69.3  29.7   0.0   0.0   0.0   \n",
       "1     Clase    Emmanuel    661403   5.5   0.0  73.3  21.2   0.0   0.0   0.0   \n",
       "2     Hicks      Jordan    663855   1.4  68.1  26.1   1.0   3.4   0.0   0.0   \n",
       "3     Hicks      Jordan    663855   0.2  60.3   0.0  34.7   4.8   0.0   0.0   \n",
       "4     Hicks      Jordan    663855   1.9  76.1   0.0  22.0   0.0   0.0   0.0   \n",
       "\n",
       "  Fav_pitch Fav_pitch_2  \n",
       "0        fc          sl  \n",
       "1        fc          sl  \n",
       "2        si          fc  \n",
       "3        si          sl  \n",
       "4        si          sl  "
      ]
     },
     "execution_count": 265,
     "metadata": {},
     "output_type": "execute_result"
    }
   ],
   "source": [
    "pitching_data[['last_name', ' first_name', 'mlbam_id', 'n_ff', 'n_si', 'n_fc', 'n_sl', 'n_ch', 'n_cu', 'n_fs', 'Fav_pitch',\n",
    "       'Fav_pitch_2']].head()"
   ]
  },
  {
   "cell_type": "markdown",
   "id": "ad1ad797",
   "metadata": {},
   "source": [
    "## Distribution of pitches"
   ]
  },
  {
   "cell_type": "markdown",
   "id": "f8191abb",
   "metadata": {},
   "source": [
    "Located in the data above is how often a pitcher throws a certain pitch type. Often times, if a pitcher throws too much of a certain pitch, the batter might catch on and sit on that pitch to hit. Theoretically, a strategic distribution of pitches are thrown in order to keep the batter on their toes.\n",
    "\n",
    "Below are the average percentages each type of pitch is thrown across the dataset (does not count if a pitcher does not throw that pitch at all)."
   ]
  },
  {
   "cell_type": "code",
   "execution_count": 266,
   "id": "dcb304a1",
   "metadata": {},
   "outputs": [
    {
     "data": {
      "text/plain": [
       "n_ff    36.331932\n",
       "n_si    16.690714\n",
       "n_fc     6.086465\n",
       "n_sl    19.631099\n",
       "n_ch    10.390802\n",
       "n_cu    10.001927\n",
       "n_fs     0.868112\n",
       "dtype: float64"
      ]
     },
     "execution_count": 266,
     "metadata": {},
     "output_type": "execute_result"
    }
   ],
   "source": [
    "pitching_data[['n_ff', 'n_si', 'n_fc', 'n_sl', 'n_ch', 'n_cu', 'n_fs']].mean()"
   ]
  },
  {
   "cell_type": "markdown",
   "id": "583c68c8",
   "metadata": {},
   "source": [
    "Based on the above, it seems that pitchers favor their fastball (ff) the most compared to other pitch types. However, the above does not show a full picture as these columns contain many null values.\n",
    "\n",
    "Regardless, I don't expect these values to contribute much in predicting WAR. Looking below is a graph of the percentage of fastballs thrown versus WAR. There is not enough of a correlation to make a conclusion, however, I do notice that the best pitchers (WAR > 5) do not throw a fastball more than 60% of the time."
   ]
  },
  {
   "cell_type": "code",
   "execution_count": 267,
   "id": "a9ef2245",
   "metadata": {
    "scrolled": true
   },
   "outputs": [
    {
     "data": {
      "text/html": [
       "<div>\n",
       "<style scoped>\n",
       "    .dataframe tbody tr th:only-of-type {\n",
       "        vertical-align: middle;\n",
       "    }\n",
       "\n",
       "    .dataframe tbody tr th {\n",
       "        vertical-align: top;\n",
       "    }\n",
       "\n",
       "    .dataframe thead th {\n",
       "        text-align: right;\n",
       "    }\n",
       "</style>\n",
       "<table border=\"1\" class=\"dataframe\">\n",
       "  <thead>\n",
       "    <tr style=\"text-align: right;\">\n",
       "      <th></th>\n",
       "      <th>n_ff</th>\n",
       "      <th>WAR</th>\n",
       "    </tr>\n",
       "  </thead>\n",
       "  <tbody>\n",
       "    <tr>\n",
       "      <th>n_ff</th>\n",
       "      <td>1.000000</td>\n",
       "      <td>-0.016961</td>\n",
       "    </tr>\n",
       "    <tr>\n",
       "      <th>WAR</th>\n",
       "      <td>-0.016961</td>\n",
       "      <td>1.000000</td>\n",
       "    </tr>\n",
       "  </tbody>\n",
       "</table>\n",
       "</div>"
      ],
      "text/plain": [
       "          n_ff       WAR\n",
       "n_ff  1.000000 -0.016961\n",
       "WAR  -0.016961  1.000000"
      ]
     },
     "execution_count": 267,
     "metadata": {},
     "output_type": "execute_result"
    },
    {
     "data": {
      "image/png": "[encoded data removed]",
      "text/plain": [
       "<Figure size 432x288 with 1 Axes>"
      ]
     },
     "metadata": {
      "needs_background": "light"
     },
     "output_type": "display_data"
    }
   ],
   "source": [
    "pitching_data.plot(kind='scatter', x='n_ff', y='WAR')\n",
    "pitching_data[['n_ff', 'WAR']].corr()"
   ]
  },
  {
   "cell_type": "markdown",
   "id": "12cc9efb",
   "metadata": {},
   "source": [
    "### How many pitches does a pitcher throw\n",
    "\n",
    "A pitcher who has a lot of pitches is much harder to predict. As a batter, if I know my opponent only throws fastballs, then I can sit on one pitch. If it is a fastball and a slider, then it is one or the other. If my opponent has 5 pitches, then it truly becomes a guessing game."
   ]
  },
  {
   "cell_type": "code",
   "execution_count": 268,
   "id": "277199c1",
   "metadata": {},
   "outputs": [
    {
     "data": {
      "text/html": [
       "<div>\n",
       "<style scoped>\n",
       "    .dataframe tbody tr th:only-of-type {\n",
       "        vertical-align: middle;\n",
       "    }\n",
       "\n",
       "    .dataframe tbody tr th {\n",
       "        vertical-align: top;\n",
       "    }\n",
       "\n",
       "    .dataframe thead th {\n",
       "        text-align: right;\n",
       "    }\n",
       "</style>\n",
       "<table border=\"1\" class=\"dataframe\">\n",
       "  <thead>\n",
       "    <tr style=\"text-align: right;\">\n",
       "      <th></th>\n",
       "      <th>Num_pitches</th>\n",
       "      <th>WAR</th>\n",
       "    </tr>\n",
       "  </thead>\n",
       "  <tbody>\n",
       "    <tr>\n",
       "      <th>Num_pitches</th>\n",
       "      <td>1.000000</td>\n",
       "      <td>0.186561</td>\n",
       "    </tr>\n",
       "    <tr>\n",
       "      <th>WAR</th>\n",
       "      <td>0.186561</td>\n",
       "      <td>1.000000</td>\n",
       "    </tr>\n",
       "  </tbody>\n",
       "</table>\n",
       "</div>"
      ],
      "text/plain": [
       "             Num_pitches       WAR\n",
       "Num_pitches     1.000000  0.186561\n",
       "WAR             0.186561  1.000000"
      ]
     },
     "execution_count": 268,
     "metadata": {},
     "output_type": "execute_result"
    },
    {
     "data": {
      "image/png": "[encoded data removed]",
      "text/plain": [
       "<Figure size 432x288 with 1 Axes>"
      ]
     },
     "metadata": {
      "needs_background": "light"
     },
     "output_type": "display_data"
    }
   ],
   "source": [
    "pitching_data.plot(kind='scatter', x='Num_pitches', y='WAR')\n",
    "pitching_data[['Num_pitches', 'WAR']].corr()"
   ]
  },
  {
   "cell_type": "markdown",
   "id": "1edde0a3",
   "metadata": {},
   "source": [
    "The nature of this graph having discrete values versus continuous makes it hard to make a conclusion about whether or not the number of pitches is correlated to WAR. It looks Gaussian, but it's hard to tell since the values are discrete. Because this was constructed from how often a pitch is thrown, there may be multicolinearity involved, so this feature will be used as a replacement of the 'n_(pitch)' features."
   ]
  },
  {
   "cell_type": "markdown",
   "id": "2904cd0b",
   "metadata": {},
   "source": [
    "### Favorite Pitches"
   ]
  },
  {
   "cell_type": "markdown",
   "id": "bddf148e",
   "metadata": {},
   "source": [
    "Alternatively, we can see which pitches are most favored by pitchers by looking at a pitcher's first and second most thrown pitch. This is captured in the Fav_pitch and Fav_pitch_2 columns.\n",
    "\n",
    "We can graph a bar chart of a pitcher's most thrown pitch type."
   ]
  },
  {
   "cell_type": "code",
   "execution_count": 269,
   "id": "9525a4e4",
   "metadata": {},
   "outputs": [
    {
     "data": {
      "text/plain": [
       "Text(0.5, 1.0, \"Distribution of pitcher's most thrown pitch type\")"
      ]
     },
     "execution_count": 269,
     "metadata": {},
     "output_type": "execute_result"
    },
    {
     "data": {
      "image/png": "[encoded data removed]",
      "text/plain": [
       "<Figure size 432x288 with 1 Axes>"
      ]
     },
     "metadata": {
      "needs_background": "light"
     },
     "output_type": "display_data"
    }
   ],
   "source": [
    "fig, ax = plt.subplots()\n",
    "\n",
    "pitch_types = ['fastball', 'sinker', 'cutter', 'slider', 'changeup', 'curveball', 'splitter']\n",
    "\n",
    "pitching_data.Fav_pitch.value_counts(normalize=True).plot(kind=\"bar\", rot=90, ax=ax)\n",
    "\n",
    "ax.set_xticklabels(pitch_types)\n",
    "plt.title(\"Distribution of pitcher's most thrown pitch type\")"
   ]
  },
  {
   "cell_type": "markdown",
   "id": "b2505cf1",
   "metadata": {},
   "source": [
    "The fastball seems to be a clear favorite. In fact, pitches that are grouped together in the category of \"fastball\" (i.e. fastballs, sinkers, and cutters) are overwhelming the most thrown pitch in a pitcher's arsenal. It shows that throwing a pitch hard is universally accepted as the standard way to pitch (there are variations like knuckleball pitchers)."
   ]
  },
  {
   "cell_type": "markdown",
   "id": "a7e1241c",
   "metadata": {},
   "source": [
    "Let's also look at pitcher's second favorite pitch."
   ]
  },
  {
   "cell_type": "code",
   "execution_count": 270,
   "id": "46311463",
   "metadata": {},
   "outputs": [
    {
     "data": {
      "text/plain": [
       "Text(0.5, 1.0, \"Distribution of pitcher's second most thrown pitch type\")"
      ]
     },
     "execution_count": 270,
     "metadata": {},
     "output_type": "execute_result"
    },
    {
     "data": {
      "image/png": "[encoded data removed]",
      "text/plain": [
       "<Figure size 432x288 with 1 Axes>"
      ]
     },
     "metadata": {
      "needs_background": "light"
     },
     "output_type": "display_data"
    }
   ],
   "source": [
    "fig_2, ax_2 = plt.subplots()\n",
    "\n",
    "pitch_types_2 = ['slider', 'curveball', 'changeup', 'fastball', 'sinker', 'cutter', 'splitter']\n",
    "\n",
    "pitching_data.Fav_pitch_2.value_counts(normalize=True).plot(kind=\"bar\", rot=90, ax=ax_2)\n",
    "\n",
    "ax.set_xticklabels(pitch_types_2)\n",
    "plt.title(\"Distribution of pitcher's second most thrown pitch type\")"
   ]
  },
  {
   "cell_type": "markdown",
   "id": "0c5c54fd",
   "metadata": {},
   "source": [
    "Interestingly, a pitcher's second go-to pitch is most likely a slider. This is followed by curveballs and changeups. It shows that a pitcher usually seclects one type of fastball, and one type of offspeed pitch as the two main pitches in their arsenal."
   ]
  },
  {
   "cell_type": "markdown",
   "id": "efaa6765",
   "metadata": {},
   "source": [
    "We won't be using these at first as this was built from 'n_(pitch)', and if both are used there would be multicolinearity issues. However, if we download prospect data, it may not have 'n_(pitch)' data explicitly, but rather a list of the pitcher's best pitches. Therefore, this may be useful in comparing prospects to major leaguers. \n",
    "\n",
    "If we end up wanting to use Fav_pitch and Fav_pitch_2, we should dummify it. This is so we can translate categorical data into a readable format for machine learning"
   ]
  },
  {
   "cell_type": "code",
   "execution_count": 271,
   "id": "dda0a096",
   "metadata": {},
   "outputs": [],
   "source": [
    "#dummify Fav_pitch and Fav_pitch2\n",
    "\n",
    "pitching_data = pitching_data.join(pd.get_dummies(pitching_data['Fav_pitch'], prefix='Fav_pitch'))\n",
    "pitching_data = pitching_data.join(pd.get_dummies(pitching_data['Fav_pitch_2'], prefix='Fav_pitch_2'))\n",
    "\n",
    "#need to drop a single dummy column for multicollinearity purposes\n",
    "pitching_data.drop(columns=['Fav_pitch_fs'], inplace=True)\n",
    "pitching_data.drop(columns=['Fav_pitch_2_fc'], inplace=True)"
   ]
  },
  {
   "cell_type": "markdown",
   "id": "0fef3a6c",
   "metadata": {},
   "source": [
    "## Measuring a Pitcher's Accuracy"
   ]
  },
  {
   "cell_type": "markdown",
   "id": "038f3614",
   "metadata": {},
   "source": [
    "While a pitcher's arsenal can suggest a lot on how difficult a pitcher is to hit, it doesn't mean anything if a pitcher cannot throw strikes. Furthermore, a pitcher needs to be precise with their pitches. Maybe the pitcher can throw strikes, but if they throw it right down the middle instead of the corners, they might be giving up a lot of easy hits or homeruns. Accuracy can be the difference for a sub-par pitcher to come ahead of a pitcher with lighting stuff."
   ]
  },
  {
   "cell_type": "markdown",
   "id": "2b09faf6",
   "metadata": {},
   "source": [
    "### BB/9 (Walks per 9 innings pitched)"
   ]
  },
  {
   "cell_type": "markdown",
   "id": "8f557e75",
   "metadata": {},
   "source": [
    "The proposed metric to measure a pitcher's ability to be \"accurate\" is BB/9, which stands for walks (BBs) given up per 9 innings pitched. Walks occur when a pitcher throws 4 balls in an at-bat. Balls occur when a pitch is thrown out of the strikezone without the batter swinging at the piitch. A pitcher never wants to give up walks because, unlike the batters ability to get a hit, giving up a walk is something that the pitcher can control. Therefore, a pitcher who gives up few walks often has great control of their pitches.\n",
    "\n",
    "__NOTE__: BB/9 is not a perfect metric for accuracy. In fact, it barely scratches the surface. Sometimes throwing the ball out fo the strikezone is the most strategic thing to do. It is significantly more difficult to hit a pitch outside the strikezone, so good pitchers try to trick batters to swing at pitches outside. If a pitcher gives up a lot of walks, it might not mean they are not accurate. In fact, they might be throwing it exactly where they want, but they aren't fooling the batter. In that sense, BB/9 could be considered an indirect measure of success as good pitchers with nasty stuff have an easier time getting the count the way they want versus an accuracte pitcher who has sub-par pitches.\n",
    "\n",
    "The reason why BB/9 is the best measure of accuracy is because, while it can't prove the pitcher can throw a pitch in a location whenever they want, it still shows which pitchers struggle to hit the strikezone when the count is at 3 balls. It makes me wonder if the mlb can track the movement of a catcher's glove to show a pitch's average deviation from the intended target.\n",
    "\n"
   ]
  },
  {
   "cell_type": "code",
   "execution_count": 272,
   "id": "9467d1fd",
   "metadata": {
    "scrolled": true
   },
   "outputs": [
    {
     "data": {
      "text/html": [
       "<div>\n",
       "<style scoped>\n",
       "    .dataframe tbody tr th:only-of-type {\n",
       "        vertical-align: middle;\n",
       "    }\n",
       "\n",
       "    .dataframe tbody tr th {\n",
       "        vertical-align: top;\n",
       "    }\n",
       "\n",
       "    .dataframe thead th {\n",
       "        text-align: right;\n",
       "    }\n",
       "</style>\n",
       "<table border=\"1\" class=\"dataframe\">\n",
       "  <thead>\n",
       "    <tr style=\"text-align: right;\">\n",
       "      <th></th>\n",
       "      <th>BB/9</th>\n",
       "      <th>WAR</th>\n",
       "    </tr>\n",
       "  </thead>\n",
       "  <tbody>\n",
       "    <tr>\n",
       "      <th>BB/9</th>\n",
       "      <td>1.000000</td>\n",
       "      <td>-0.391982</td>\n",
       "    </tr>\n",
       "    <tr>\n",
       "      <th>WAR</th>\n",
       "      <td>-0.391982</td>\n",
       "      <td>1.000000</td>\n",
       "    </tr>\n",
       "  </tbody>\n",
       "</table>\n",
       "</div>"
      ],
      "text/plain": [
       "          BB/9       WAR\n",
       "BB/9  1.000000 -0.391982\n",
       "WAR  -0.391982  1.000000"
      ]
     },
     "execution_count": 272,
     "metadata": {},
     "output_type": "execute_result"
    },
    {
     "data": {
      "image/png": "[encoded data removed]",
      "text/plain": [
       "<Figure size 432x288 with 1 Axes>"
      ]
     },
     "metadata": {
      "needs_background": "light"
     },
     "output_type": "display_data"
    }
   ],
   "source": [
    "pitching_data.plot(kind='scatter', x='BB/9', y='WAR')\n",
    "pitching_data[['BB/9', 'WAR']].corr()"
   ]
  },
  {
   "cell_type": "markdown",
   "id": "f8a8d1a6",
   "metadata": {},
   "source": [
    "There definitely seems to be some relationship between WAR and BB/9"
   ]
  },
  {
   "cell_type": "markdown",
   "id": "e844d3b6",
   "metadata": {},
   "source": [
    "### First pitch strike percentage"
   ]
  },
  {
   "cell_type": "markdown",
   "id": "3a92f31a",
   "metadata": {},
   "source": [
    "Another measure of accuracy that could be used is first pitch strike percentage. This represents the number of times a pitcher can throw a strike in the first pitch of an at bat. Throwing a first pitch strike or \"getting ahead in the count\" is a significant statistical advantage for the pitcher versus the count starting with 1 ball and no strikes. The options of what a pitcher can throw next after a first pitch strike is much greater than the alternative since they can experiment with pitches outside of the strikezone (to get the batter to chase). If the count is 1-0 (1 ball, no strikes), the pitcher has to try much harder to get that strike back.\n",
    "\n",
    "First pitch strike means the batter has less of a chance to get on base. To throw a first pitch strike, a pitcher needs to be accurate.\n",
    "\n",
    "__Note__: If we're talking about pure accuracy, first pitch strike is not ideal. For one, a pitcher doesn't want to throw a first pitch strike every time as that makes the pitcher predictable. Second, a pitcher's ability to get a first pitch strike depends also on the non-accuracy elements. If a sub-par pitch (slow, doesn't decieve a ton) is thrown in the strikezone for the first pitch, it may be more likely to be hit. On the other hand, a nasty pitch (decieves a ton) may be easier to sneak into the strikezone."
   ]
  },
  {
   "cell_type": "code",
   "execution_count": 273,
   "id": "3db7490c",
   "metadata": {
    "scrolled": true
   },
   "outputs": [
    {
     "data": {
      "text/html": [
       "<div>\n",
       "<style scoped>\n",
       "    .dataframe tbody tr th:only-of-type {\n",
       "        vertical-align: middle;\n",
       "    }\n",
       "\n",
       "    .dataframe tbody tr th {\n",
       "        vertical-align: top;\n",
       "    }\n",
       "\n",
       "    .dataframe thead th {\n",
       "        text-align: right;\n",
       "    }\n",
       "</style>\n",
       "<table border=\"1\" class=\"dataframe\">\n",
       "  <thead>\n",
       "    <tr style=\"text-align: right;\">\n",
       "      <th></th>\n",
       "      <th>F-Strike%</th>\n",
       "      <th>WAR</th>\n",
       "    </tr>\n",
       "  </thead>\n",
       "  <tbody>\n",
       "    <tr>\n",
       "      <th>F-Strike%</th>\n",
       "      <td>1.000000</td>\n",
       "      <td>0.272715</td>\n",
       "    </tr>\n",
       "    <tr>\n",
       "      <th>WAR</th>\n",
       "      <td>0.272715</td>\n",
       "      <td>1.000000</td>\n",
       "    </tr>\n",
       "  </tbody>\n",
       "</table>\n",
       "</div>"
      ],
      "text/plain": [
       "           F-Strike%       WAR\n",
       "F-Strike%   1.000000  0.272715\n",
       "WAR         0.272715  1.000000"
      ]
     },
     "execution_count": 273,
     "metadata": {},
     "output_type": "execute_result"
    },
    {
     "data": {
      "image/png": "[encoded data removed]",
      "text/plain": [
       "<Figure size 432x288 with 1 Axes>"
      ]
     },
     "metadata": {
      "needs_background": "light"
     },
     "output_type": "display_data"
    }
   ],
   "source": [
    "pitching_data.plot(kind='scatter', x='F-Strike%', y='WAR')\n",
    "pitching_data[['F-Strike%', 'WAR']].corr()"
   ]
  },
  {
   "cell_type": "markdown",
   "id": "e71e01cc",
   "metadata": {},
   "source": [
    "In short, I could not find an ideal metric for a pitcher's ability to be accurate. A lot of it depends on what the other batter does, which is not something I can rely on for prospects who haven't faced mlb hitters yet. However, I will use these features because the accuracy of a pitcher is most definitely a part of the story to why a pitcher will be successful. "
   ]
  },
  {
   "cell_type": "markdown",
   "id": "7e044e78",
   "metadata": {},
   "source": [
    "Let's look at first pitch strike versus walks per 9 innings pitched and see how correlated they are."
   ]
  },
  {
   "cell_type": "code",
   "execution_count": 274,
   "id": "0259da1c",
   "metadata": {},
   "outputs": [
    {
     "data": {
      "text/html": [
       "<div>\n",
       "<style scoped>\n",
       "    .dataframe tbody tr th:only-of-type {\n",
       "        vertical-align: middle;\n",
       "    }\n",
       "\n",
       "    .dataframe tbody tr th {\n",
       "        vertical-align: top;\n",
       "    }\n",
       "\n",
       "    .dataframe thead th {\n",
       "        text-align: right;\n",
       "    }\n",
       "</style>\n",
       "<table border=\"1\" class=\"dataframe\">\n",
       "  <thead>\n",
       "    <tr style=\"text-align: right;\">\n",
       "      <th></th>\n",
       "      <th>BB/9</th>\n",
       "      <th>F-Strike%</th>\n",
       "    </tr>\n",
       "  </thead>\n",
       "  <tbody>\n",
       "    <tr>\n",
       "      <th>BB/9</th>\n",
       "      <td>1.000000</td>\n",
       "      <td>-0.497994</td>\n",
       "    </tr>\n",
       "    <tr>\n",
       "      <th>F-Strike%</th>\n",
       "      <td>-0.497994</td>\n",
       "      <td>1.000000</td>\n",
       "    </tr>\n",
       "  </tbody>\n",
       "</table>\n",
       "</div>"
      ],
      "text/plain": [
       "               BB/9  F-Strike%\n",
       "BB/9       1.000000  -0.497994\n",
       "F-Strike% -0.497994   1.000000"
      ]
     },
     "execution_count": 274,
     "metadata": {},
     "output_type": "execute_result"
    },
    {
     "data": {
      "image/png": "[encoded data removed]",
      "text/plain": [
       "<Figure size 432x288 with 1 Axes>"
      ]
     },
     "metadata": {
      "needs_background": "light"
     },
     "output_type": "display_data"
    }
   ],
   "source": [
    "pitching_data.plot(kind='scatter', x='BB/9', y='F-Strike%')\n",
    "pitching_data[['BB/9', 'F-Strike%']].corr()"
   ]
  },
  {
   "cell_type": "markdown",
   "id": "acf06f2f",
   "metadata": {},
   "source": [
    "They seem to have a moderate correlation against each other. This may hinder my the efficacy of using both of them in the same machine learning model. This might be a \"1 or the other\" type of decision."
   ]
  },
  {
   "cell_type": "markdown",
   "id": "8fcb83a6",
   "metadata": {},
   "source": [
    "## Throwing Hand"
   ]
  },
  {
   "cell_type": "markdown",
   "id": "179689ea",
   "metadata": {},
   "source": [
    "A pitcher's throwing hand is an important consideration for managers when choosing which pitcher to use against certain batters. Right handed pitchers throw the ball from the right, which means it has to travel leftwards to get to the center. Likewise, left handed pitchers throw from the left shoulder where the ball would need to travel right to get to the center. The angle at which the ball reaches the plate is different between a lefty and a righty. Is there an advantage as a pitcher to be either one?\n",
    "\n",
    "Historically, it depends on the batter. Batters who hit opposite handed of the pitcher (e.g. batters lefty while the pitcher is righty) have a sight advantage because they can see the ball come out of the pitchers hand a tiny bit before. \n",
    "\n",
    "However, this project is trying to remove the batter from the equation, since prospects aren't going up against major league hitters yet. Regardless, whether a prospect is a lefty or a righty is an attractive question and could be a difference maker in evaluating a pitcher's value."
   ]
  },
  {
   "cell_type": "code",
   "execution_count": 275,
   "id": "d3f99ca7",
   "metadata": {},
   "outputs": [
    {
     "data": {
      "text/plain": [
       "R    1663\n",
       "L     619\n",
       "S       1\n",
       "Name: throws, dtype: int64"
      ]
     },
     "execution_count": 275,
     "metadata": {},
     "output_type": "execute_result"
    }
   ],
   "source": [
    "pitching_data.throws.value_counts()"
   ]
  },
  {
   "cell_type": "markdown",
   "id": "4c76086a",
   "metadata": {},
   "source": [
    "There are right throwing pitchers and left throwing pitchers, but what is S? S means that there is a pitcher who throws both righty and lefty! "
   ]
  },
  {
   "cell_type": "code",
   "execution_count": 276,
   "id": "dfbf063b",
   "metadata": {},
   "outputs": [
    {
     "data": {
      "text/html": [
       "<div>\n",
       "<style scoped>\n",
       "    .dataframe tbody tr th:only-of-type {\n",
       "        vertical-align: middle;\n",
       "    }\n",
       "\n",
       "    .dataframe tbody tr th {\n",
       "        vertical-align: top;\n",
       "    }\n",
       "\n",
       "    .dataframe thead th {\n",
       "        text-align: right;\n",
       "    }\n",
       "</style>\n",
       "<table border=\"1\" class=\"dataframe\">\n",
       "  <thead>\n",
       "    <tr style=\"text-align: right;\">\n",
       "      <th></th>\n",
       "      <th>Unnamed: 0</th>\n",
       "      <th>last_name</th>\n",
       "      <th>first_name</th>\n",
       "      <th>mlbam_id</th>\n",
       "      <th>ff_avg_speed</th>\n",
       "      <th>si_avg_speed</th>\n",
       "      <th>fc_avg_speed</th>\n",
       "      <th>sl_avg_speed</th>\n",
       "      <th>ch_avg_speed</th>\n",
       "      <th>cu_avg_speed</th>\n",
       "      <th>...</th>\n",
       "      <th>Fav_pitch_cu</th>\n",
       "      <th>Fav_pitch_fc</th>\n",
       "      <th>Fav_pitch_ff</th>\n",
       "      <th>Fav_pitch_si</th>\n",
       "      <th>Fav_pitch_sl</th>\n",
       "      <th>Fav_pitch_2_ch</th>\n",
       "      <th>Fav_pitch_2_cu</th>\n",
       "      <th>Fav_pitch_2_ff</th>\n",
       "      <th>Fav_pitch_2_si</th>\n",
       "      <th>Fav_pitch_2_sl</th>\n",
       "    </tr>\n",
       "  </thead>\n",
       "  <tbody>\n",
       "    <tr>\n",
       "      <th>2275</th>\n",
       "      <td>2275</td>\n",
       "      <td>Venditte</td>\n",
       "      <td>Pat</td>\n",
       "      <td>519381</td>\n",
       "      <td>NaN</td>\n",
       "      <td>85.6</td>\n",
       "      <td>NaN</td>\n",
       "      <td>73.3</td>\n",
       "      <td>80.7</td>\n",
       "      <td>NaN</td>\n",
       "      <td>...</td>\n",
       "      <td>0</td>\n",
       "      <td>0</td>\n",
       "      <td>0</td>\n",
       "      <td>0</td>\n",
       "      <td>1</td>\n",
       "      <td>0</td>\n",
       "      <td>0</td>\n",
       "      <td>0</td>\n",
       "      <td>1</td>\n",
       "      <td>0</td>\n",
       "    </tr>\n",
       "  </tbody>\n",
       "</table>\n",
       "<p>1 rows × 54 columns</p>\n",
       "</div>"
      ],
      "text/plain": [
       "      Unnamed: 0 last_name  first_name  mlbam_id  ff_avg_speed  si_avg_speed  \\\n",
       "2275        2275  Venditte         Pat    519381           NaN          85.6   \n",
       "\n",
       "      fc_avg_speed  sl_avg_speed  ch_avg_speed  cu_avg_speed  ...  \\\n",
       "2275           NaN          73.3          80.7           NaN  ...   \n",
       "\n",
       "      Fav_pitch_cu  Fav_pitch_fc  Fav_pitch_ff  Fav_pitch_si  Fav_pitch_sl  \\\n",
       "2275             0             0             0             0             1   \n",
       "\n",
       "      Fav_pitch_2_ch  Fav_pitch_2_cu  Fav_pitch_2_ff  Fav_pitch_2_si  \\\n",
       "2275               0               0               0               1   \n",
       "\n",
       "      Fav_pitch_2_sl  \n",
       "2275               0  \n",
       "\n",
       "[1 rows x 54 columns]"
      ]
     },
     "execution_count": 276,
     "metadata": {},
     "output_type": "execute_result"
    }
   ],
   "source": [
    "pitching_data[pitching_data.throws=='S']"
   ]
  },
  {
   "cell_type": "markdown",
   "id": "e6c68b23",
   "metadata": {},
   "source": [
    "His name is Pat Venditte. I give him an honorable mention because now I'm going to remove him from the data. Since there is only one ambidextrous pitcher- in the data, he is an outlier. And, if I can get rid of outliers, great."
   ]
  },
  {
   "cell_type": "code",
   "execution_count": 277,
   "id": "32250579",
   "metadata": {},
   "outputs": [],
   "source": [
    "index = pitching_data[pitching_data.throws=='S'].index\n",
    "pitching_data.drop(index, inplace=True)"
   ]
  },
  {
   "cell_type": "markdown",
   "id": "6121bea3",
   "metadata": {},
   "source": [
    "Going back to the value counts"
   ]
  },
  {
   "cell_type": "code",
   "execution_count": 278,
   "id": "982cf3f1",
   "metadata": {},
   "outputs": [
    {
     "data": {
      "text/plain": [
       "R    0.728747\n",
       "L    0.271253\n",
       "Name: throws, dtype: float64"
      ]
     },
     "execution_count": 278,
     "metadata": {},
     "output_type": "execute_result"
    }
   ],
   "source": [
    "pitching_data.throws.value_counts(normalize=True)"
   ]
  },
  {
   "cell_type": "markdown",
   "id": "9f823262",
   "metadata": {},
   "source": [
    "There are considerably more righty pitchers than lefty pitchers. This is most likely because left handed people are less common than right handed people.\n",
    "\n",
    "Let's look at the average WAR for righty and lefties"
   ]
  },
  {
   "cell_type": "code",
   "execution_count": 279,
   "id": "9b36fed0",
   "metadata": {},
   "outputs": [
    {
     "name": "stdout",
     "output_type": "stream",
     "text": [
      "mean:  0.6154539987973542\n",
      "median:  0.3\n"
     ]
    }
   ],
   "source": [
    "print('mean: ',pitching_data['WAR'][pitching_data.throws == 'R'].mean())\n",
    "print('median: ', pitching_data['WAR'][pitching_data.throws == 'R'].median())"
   ]
  },
  {
   "cell_type": "code",
   "execution_count": 280,
   "id": "03a1c2b8",
   "metadata": {},
   "outputs": [
    {
     "name": "stdout",
     "output_type": "stream",
     "text": [
      "mean:  0.6689822294022627\n",
      "median:  0.3\n"
     ]
    }
   ],
   "source": [
    "print('mean: ', pitching_data['WAR'][pitching_data.throws == 'L'].mean())\n",
    "print('median: ', pitching_data['WAR'][pitching_data.throws == 'L'].median())"
   ]
  },
  {
   "cell_type": "markdown",
   "id": "fd69e0df",
   "metadata": {},
   "source": [
    "Suprisingly righty and lefty pitchers have the same exact median! The mean WAR for lefties is slightly greater than righties, but not by much."
   ]
  },
  {
   "cell_type": "code",
   "execution_count": 281,
   "id": "3eddeaf6",
   "metadata": {},
   "outputs": [
    {
     "data": {
      "text/plain": [
       "Text(0.5, 1.0, 'WAR of Lefty versus Righty pitchers')"
      ]
     },
     "execution_count": 281,
     "metadata": {},
     "output_type": "execute_result"
    },
    {
     "data": {
      "image/png": "[encoded data removed]",
      "text/plain": [
       "<Figure size 432x288 with 1 Axes>"
      ]
     },
     "metadata": {
      "needs_background": "light"
     },
     "output_type": "display_data"
    }
   ],
   "source": [
    "fig, ax = plt.subplots()\n",
    "pitching_data.boxplot(column='WAR',by='throws', ax=ax)\n",
    "plt.suptitle('') \n",
    "plt.ylabel('WAR')\n",
    "plt.title('WAR of Lefty versus Righty pitchers')"
   ]
  },
  {
   "cell_type": "markdown",
   "id": "0b73d25a",
   "metadata": {},
   "source": [
    "This is very shocking to me because in my experience playing baseball as a youth, lefties were always prized for their uniqueness. What this is saying is that the average lefty mlb pitcher has nearly the same WAR as the average righty mlb pitcher."
   ]
  },
  {
   "cell_type": "markdown",
   "id": "e535eda8",
   "metadata": {},
   "source": [
    "Let's dummify Right versus Left since this is categorical data."
   ]
  },
  {
   "cell_type": "code",
   "execution_count": 282,
   "id": "a5391593",
   "metadata": {},
   "outputs": [],
   "source": [
    "pitching_data['throws'].replace({'R': 0, 'L': 1}, inplace=True)"
   ]
  },
  {
   "cell_type": "markdown",
   "id": "f4599686",
   "metadata": {},
   "source": [
    "## Look at Height and Weight"
   ]
  },
  {
   "cell_type": "markdown",
   "id": "54bd0b13",
   "metadata": {},
   "source": [
    "The height of a pitcher may influence how a pitch is recieved by the batter. For one, the ball is often released at a different angle than a shorter pitcher, as the pitcher has to throw the ball downwards to reach the strikezone. Furthermore, a taller pitcher may be able to get the point at which they release the ball much closer to the batter's plate than a shorter pitcher. A shorter distance to the plate means the ball will get their faster, meaning the ball is percieved faster than it's raw miles per hour."
   ]
  },
  {
   "cell_type": "code",
   "execution_count": 283,
   "id": "1f37ed92",
   "metadata": {},
   "outputs": [
    {
     "data": {
      "text/html": [
       "<div>\n",
       "<style scoped>\n",
       "    .dataframe tbody tr th:only-of-type {\n",
       "        vertical-align: middle;\n",
       "    }\n",
       "\n",
       "    .dataframe tbody tr th {\n",
       "        vertical-align: top;\n",
       "    }\n",
       "\n",
       "    .dataframe thead th {\n",
       "        text-align: right;\n",
       "    }\n",
       "</style>\n",
       "<table border=\"1\" class=\"dataframe\">\n",
       "  <thead>\n",
       "    <tr style=\"text-align: right;\">\n",
       "      <th></th>\n",
       "      <th>height</th>\n",
       "      <th>WAR</th>\n",
       "    </tr>\n",
       "  </thead>\n",
       "  <tbody>\n",
       "    <tr>\n",
       "      <th>height</th>\n",
       "      <td>1.000000</td>\n",
       "      <td>0.090537</td>\n",
       "    </tr>\n",
       "    <tr>\n",
       "      <th>WAR</th>\n",
       "      <td>0.090537</td>\n",
       "      <td>1.000000</td>\n",
       "    </tr>\n",
       "  </tbody>\n",
       "</table>\n",
       "</div>"
      ],
      "text/plain": [
       "          height       WAR\n",
       "height  1.000000  0.090537\n",
       "WAR     0.090537  1.000000"
      ]
     },
     "execution_count": 283,
     "metadata": {},
     "output_type": "execute_result"
    },
    {
     "data": {
      "image/png": "[encoded data removed]",
      "text/plain": [
       "<Figure size 432x288 with 1 Axes>"
      ]
     },
     "metadata": {
      "needs_background": "light"
     },
     "output_type": "display_data"
    }
   ],
   "source": [
    "#height versus WAR\n",
    "pitching_data.plot(kind='scatter', x='height', y='WAR')\n",
    "pitching_data[['height', 'WAR']].corr()"
   ]
  },
  {
   "cell_type": "markdown",
   "id": "9e8be6dd",
   "metadata": {},
   "source": [
    "Interestingly, the hieght of a pitcher when compared to a pitcher's WAR takes a somewhat gaussian shape (acknowledging the fact that height is measured discretely). Might consider using height, but it isn't much of a priority."
   ]
  },
  {
   "cell_type": "code",
   "execution_count": 284,
   "id": "c931397e",
   "metadata": {},
   "outputs": [
    {
     "data": {
      "text/html": [
       "<div>\n",
       "<style scoped>\n",
       "    .dataframe tbody tr th:only-of-type {\n",
       "        vertical-align: middle;\n",
       "    }\n",
       "\n",
       "    .dataframe tbody tr th {\n",
       "        vertical-align: top;\n",
       "    }\n",
       "\n",
       "    .dataframe thead th {\n",
       "        text-align: right;\n",
       "    }\n",
       "</style>\n",
       "<table border=\"1\" class=\"dataframe\">\n",
       "  <thead>\n",
       "    <tr style=\"text-align: right;\">\n",
       "      <th></th>\n",
       "      <th>weight</th>\n",
       "      <th>WAR</th>\n",
       "    </tr>\n",
       "  </thead>\n",
       "  <tbody>\n",
       "    <tr>\n",
       "      <th>weight</th>\n",
       "      <td>1.000000</td>\n",
       "      <td>0.007011</td>\n",
       "    </tr>\n",
       "    <tr>\n",
       "      <th>WAR</th>\n",
       "      <td>0.007011</td>\n",
       "      <td>1.000000</td>\n",
       "    </tr>\n",
       "  </tbody>\n",
       "</table>\n",
       "</div>"
      ],
      "text/plain": [
       "          weight       WAR\n",
       "weight  1.000000  0.007011\n",
       "WAR     0.007011  1.000000"
      ]
     },
     "execution_count": 284,
     "metadata": {},
     "output_type": "execute_result"
    },
    {
     "data": {
      "image/png": "[encoded data removed]",
      "text/plain": [
       "<Figure size 432x288 with 1 Axes>"
      ]
     },
     "metadata": {
      "needs_background": "light"
     },
     "output_type": "display_data"
    }
   ],
   "source": [
    "pitching_data.plot(kind='scatter', x='weight', y='WAR')\n",
    "pitching_data[['weight', 'WAR']].corr()"
   ]
  },
  {
   "cell_type": "markdown",
   "id": "de4acf61",
   "metadata": {},
   "source": [
    "As for weight, there doesn't seem to be any correlation. Therefore, we won't consider weight as a feature."
   ]
  },
  {
   "cell_type": "markdown",
   "id": "e31a1548",
   "metadata": {},
   "source": [
    "# 4. Machine Learning"
   ]
  },
  {
   "cell_type": "code",
   "execution_count": 285,
   "id": "7239acce",
   "metadata": {},
   "outputs": [],
   "source": [
    "from sklearn.model_selection import train_test_split\n",
    "from sklearn.linear_model import LogisticRegression\n",
    "from sklearn import metrics\n",
    "from sklearn.model_selection import cross_val_score\n",
    "from sklearn import model_selection\n",
    "from sklearn.preprocessing import StandardScaler\n"
   ]
  },
  {
   "cell_type": "markdown",
   "id": "07da47e7",
   "metadata": {},
   "source": [
    "## Define Variables"
   ]
  },
  {
   "cell_type": "markdown",
   "id": "49ac4df3",
   "metadata": {},
   "source": [
    "Prior to beginning the machine learning process, I need to define what my feature columns and response variable. The feature columns are made up of BB / 9 (for accuracy of pitcher), average fastest speed and average spin (the ability of a pitcher to sling the ball), and the number of pitches and the percentage at which these pitchers are thrown (how diverse is the pitcher's arsenal). I may also want to throw in other features that I recorded to see how the model holds up."
   ]
  },
  {
   "cell_type": "markdown",
   "id": "81cb18c2",
   "metadata": {},
   "source": [
    "As for the response variable, we uses successful because for logistic regression, we are solivng a classification problem. Is the pitcher successful or not?"
   ]
  },
  {
   "cell_type": "code",
   "execution_count": 286,
   "id": "7067ba8c",
   "metadata": {},
   "outputs": [
    {
     "data": {
      "text/plain": [
       "Index(['Unnamed: 0', 'last_name', ' first_name', 'mlbam_id', 'ff_avg_speed',\n",
       "       'si_avg_speed', 'fc_avg_speed', 'sl_avg_speed', 'ch_avg_speed',\n",
       "       'cu_avg_speed', 'fs_avg_speed', 'ff_avg_spin', 'si_avg_spin',\n",
       "       'fc_avg_spin', 'sl_avg_spin', 'ch_avg_spin', 'cu_avg_spin',\n",
       "       'fs_avg_spin', 'n_ff', 'n_si', 'n_fc', 'n_sl', 'n_ch', 'n_cu', 'n_fs',\n",
       "       'Season', 'F-Strike%', 'BB/9', 'Age', 'WAR', 'K/9', 'ERA', 'Fav_pitch',\n",
       "       'Fav_pitch_2', 'Num_pitches', 'throws', 'weight', 'height',\n",
       "       'successful', 'avg_fastest_speed', 'avg_fastball_spin',\n",
       "       'avg_breaking_spin', 'avg_spin', 'Fav_pitch_ch', 'Fav_pitch_cu',\n",
       "       'Fav_pitch_fc', 'Fav_pitch_ff', 'Fav_pitch_si', 'Fav_pitch_sl',\n",
       "       'Fav_pitch_2_ch', 'Fav_pitch_2_cu', 'Fav_pitch_2_ff', 'Fav_pitch_2_si',\n",
       "       'Fav_pitch_2_sl'],\n",
       "      dtype='object')"
      ]
     },
     "execution_count": 286,
     "metadata": {},
     "output_type": "execute_result"
    }
   ],
   "source": [
    "pitching_data.columns"
   ]
  },
  {
   "cell_type": "code",
   "execution_count": 342,
   "id": "ce204608",
   "metadata": {},
   "outputs": [],
   "source": [
    "#define our feature columns\n",
    "\n",
    "feature_cols = ['BB/9','avg_spin', 'avg_fastest_speed', 'n_ff', 'n_si', 'n_fc', 'n_sl', 'n_ch', 'n_cu', 'n_fs', 'throws']\n",
    "\n",
    "X = pitching_data[feature_cols]\n",
    "y = pitching_data['successful']"
   ]
  },
  {
   "cell_type": "markdown",
   "id": "7c16d315",
   "metadata": {},
   "source": [
    "### Null Hypothesis (Classification)"
   ]
  },
  {
   "cell_type": "markdown",
   "id": "c7196b76",
   "metadata": {},
   "source": [
    "Before doing any machine learning, we need to define our null hypothesis. What are we trying to beat? \n",
    "\n",
    "The Null hypothesis states that there is no relationship between the variables used in predicting our outcome. On th eohter hand, the alternative hypothesis states that there is a relationship. Henceforth, we want to reject the Null Hypothesis, otherwise our model does not work."
   ]
  },
  {
   "cell_type": "markdown",
   "id": "20b1f5e2",
   "metadata": {},
   "source": [
    "In defining the baseline for classification, let us look at the distribution of successful pitchers."
   ]
  },
  {
   "cell_type": "code",
   "execution_count": 288,
   "id": "c49b9d06",
   "metadata": {},
   "outputs": [
    {
     "data": {
      "text/plain": [
       "1    0.656004\n",
       "0    0.343996\n",
       "Name: successful, dtype: float64"
      ]
     },
     "execution_count": 288,
     "metadata": {},
     "output_type": "execute_result"
    }
   ],
   "source": [
    "pitching_data['successful'].value_counts(normalize=True)"
   ]
  },
  {
   "cell_type": "markdown",
   "id": "f096bc77",
   "metadata": {},
   "source": [
    "We see that about 2/3 of pitchers in the Major Leagues from 2018-2021 are considered successful (with a positive WAR). If we had no information to go off of besides this, then we would predict that all pitchers are successful and have an accuracy of (most likely) ~66%. \n",
    "\n",
    "Therefore, we want our model to be able to successfully predict a pitcher's success over 66%."
   ]
  },
  {
   "cell_type": "markdown",
   "id": "9aa78147",
   "metadata": {},
   "source": [
    "Let's confirm this with a Dummy Classifer based on the most frequent class."
   ]
  },
  {
   "cell_type": "code",
   "execution_count": 289,
   "id": "99767a02",
   "metadata": {},
   "outputs": [],
   "source": [
    "from sklearn.dummy import DummyClassifier"
   ]
  },
  {
   "cell_type": "code",
   "execution_count": 290,
   "id": "25ed701b",
   "metadata": {},
   "outputs": [
    {
     "name": "stdout",
     "output_type": "stream",
     "text": [
      "Accuracy  0.6164623467600701\n"
     ]
    }
   ],
   "source": [
    "X_train_dummy, X_test_dummy, y_train_dummy, y_test_dummy = train_test_split(X,y, random_state=21) #test train split\n",
    "dummy_model = DummyClassifier(strategy='most_frequent') #instantiate\n",
    "dummy_model.fit(X_train_dummy, y_train_dummy) #fit \n",
    "dummy_preds = dummy_model.predict(X_test_dummy) #predict\n",
    "print('Accuracy ', metrics.accuracy_score(y_test_dummy, dummy_preds)) #score"
   ]
  },
  {
   "cell_type": "markdown",
   "id": "3b4e32da",
   "metadata": {},
   "source": [
    "Use k-fold validation to diversify the training set. And then record scores."
   ]
  },
  {
   "cell_type": "code",
   "execution_count": 291,
   "id": "d38b69ea",
   "metadata": {},
   "outputs": [
    {
     "name": "stdout",
     "output_type": "stream",
     "text": [
      "accuracy: 0.6560136665514991\n",
      "precision: 0.6560136665514991\n",
      "recall: 1.0\n"
     ]
    }
   ],
   "source": [
    "kf = model_selection.KFold(n_splits=5, shuffle=True, random_state=45)\n",
    "print('accuracy:', np.mean(cross_val_score(dummy_model, X, y, cv=kf, scoring='accuracy')))\n",
    "print('precision:', np.mean(cross_val_score(dummy_model, X, y, cv=kf, scoring='precision')))\n",
    "print('recall:', np.mean(cross_val_score(dummy_model, X, y, cv=kf, scoring='recall')))\n"
   ]
  },
  {
   "cell_type": "markdown",
   "id": "549510c7",
   "metadata": {},
   "source": [
    "The baseline to beat is the above the percentage of the most frequent class (successful)."
   ]
  },
  {
   "cell_type": "markdown",
   "id": "d0bf9b48",
   "metadata": {},
   "source": [
    "## Logistic Regression"
   ]
  },
  {
   "cell_type": "markdown",
   "id": "bd2691b5",
   "metadata": {},
   "source": [
    "Import relevant libraries"
   ]
  },
  {
   "cell_type": "markdown",
   "id": "ea604d17",
   "metadata": {},
   "source": [
    "Do an intial train test split to see if logistic regression can defeat the baseline."
   ]
  },
  {
   "cell_type": "code",
   "execution_count": 292,
   "id": "9e7655cb",
   "metadata": {},
   "outputs": [
    {
     "name": "stdout",
     "output_type": "stream",
     "text": [
      "Accuracy  0.702276707530648\n"
     ]
    }
   ],
   "source": [
    "#split the data into train and test sets\n",
    "X_train, X_test, y_train, y_test = train_test_split(X,y, random_state=21)\n",
    "\n",
    "\n",
    "#Build our model\n",
    "\n",
    "logreg = LogisticRegression(max_iter=1500, random_state=89)\n",
    "\n",
    "logreg.fit(X_train,y_train)\n",
    "\n",
    "logistic_pred_class = logreg.predict(X_test)\n",
    "\n",
    "#Measure accuracy\n",
    "print('Accuracy ', metrics.accuracy_score(y_test, logistic_pred_class))"
   ]
  },
  {
   "cell_type": "markdown",
   "id": "0b79a340",
   "metadata": {},
   "source": [
    "Let's check the baseline, looking at the number of successful versus non-successful pitchers in the training dataset."
   ]
  },
  {
   "cell_type": "code",
   "execution_count": 293,
   "id": "f23ce5a0",
   "metadata": {},
   "outputs": [
    {
     "data": {
      "text/plain": [
       "1    0.669199\n",
       "0    0.330801\n",
       "Name: successful, dtype: float64"
      ]
     },
     "execution_count": 293,
     "metadata": {},
     "output_type": "execute_result"
    }
   ],
   "source": [
    "y_train.value_counts(normalize=True)"
   ]
  },
  {
   "cell_type": "markdown",
   "id": "ad1731d0",
   "metadata": {},
   "source": [
    "Given that the baseline is 66.8%, this just beats out the baseline. While it only beats the baseline by a few percentage points, it does show that this model is informed in making predictions and is better than having no knowledge at all."
   ]
  },
  {
   "cell_type": "markdown",
   "id": "3a8a701b",
   "metadata": {},
   "source": [
    "Let's do cross validation to make sure the accuracy isn't a fluke. Cross validation will be using 5 folds, which means that it will slit the data into a number of different folds and train using a set amount of train-test-splits. By averagin these out, we can get a better sense of how well the model will do. "
   ]
  },
  {
   "cell_type": "code",
   "execution_count": 294,
   "id": "66490235",
   "metadata": {},
   "outputs": [
    {
     "name": "stdout",
     "output_type": "stream",
     "text": [
      "accuracy: 0.747144804023187\n",
      "precision: 0.7618307192507283\n",
      "recall: 0.8945967764045377\n"
     ]
    }
   ],
   "source": [
    "#try 5 splits (also tried up to 10 and it provided similar results)\n",
    "kf = model_selection.KFold(n_splits=5, shuffle=True, random_state=45)\n",
    "\n",
    "print('accuracy:', np.mean(cross_val_score(logreg, X, y, cv=kf, scoring='accuracy')))\n",
    "print('precision:', np.mean(cross_val_score(logreg, X, y, cv=kf, scoring='precision')))\n",
    "print('recall:', np.mean(cross_val_score(logreg, X, y, cv=kf, scoring='recall')))"
   ]
  },
  {
   "cell_type": "markdown",
   "id": "0d37d653",
   "metadata": {},
   "source": [
    "This still beats out the baseline by just under 10 percentage points (74% vs 66%). It validates the model can beat the baseline."
   ]
  },
  {
   "cell_type": "markdown",
   "id": "e7c98ef4",
   "metadata": {},
   "source": [
    "To get a better understanding of how the model is predicting, let's look at a confusion matrix."
   ]
  },
  {
   "cell_type": "markdown",
   "id": "0071aa1b",
   "metadata": {},
   "source": [
    "#### Confusion Matrix: \n",
    "Top left is true negative, top right is false positive, bottom left is false negative, and bottom right is true positives."
   ]
  },
  {
   "cell_type": "code",
   "execution_count": 295,
   "id": "f47e204c",
   "metadata": {},
   "outputs": [
    {
     "data": {
      "text/plain": [
       "<sklearn.metrics._plot.confusion_matrix.ConfusionMatrixDisplay at 0x18c70343340>"
      ]
     },
     "execution_count": 295,
     "metadata": {},
     "output_type": "execute_result"
    },
    {
     "data": {
      "image/png": "[encoded data removed]",
      "text/plain": [
       "<Figure size 432x288 with 2 Axes>"
      ]
     },
     "metadata": {
      "needs_background": "light"
     },
     "output_type": "display_data"
    }
   ],
   "source": [
    "metrics.plot_confusion_matrix(logreg, X_test, y_test)"
   ]
  },
  {
   "cell_type": "markdown",
   "id": "125991f3",
   "metadata": {},
   "source": [
    "We see that the model is skewed towards making true positive decisions. This is because the distribution of successful pitchers (as defined) is much greater than unsuccessful pitchers. Therefore, it makes sense that the logistic regression model would have many true positives, while have few false negatives. While it is not great to see such a skew, it is good to see that the model does make some predictions that a pitcher is unsuccessful and beats the baseline."
   ]
  },
  {
   "cell_type": "markdown",
   "id": "9b50f0d9",
   "metadata": {},
   "source": [
    "We can also look at the area under a roc_auc curve to get a better understanding of how well the model performs."
   ]
  },
  {
   "cell_type": "code",
   "execution_count": 296,
   "id": "7f11e0bb",
   "metadata": {},
   "outputs": [
    {
     "name": "stdout",
     "output_type": "stream",
     "text": [
      "roc auc score logistic regression 0.6429275633042757\n",
      "roc_auc_score no skill 0.5\n"
     ]
    }
   ],
   "source": [
    "from sklearn.metrics import roc_auc_score\n",
    "print('roc auc score logistic regression', roc_auc_score(y_true=y_test, y_score=logistic_pred_class))\n",
    "print('roc_auc_score no skill', roc_auc_score(y_true=y_test_dummy, y_score=dummy_preds))"
   ]
  },
  {
   "cell_type": "markdown",
   "id": "76302216",
   "metadata": {},
   "source": [
    "Even though a roc auc score of 0.64 is not great, it shows that the model does show skill. "
   ]
  },
  {
   "cell_type": "markdown",
   "id": "fd4e742e",
   "metadata": {},
   "source": [
    "### Logistic Regression Conclusion\n",
    "\n",
    "This machine learning model when applied to this problem does reject null hypothesis! However, the fact that it only climbs a few percentage points in accuracy is not particularly satisfying. Therefore, I am inclined to try additional models to see if we can get a better classification model."
   ]
  },
  {
   "cell_type": "markdown",
   "id": "952c2c6a",
   "metadata": {},
   "source": [
    "# Gaussian Naive Bayes"
   ]
  },
  {
   "cell_type": "markdown",
   "id": "700a48b1",
   "metadata": {},
   "source": [
    "Let's try another model: Gaussian Naive Bayes. This is a probabalistic algorithm based on Bayes theorem. It is Naive because it assumes the featuers are independent (which isn't 100% true, especially with BB/9 vs F-Strike%)"
   ]
  },
  {
   "cell_type": "code",
   "execution_count": 297,
   "id": "ae703a35",
   "metadata": {},
   "outputs": [
    {
     "name": "stdout",
     "output_type": "stream",
     "text": [
      "Accuracy  0.7460595446584939\n"
     ]
    }
   ],
   "source": [
    "from sklearn.naive_bayes import GaussianNB\n",
    "#y = pitching_data['successful']\n",
    "\n",
    "X_train, X_test, y_train, y_test = train_test_split(X,y, random_state=45)\n",
    "\n",
    "#Build our model\n",
    "\n",
    "gnb = GaussianNB()\n",
    "\n",
    "gnb.fit(X_train,y_train)\n",
    "\n",
    "gnb_pred_class = gnb.predict(X_test)\n",
    "\n",
    "#Measure accuracy\n",
    "print('Accuracy ', metrics.accuracy_score(y_test, gnb_pred_class))"
   ]
  },
  {
   "cell_type": "code",
   "execution_count": 298,
   "id": "78b9bbd1",
   "metadata": {},
   "outputs": [
    {
     "name": "stdout",
     "output_type": "stream",
     "text": [
      "accuracy: 0.7348717801067219\n",
      "precision: 0.7540625449183989\n",
      "recall: 0.8877278357675726\n"
     ]
    }
   ],
   "source": [
    "kf = model_selection.KFold(n_splits=5, shuffle=True, random_state=45)\n",
    "\n",
    "print('accuracy:', np.mean(cross_val_score(gnb, X, y, cv=kf, scoring='accuracy')))\n",
    "print('precision:', np.mean(cross_val_score(gnb, X, y, cv=kf, scoring='precision')))\n",
    "print('recall:', np.mean(cross_val_score(gnb, X, y, cv=kf, scoring='recall')))"
   ]
  },
  {
   "cell_type": "markdown",
   "id": "c128ed23",
   "metadata": {},
   "source": [
    "This beats the baseline, but performs worse than logestic regression."
   ]
  },
  {
   "cell_type": "markdown",
   "id": "b8d5c35b",
   "metadata": {},
   "source": [
    "## Support Vector Machine Classifier"
   ]
  },
  {
   "cell_type": "code",
   "execution_count": 299,
   "id": "92bdc9d2",
   "metadata": {},
   "outputs": [
    {
     "name": "stdout",
     "output_type": "stream",
     "text": [
      "Accuracy  0.6514886164623468\n"
     ]
    }
   ],
   "source": [
    "from sklearn.svm import SVC\n",
    "\n",
    "X_train, X_test, y_train, y_test = train_test_split(X,y, random_state=45)\n",
    "\n",
    "svc = SVC()\n",
    "\n",
    "svc.fit(X_train,y_train)\n",
    "\n",
    "svc_pred_class = svc.predict(X_test)\n",
    "\n",
    "#Measure accuracy\n",
    "print('Accuracy ', metrics.accuracy_score(y_test, svc_pred_class))"
   ]
  },
  {
   "cell_type": "code",
   "execution_count": 343,
   "id": "37d79283",
   "metadata": {},
   "outputs": [
    {
     "name": "stdout",
     "output_type": "stream",
     "text": [
      "accuracy: 0.6560136665514991\n",
      "precision: 0.6560136665514991\n",
      "recall: 1.0\n"
     ]
    }
   ],
   "source": [
    "print('accuracy:', np.mean(cross_val_score(svc, X, y, cv=kf, scoring='accuracy')))\n",
    "print('precision:', np.mean(cross_val_score(svc, X, y, cv=kf, scoring='precision')))\n",
    "print('recall:', np.mean(cross_val_score(svc, X, y, cv=kf, scoring='recall')))"
   ]
  },
  {
   "cell_type": "markdown",
   "id": "75f85b15",
   "metadata": {},
   "source": [
    "Does not beat the baseline; therefore, we do not want to use this model."
   ]
  },
  {
   "cell_type": "markdown",
   "id": "6cf1ac82",
   "metadata": {},
   "source": [
    "# Decision Tree Classifier"
   ]
  },
  {
   "cell_type": "code",
   "execution_count": 300,
   "id": "a5fe8539",
   "metadata": {},
   "outputs": [],
   "source": [
    "from sklearn.tree import DecisionTreeClassifier"
   ]
  },
  {
   "cell_type": "markdown",
   "id": "9a897e67",
   "metadata": {},
   "source": [
    "Let's check what depth gives us the best accuracy."
   ]
  },
  {
   "cell_type": "code",
   "execution_count": 301,
   "id": "13aa896c",
   "metadata": {},
   "outputs": [],
   "source": [
    "depths = range(1,16)\n",
    "\n",
    "accuracy_scores = []\n",
    "\n",
    "for depth in depths:\n",
    "    DTC = DecisionTreeClassifier(max_depth=depth, random_state=3)\n",
    "    accuracy_score = cross_val_score(DTC, X, y, cv=10, scoring='accuracy')\n",
    "    accuracy_scores = np.append(accuracy_scores, np.mean(accuracy_score))"
   ]
  },
  {
   "cell_type": "code",
   "execution_count": 302,
   "id": "80dec7f3",
   "metadata": {},
   "outputs": [
    {
     "data": {
      "image/png": "[encoded data removed]",
      "text/plain": [
       "<Figure size 432x288 with 1 Axes>"
      ]
     },
     "metadata": {
      "needs_background": "light"
     },
     "output_type": "display_data"
    }
   ],
   "source": [
    "plt.plot(depths, accuracy_scores);\n",
    "plt.xlabel('max_depth');\n",
    "plt.ylabel('Accuracy (higher is better)');"
   ]
  },
  {
   "cell_type": "code",
   "execution_count": 303,
   "id": "6f4e4a4a",
   "metadata": {},
   "outputs": [
    {
     "name": "stdout",
     "output_type": "stream",
     "text": [
      "[0.71824868 0.73006205 0.7138359  0.69366812 0.68359764 0.66035394\n",
      " 0.65203018 0.63888761 0.62704934 0.61698269 0.62048954 0.60514633\n",
      " 0.60339769 0.59946181 0.60206466]\n"
     ]
    }
   ],
   "source": [
    "print(accuracy_scores)"
   ]
  },
  {
   "cell_type": "markdown",
   "id": "0a649319",
   "metadata": {},
   "source": [
    "The most accurate depth is a max_depth of 2. This is very telling that one of the features is dominating the classification process."
   ]
  },
  {
   "cell_type": "code",
   "execution_count": 304,
   "id": "4410b172",
   "metadata": {},
   "outputs": [
    {
     "name": "stdout",
     "output_type": "stream",
     "text": [
      "Accuracy:  0.7338003502626971\n",
      "precision:  0.7594339622641509\n",
      "recall:  0.8655913978494624\n"
     ]
    }
   ],
   "source": [
    "X_train, X_test, y_train, y_test = train_test_split(X,y, random_state=45)\n",
    "\n",
    "#Build our model\n",
    "\n",
    "DTC = DecisionTreeClassifier(max_depth=2, random_state = 45)\n",
    "\n",
    "DTC.fit(X_train,y_train)\n",
    "\n",
    "DTC_pred_class = DTC.predict(X_test)\n",
    "\n",
    "#Measure accuracy\n",
    "print('Accuracy: ', metrics.accuracy_score(y_test, DTC_pred_class))\n",
    "print('precision: ', metrics.precision_score(y_test, DTC_pred_class))\n",
    "print('recall: ', metrics.recall_score(y_test, DTC_pred_class))"
   ]
  },
  {
   "cell_type": "code",
   "execution_count": 305,
   "id": "58413bc4",
   "metadata": {},
   "outputs": [
    {
     "data": {
      "text/html": [
       "<div>\n",
       "<style scoped>\n",
       "    .dataframe tbody tr th:only-of-type {\n",
       "        vertical-align: middle;\n",
       "    }\n",
       "\n",
       "    .dataframe tbody tr th {\n",
       "        vertical-align: top;\n",
       "    }\n",
       "\n",
       "    .dataframe thead th {\n",
       "        text-align: right;\n",
       "    }\n",
       "</style>\n",
       "<table border=\"1\" class=\"dataframe\">\n",
       "  <thead>\n",
       "    <tr style=\"text-align: right;\">\n",
       "      <th></th>\n",
       "      <th>feature</th>\n",
       "      <th>importance</th>\n",
       "    </tr>\n",
       "  </thead>\n",
       "  <tbody>\n",
       "    <tr>\n",
       "      <th>0</th>\n",
       "      <td>BB/9</td>\n",
       "      <td>1.0</td>\n",
       "    </tr>\n",
       "    <tr>\n",
       "      <th>1</th>\n",
       "      <td>avg_spin</td>\n",
       "      <td>0.0</td>\n",
       "    </tr>\n",
       "    <tr>\n",
       "      <th>2</th>\n",
       "      <td>avg_fastest_speed</td>\n",
       "      <td>0.0</td>\n",
       "    </tr>\n",
       "    <tr>\n",
       "      <th>3</th>\n",
       "      <td>n_ff</td>\n",
       "      <td>0.0</td>\n",
       "    </tr>\n",
       "    <tr>\n",
       "      <th>4</th>\n",
       "      <td>n_si</td>\n",
       "      <td>0.0</td>\n",
       "    </tr>\n",
       "    <tr>\n",
       "      <th>5</th>\n",
       "      <td>n_fc</td>\n",
       "      <td>0.0</td>\n",
       "    </tr>\n",
       "    <tr>\n",
       "      <th>6</th>\n",
       "      <td>n_sl</td>\n",
       "      <td>0.0</td>\n",
       "    </tr>\n",
       "    <tr>\n",
       "      <th>7</th>\n",
       "      <td>n_ch</td>\n",
       "      <td>0.0</td>\n",
       "    </tr>\n",
       "    <tr>\n",
       "      <th>8</th>\n",
       "      <td>n_cu</td>\n",
       "      <td>0.0</td>\n",
       "    </tr>\n",
       "    <tr>\n",
       "      <th>9</th>\n",
       "      <td>n_fs</td>\n",
       "      <td>0.0</td>\n",
       "    </tr>\n",
       "    <tr>\n",
       "      <th>10</th>\n",
       "      <td>throws</td>\n",
       "      <td>0.0</td>\n",
       "    </tr>\n",
       "  </tbody>\n",
       "</table>\n",
       "</div>"
      ],
      "text/plain": [
       "              feature  importance\n",
       "0                BB/9         1.0\n",
       "1            avg_spin         0.0\n",
       "2   avg_fastest_speed         0.0\n",
       "3                n_ff         0.0\n",
       "4                n_si         0.0\n",
       "5                n_fc         0.0\n",
       "6                n_sl         0.0\n",
       "7                n_ch         0.0\n",
       "8                n_cu         0.0\n",
       "9                n_fs         0.0\n",
       "10             throws         0.0"
      ]
     },
     "execution_count": 305,
     "metadata": {},
     "output_type": "execute_result"
    }
   ],
   "source": [
    "# Compute the feature importances (the Gini index at each node).\n",
    "\n",
    "df=pd.DataFrame({'feature':feature_cols, 'importance':DTC.feature_importances_})\n",
    "df"
   ]
  },
  {
   "cell_type": "markdown",
   "id": "82eb7ee8",
   "metadata": {},
   "source": [
    "Haa. Yeahhhh. It seems that BB/9 is by FAR the most important feature in determining a pitcher's WAR (out of the other features listed above). There could be a number of reasons why this is true. It doesn't help that pitch percentage is dummified, so it's hard to see it's feature importance in this context."
   ]
  },
  {
   "cell_type": "markdown",
   "id": "7ef4851d",
   "metadata": {},
   "source": [
    "For this reason, it may be worth trying a Random Forest instead of a single decision tree. This is because we want the tree to consider other features than just BB/9. Random Forests builds multiple trees, but when building each tree, a random sample of features is chosen out of the initial pool each time a split is made. In that split, only those features are allowed to be used. This will diversify the feature selection when making a classification."
   ]
  },
  {
   "cell_type": "markdown",
   "id": "ba12e3c2",
   "metadata": {},
   "source": [
    "## Random Forest Classifier"
   ]
  },
  {
   "cell_type": "markdown",
   "id": "24a169a2",
   "metadata": {},
   "source": [
    "First, I need to find the best number of estimators. This is done by using a loop in which we run a new random forest model with a new number of estimators."
   ]
  },
  {
   "cell_type": "code",
   "execution_count": 306,
   "id": "8416cdd9",
   "metadata": {},
   "outputs": [],
   "source": [
    "from sklearn.ensemble import RandomForestClassifier"
   ]
  },
  {
   "cell_type": "code",
   "execution_count": 355,
   "id": "d2256940",
   "metadata": {},
   "outputs": [],
   "source": [
    "#THIS CELL IS SLOW. BE AWARE\n",
    "\n",
    "# List of values to try for n_estimators:\n",
    "estimator_range = range(10, 500, 10)\n",
    "\n",
    "# List to store the average accuracy for each value of n_estimators:\n",
    "accuracies = []\n",
    "\n",
    "# Use five-fold cross-validation with each value of n_estimators\n",
    "for estimator in estimator_range:\n",
    "    rfclass = RandomForestClassifier(n_estimators=estimator, max_features=4, random_state=1)\n",
    "    accuracy = cross_val_score(rfclass, X, y, cv=kf, scoring='accuracy')\n",
    "    accuracies.append(np.mean(accuracy))"
   ]
  },
  {
   "cell_type": "markdown",
   "id": "2f5d7897",
   "metadata": {},
   "source": [
    "Plot the average accuracies versus number of estimators"
   ]
  },
  {
   "cell_type": "code",
   "execution_count": 356,
   "id": "8f4a4119",
   "metadata": {
    "scrolled": true
   },
   "outputs": [
    {
     "data": {
      "image/png": "[encoded data removed]",
      "text/plain": [
       "<Figure size 432x288 with 1 Axes>"
      ]
     },
     "metadata": {
      "needs_background": "light"
     },
     "output_type": "display_data"
    }
   ],
   "source": [
    "plt.plot(estimator_range, accuracies);\n",
    "\n",
    "plt.xlabel('n_estimators');\n",
    "plt.ylabel('accuracy');"
   ]
  },
  {
   "cell_type": "markdown",
   "id": "805b2037",
   "metadata": {},
   "source": [
    "Choose the best one"
   ]
  },
  {
   "cell_type": "code",
   "execution_count": 357,
   "id": "89de0491",
   "metadata": {},
   "outputs": [
    {
     "data": {
      "text/plain": [
       "(0.7344312641560137, 110)"
      ]
     },
     "execution_count": 357,
     "metadata": {},
     "output_type": "execute_result"
    }
   ],
   "source": [
    "sorted(list(zip(accuracies, estimator_range)), reverse=True)[0]"
   ]
  },
  {
   "cell_type": "markdown",
   "id": "8d8e36e1",
   "metadata": {},
   "source": [
    "This accuracy is still much lower than linear regression. It barely beats out the baseline, but this is the type of result that would be hard to reject the null hypothesis (that the features cannot infer the response variable).\n",
    "\n",
    "Regardless, it is an opportunity to look at the features now that BB/9 is not as heavily weighted."
   ]
  },
  {
   "cell_type": "code",
   "execution_count": 358,
   "id": "1dd9079c",
   "metadata": {},
   "outputs": [
    {
     "data": {
      "text/plain": [
       "RandomForestClassifier(max_features=4, n_estimators=110, oob_score=True,\n",
       "                       random_state=1)"
      ]
     },
     "execution_count": 358,
     "metadata": {},
     "output_type": "execute_result"
    }
   ],
   "source": [
    "#instantiate a Random Forest Classifier using 100 n_estimators and a max number of features on each split of 5\n",
    "rfclass = RandomForestClassifier(n_estimators=110,\n",
    "                              max_features=4,\n",
    "                              oob_score=True,\n",
    "                              random_state=1)\n",
    "#fit the ml model\n",
    "rfclass.fit(X, y)"
   ]
  },
  {
   "cell_type": "markdown",
   "id": "0b0786c0",
   "metadata": {},
   "source": [
    "Let's see the random forest intrepretation of ranking features on importance."
   ]
  },
  {
   "cell_type": "code",
   "execution_count": 359,
   "id": "dda73d9a",
   "metadata": {},
   "outputs": [
    {
     "data": {
      "text/html": [
       "<div>\n",
       "<style scoped>\n",
       "    .dataframe tbody tr th:only-of-type {\n",
       "        vertical-align: middle;\n",
       "    }\n",
       "\n",
       "    .dataframe tbody tr th {\n",
       "        vertical-align: top;\n",
       "    }\n",
       "\n",
       "    .dataframe thead th {\n",
       "        text-align: right;\n",
       "    }\n",
       "</style>\n",
       "<table border=\"1\" class=\"dataframe\">\n",
       "  <thead>\n",
       "    <tr style=\"text-align: right;\">\n",
       "      <th></th>\n",
       "      <th>feature</th>\n",
       "      <th>importance</th>\n",
       "    </tr>\n",
       "  </thead>\n",
       "  <tbody>\n",
       "    <tr>\n",
       "      <th>0</th>\n",
       "      <td>BB/9</td>\n",
       "      <td>0.280370</td>\n",
       "    </tr>\n",
       "    <tr>\n",
       "      <th>1</th>\n",
       "      <td>avg_spin</td>\n",
       "      <td>0.115893</td>\n",
       "    </tr>\n",
       "    <tr>\n",
       "      <th>2</th>\n",
       "      <td>avg_fastest_speed</td>\n",
       "      <td>0.115212</td>\n",
       "    </tr>\n",
       "    <tr>\n",
       "      <th>3</th>\n",
       "      <td>n_ff</td>\n",
       "      <td>0.106184</td>\n",
       "    </tr>\n",
       "    <tr>\n",
       "      <th>7</th>\n",
       "      <td>n_ch</td>\n",
       "      <td>0.089052</td>\n",
       "    </tr>\n",
       "    <tr>\n",
       "      <th>6</th>\n",
       "      <td>n_sl</td>\n",
       "      <td>0.086542</td>\n",
       "    </tr>\n",
       "    <tr>\n",
       "      <th>4</th>\n",
       "      <td>n_si</td>\n",
       "      <td>0.074827</td>\n",
       "    </tr>\n",
       "    <tr>\n",
       "      <th>8</th>\n",
       "      <td>n_cu</td>\n",
       "      <td>0.072269</td>\n",
       "    </tr>\n",
       "    <tr>\n",
       "      <th>5</th>\n",
       "      <td>n_fc</td>\n",
       "      <td>0.034228</td>\n",
       "    </tr>\n",
       "    <tr>\n",
       "      <th>10</th>\n",
       "      <td>throws</td>\n",
       "      <td>0.015659</td>\n",
       "    </tr>\n",
       "    <tr>\n",
       "      <th>9</th>\n",
       "      <td>n_fs</td>\n",
       "      <td>0.009766</td>\n",
       "    </tr>\n",
       "  </tbody>\n",
       "</table>\n",
       "</div>"
      ],
      "text/plain": [
       "              feature  importance\n",
       "0                BB/9    0.280370\n",
       "1            avg_spin    0.115893\n",
       "2   avg_fastest_speed    0.115212\n",
       "3                n_ff    0.106184\n",
       "7                n_ch    0.089052\n",
       "6                n_sl    0.086542\n",
       "4                n_si    0.074827\n",
       "8                n_cu    0.072269\n",
       "5                n_fc    0.034228\n",
       "10             throws    0.015659\n",
       "9                n_fs    0.009766"
      ]
     },
     "execution_count": 359,
     "metadata": {},
     "output_type": "execute_result"
    }
   ],
   "source": [
    "pd.DataFrame({'feature':feature_cols,\n",
    "              'importance':rfclass.feature_importances_}).sort_values(by='importance', ascending=False)"
   ]
  },
  {
   "cell_type": "markdown",
   "id": "f075736c",
   "metadata": {},
   "source": [
    "Now at least we have a sense of what values contribute the most in determing a pitcher's success. The two leading features are walks per 9 innings pitched and first strike percentage. This is followed by the speed of a pitcher's fastest pitch and their average spin. All the others kind of blend in together, partially becuase they have been dummified."
   ]
  },
  {
   "cell_type": "markdown",
   "id": "aec59bbb",
   "metadata": {},
   "source": [
    "It shows that a pitcher's ability to throw strikes (versus balls) is the most important when determining if that pitcher will be successful."
   ]
  },
  {
   "cell_type": "markdown",
   "id": "04a7b888",
   "metadata": {},
   "source": [
    "Another takeaway from the above is is how irrelevant the number of pitches thrown by a pitcher is to their success. It's shocking because I would have assumed that having more pitches means that you are more unpredictable, but clearly the number of pitches you throw does not correlate with success."
   ]
  },
  {
   "cell_type": "code",
   "execution_count": 360,
   "id": "2250fa74",
   "metadata": {},
   "outputs": [
    {
     "name": "stdout",
     "output_type": "stream",
     "text": [
      "accuracy: 0.7344312641560137\n",
      "precision: 0.7591634918114093\n",
      "recall: 0.8734947462221699\n"
     ]
    }
   ],
   "source": [
    "#calculate the accuracy of the random forest model one more time using a 5 fold cross validation\n",
    "print('accuracy:', np.mean(cross_val_score(rfclass, X, y, cv=kf, scoring='accuracy')))\n",
    "print('precision:', np.mean(cross_val_score(rfclass, X, y, cv=kf, scoring='precision')))\n",
    "print('recall:', np.mean(cross_val_score(rfclass, X, y, cv=kf, scoring='recall')))\n"
   ]
  },
  {
   "cell_type": "markdown",
   "id": "c1dfbdfe",
   "metadata": {},
   "source": [
    "#### Classification Conclusion:\n",
    "\n",
    "It seems that the best model at predicting a pitcher's success (out of the ones I've tested) is linear regression. While linear regression beats the baseline, it only beats it by less than 10 percentage points, which is decent but not amazing. This is to be expected as pitching is complex in that it most likely cannot be summed up by a few metrics. \n",
    "\n",
    "However, separating a pitcher by successful versus not-successful may actually be detrimental. A pitcher who has a WAR of 6 is significantly better than a pitcher who has a WAR of 0.1. The best way to do this is regression rather than classification (predicting WAR instead of successful). Regardless, it was a good exercise of classification, which is why I started off with this rather than jump straight to regression."
   ]
  },
  {
   "cell_type": "code",
   "execution_count": 322,
   "id": "a3e10015",
   "metadata": {},
   "outputs": [
    {
     "data": {
      "text/plain": [
       "Index(['Unnamed: 0', 'last_name', ' first_name', 'mlbam_id', 'ff_avg_speed',\n",
       "       'si_avg_speed', 'fc_avg_speed', 'sl_avg_speed', 'ch_avg_speed',\n",
       "       'cu_avg_speed', 'fs_avg_speed', 'ff_avg_spin', 'si_avg_spin',\n",
       "       'fc_avg_spin', 'sl_avg_spin', 'ch_avg_spin', 'cu_avg_spin',\n",
       "       'fs_avg_spin', 'n_ff', 'n_si', 'n_fc', 'n_sl', 'n_ch', 'n_cu', 'n_fs',\n",
       "       'Season', 'F-Strike%', 'BB/9', 'Age', 'WAR', 'K/9', 'ERA', 'Fav_pitch',\n",
       "       'Fav_pitch_2', 'Num_pitches', 'throws', 'weight', 'height',\n",
       "       'successful', 'avg_fastest_speed', 'avg_fastball_spin',\n",
       "       'avg_breaking_spin', 'avg_spin', 'Fav_pitch_ch', 'Fav_pitch_cu',\n",
       "       'Fav_pitch_fc', 'Fav_pitch_ff', 'Fav_pitch_si', 'Fav_pitch_sl',\n",
       "       'Fav_pitch_2_ch', 'Fav_pitch_2_cu', 'Fav_pitch_2_ff', 'Fav_pitch_2_si',\n",
       "       'Fav_pitch_2_sl'],\n",
       "      dtype='object')"
      ]
     },
     "execution_count": 322,
     "metadata": {},
     "output_type": "execute_result"
    }
   ],
   "source": [
    "pitching_data.columns"
   ]
  },
  {
   "cell_type": "markdown",
   "id": "7ca07ad6",
   "metadata": {},
   "source": [
    "## Define Variables (Regression)"
   ]
  },
  {
   "cell_type": "markdown",
   "id": "b3d28275",
   "metadata": {},
   "source": [
    "Same feature columns as the classification section; however, the response variable is now WAR (continuous versus discrete)."
   ]
  },
  {
   "cell_type": "code",
   "execution_count": 362,
   "id": "77ed01e3",
   "metadata": {},
   "outputs": [],
   "source": [
    "feature_cols = ['BB/9','F-Strike%','avg_spin', 'avg_fastest_speed',  'n_ff', 'n_si', 'n_fc', 'n_sl', 'n_ch', 'n_cu', 'n_fs', 'throws']\n",
    "X = pitching_data[feature_cols]\n",
    "y = pitching_data['WAR']"
   ]
  },
  {
   "cell_type": "markdown",
   "id": "ea9bf35d",
   "metadata": {},
   "source": [
    "## Null Hypothesis (Regression)"
   ]
  },
  {
   "cell_type": "markdown",
   "id": "d53c8279",
   "metadata": {},
   "source": [
    "I need to set some sort of baseline to beat when looking at regression."
   ]
  },
  {
   "cell_type": "code",
   "execution_count": 324,
   "id": "6efefe0b",
   "metadata": {},
   "outputs": [],
   "source": [
    "from sklearn.dummy import DummyRegressor #use Dummy Regressor to set baseline"
   ]
  },
  {
   "cell_type": "code",
   "execution_count": 325,
   "id": "9890053a",
   "metadata": {},
   "outputs": [],
   "source": [
    "#let's experiment with pipeline as an exercise\n",
    "#I wanted to see if StandardScaler would change anything (didn't really)\n",
    "from sklearn.pipeline import Pipeline\n",
    "pipe_dummy = Pipeline([(\"StSclr\", StandardScaler()),\n",
    "                   (\"dummy\", DummyRegressor(strategy='mean'))])"
   ]
  },
  {
   "cell_type": "markdown",
   "id": "6e2307e0",
   "metadata": {},
   "source": [
    "Find r squared and Root Mean Squared Error to see what we should try to beat."
   ]
  },
  {
   "cell_type": "code",
   "execution_count": 326,
   "id": "cf097562",
   "metadata": {},
   "outputs": [
    {
     "name": "stdout",
     "output_type": "stream",
     "text": [
      "R-squared: -0.0016354552892698048\n",
      "RMSE: 1.1616215178640923\n"
     ]
    }
   ],
   "source": [
    "kf = model_selection.KFold(n_splits=5, shuffle=True, random_state=45)\n",
    "\n",
    "dummy_model_regressor = DummyRegressor(strategy='mean') #instantiate\n",
    "\n",
    "print('R-squared:', np.mean(cross_val_score(pipe_dummy, X, y, cv=kf)))\n",
    "print('RMSE:', np.sqrt(np.mean(-cross_val_score(pipe_dummy, X, y, cv=kf, scoring='neg_mean_squared_error'))))\n"
   ]
  },
  {
   "cell_type": "markdown",
   "id": "a5246e55",
   "metadata": {},
   "source": [
    "The R-squared is telling us that just using the mean does not fit the data at all (negative). It was even worse when I tried median. Therefore, we should try to strive for a positive R-squared and a RMSE below ~1.15"
   ]
  },
  {
   "cell_type": "markdown",
   "id": "cd0ec4e0",
   "metadata": {},
   "source": [
    "## Linear Regression"
   ]
  },
  {
   "cell_type": "code",
   "execution_count": 327,
   "id": "983071c5",
   "metadata": {},
   "outputs": [
    {
     "name": "stdout",
     "output_type": "stream",
     "text": [
      "RMSE  1.055933836916692\n"
     ]
    }
   ],
   "source": [
    "from sklearn.linear_model import LinearRegression\n",
    "\n",
    "\n",
    "X_train, X_test, y_train, y_test = train_test_split(X,y, random_state=45)\n",
    "\n",
    "lr = LinearRegression() #instantiate\n",
    "\n",
    "lr.fit(X_train,y_train) #fit\n",
    "\n",
    "lr_pred_class = lr.predict(X_test) #predict\n",
    "\n",
    "#Measure error\n",
    "print('RMSE ', np.sqrt(metrics.mean_squared_error(y_test, lr_pred_class)))"
   ]
  },
  {
   "cell_type": "markdown",
   "id": "b1580a83",
   "metadata": {},
   "source": [
    "cross-validation makes me feel better, but I did the above as practice"
   ]
  },
  {
   "cell_type": "code",
   "execution_count": 328,
   "id": "d8bd45c9",
   "metadata": {},
   "outputs": [
    {
     "name": "stdout",
     "output_type": "stream",
     "text": [
      "R-squared: 0.2236281995793176\n",
      "RMSE: 1.0224040532759024\n"
     ]
    }
   ],
   "source": [
    "#try 5 splits (also tried up to 10 and it provided similar results)\n",
    "kf = model_selection.KFold(n_splits=5, shuffle=True, random_state=45)\n",
    "print('R-squared:', np.mean(cross_val_score(lr, X, y, cv=kf)))\n",
    "print('RMSE:', np.sqrt(np.mean(-cross_val_score(lr, X, y, cv=kf, scoring='neg_mean_squared_error'))))\n",
    "\n"
   ]
  },
  {
   "cell_type": "markdown",
   "id": "6f92bfa8",
   "metadata": {},
   "source": [
    "This is a weak R-squared (0.21), but it does beat the baseline. At the very least, the model weakly fits the data. What this tells us that the model can predict a pitcher's WAR value plus or minus 1. Considering that most pitchers have a WAR between 0 and 1, this is not very helpful. However, if we predict a pitcher to have a WAR a decent amount above 1 (say 1.5), then it may be a good bet that this pitcher will be successful. MLB scouts always look for the best MLB prospects, and they don't always pan out so this result may reflect that.\n",
    "\n",
    "Let's look at other models to see if they may do better."
   ]
  },
  {
   "cell_type": "code",
   "execution_count": 329,
   "id": "24288b0e",
   "metadata": {},
   "outputs": [],
   "source": [
    "import statsmodels.api as sm\n",
    "X = sm.add_constant(X) ## let's add an intercept (beta_0) to our model"
   ]
  },
  {
   "cell_type": "code",
   "execution_count": 330,
   "id": "225c775b",
   "metadata": {
    "scrolled": true
   },
   "outputs": [
    {
     "data": {
      "text/html": [
       "<table class=\"simpletable\">\n",
       "<caption>OLS Regression Results</caption>\n",
       "<tr>\n",
       "  <th>Dep. Variable:</th>           <td>WAR</td>       <th>  R-squared:         </th> <td>   0.231</td> \n",
       "</tr>\n",
       "<tr>\n",
       "  <th>Model:</th>                   <td>OLS</td>       <th>  Adj. R-squared:    </th> <td>   0.227</td> \n",
       "</tr>\n",
       "<tr>\n",
       "  <th>Method:</th>             <td>Least Squares</td>  <th>  F-statistic:       </th> <td>   56.88</td> \n",
       "</tr>\n",
       "<tr>\n",
       "  <th>Date:</th>             <td>Sun, 19 Dec 2021</td> <th>  Prob (F-statistic):</th> <td>2.74e-120</td>\n",
       "</tr>\n",
       "<tr>\n",
       "  <th>Time:</th>                 <td>15:14:21</td>     <th>  Log-Likelihood:    </th> <td> -3279.2</td> \n",
       "</tr>\n",
       "<tr>\n",
       "  <th>No. Observations:</th>      <td>  2282</td>      <th>  AIC:               </th> <td>   6584.</td> \n",
       "</tr>\n",
       "<tr>\n",
       "  <th>Df Residuals:</th>          <td>  2269</td>      <th>  BIC:               </th> <td>   6659.</td> \n",
       "</tr>\n",
       "<tr>\n",
       "  <th>Df Model:</th>              <td>    12</td>      <th>                     </th>     <td> </td>    \n",
       "</tr>\n",
       "<tr>\n",
       "  <th>Covariance Type:</th>      <td>nonrobust</td>    <th>                     </th>     <td> </td>    \n",
       "</tr>\n",
       "</table>\n",
       "<table class=\"simpletable\">\n",
       "<tr>\n",
       "          <td></td>             <th>coef</th>     <th>std err</th>      <th>t</th>      <th>P>|t|</th>  <th>[0.025</th>    <th>0.975]</th>  \n",
       "</tr>\n",
       "<tr>\n",
       "  <th>const</th>             <td>  -24.6804</td> <td>   36.557</td> <td>   -0.675</td> <td> 0.500</td> <td>  -96.370</td> <td>   47.009</td>\n",
       "</tr>\n",
       "<tr>\n",
       "  <th>BB/9</th>              <td>   -0.2936</td> <td>    0.017</td> <td>  -17.607</td> <td> 0.000</td> <td>   -0.326</td> <td>   -0.261</td>\n",
       "</tr>\n",
       "<tr>\n",
       "  <th>F-Strike%</th>         <td>    2.4221</td> <td>    0.456</td> <td>    5.315</td> <td> 0.000</td> <td>    1.529</td> <td>    3.316</td>\n",
       "</tr>\n",
       "<tr>\n",
       "  <th>avg_spin</th>          <td>    0.0006</td> <td>    0.000</td> <td>    4.797</td> <td> 0.000</td> <td>    0.000</td> <td>    0.001</td>\n",
       "</tr>\n",
       "<tr>\n",
       "  <th>avg_fastest_speed</th> <td>    0.1079</td> <td>    0.010</td> <td>   11.062</td> <td> 0.000</td> <td>    0.089</td> <td>    0.127</td>\n",
       "</tr>\n",
       "<tr>\n",
       "  <th>n_ff</th>              <td>    0.1293</td> <td>    0.366</td> <td>    0.353</td> <td> 0.724</td> <td>   -0.588</td> <td>    0.846</td>\n",
       "</tr>\n",
       "<tr>\n",
       "  <th>n_si</th>              <td>    0.1301</td> <td>    0.366</td> <td>    0.356</td> <td> 0.722</td> <td>   -0.587</td> <td>    0.847</td>\n",
       "</tr>\n",
       "<tr>\n",
       "  <th>n_fc</th>              <td>    0.1323</td> <td>    0.366</td> <td>    0.362</td> <td> 0.718</td> <td>   -0.585</td> <td>    0.849</td>\n",
       "</tr>\n",
       "<tr>\n",
       "  <th>n_sl</th>              <td>    0.1346</td> <td>    0.366</td> <td>    0.368</td> <td> 0.713</td> <td>   -0.582</td> <td>    0.852</td>\n",
       "</tr>\n",
       "<tr>\n",
       "  <th>n_ch</th>              <td>    0.1389</td> <td>    0.366</td> <td>    0.380</td> <td> 0.704</td> <td>   -0.578</td> <td>    0.856</td>\n",
       "</tr>\n",
       "<tr>\n",
       "  <th>n_cu</th>              <td>    0.1438</td> <td>    0.366</td> <td>    0.393</td> <td> 0.694</td> <td>   -0.573</td> <td>    0.861</td>\n",
       "</tr>\n",
       "<tr>\n",
       "  <th>n_fs</th>              <td>    0.1462</td> <td>    0.366</td> <td>    0.400</td> <td> 0.689</td> <td>   -0.571</td> <td>    0.863</td>\n",
       "</tr>\n",
       "<tr>\n",
       "  <th>throws</th>            <td>    0.2697</td> <td>    0.051</td> <td>    5.302</td> <td> 0.000</td> <td>    0.170</td> <td>    0.370</td>\n",
       "</tr>\n",
       "</table>\n",
       "<table class=\"simpletable\">\n",
       "<tr>\n",
       "  <th>Omnibus:</th>       <td>973.999</td> <th>  Durbin-Watson:     </th> <td>   1.493</td>\n",
       "</tr>\n",
       "<tr>\n",
       "  <th>Prob(Omnibus):</th> <td> 0.000</td>  <th>  Jarque-Bera (JB):  </th> <td>5402.167</td>\n",
       "</tr>\n",
       "<tr>\n",
       "  <th>Skew:</th>          <td> 1.960</td>  <th>  Prob(JB):          </th> <td>    0.00</td>\n",
       "</tr>\n",
       "<tr>\n",
       "  <th>Kurtosis:</th>      <td> 9.438</td>  <th>  Cond. No.          </th> <td>4.01e+06</td>\n",
       "</tr>\n",
       "</table><br/><br/>Notes:<br/>[1] Standard Errors assume that the covariance matrix of the errors is correctly specified.<br/>[2] The condition number is large, 4.01e+06. This might indicate that there are<br/>strong multicollinearity or other numerical problems."
      ],
      "text/plain": [
       "<class 'statsmodels.iolib.summary.Summary'>\n",
       "\"\"\"\n",
       "                            OLS Regression Results                            \n",
       "==============================================================================\n",
       "Dep. Variable:                    WAR   R-squared:                       0.231\n",
       "Model:                            OLS   Adj. R-squared:                  0.227\n",
       "Method:                 Least Squares   F-statistic:                     56.88\n",
       "Date:                Sun, 19 Dec 2021   Prob (F-statistic):          2.74e-120\n",
       "Time:                        15:14:21   Log-Likelihood:                -3279.2\n",
       "No. Observations:                2282   AIC:                             6584.\n",
       "Df Residuals:                    2269   BIC:                             6659.\n",
       "Df Model:                          12                                         \n",
       "Covariance Type:            nonrobust                                         \n",
       "=====================================================================================\n",
       "                        coef    std err          t      P>|t|      [0.025      0.975]\n",
       "-------------------------------------------------------------------------------------\n",
       "const               -24.6804     36.557     -0.675      0.500     -96.370      47.009\n",
       "BB/9                 -0.2936      0.017    -17.607      0.000      -0.326      -0.261\n",
       "F-Strike%             2.4221      0.456      5.315      0.000       1.529       3.316\n",
       "avg_spin              0.0006      0.000      4.797      0.000       0.000       0.001\n",
       "avg_fastest_speed     0.1079      0.010     11.062      0.000       0.089       0.127\n",
       "n_ff                  0.1293      0.366      0.353      0.724      -0.588       0.846\n",
       "n_si                  0.1301      0.366      0.356      0.722      -0.587       0.847\n",
       "n_fc                  0.1323      0.366      0.362      0.718      -0.585       0.849\n",
       "n_sl                  0.1346      0.366      0.368      0.713      -0.582       0.852\n",
       "n_ch                  0.1389      0.366      0.380      0.704      -0.578       0.856\n",
       "n_cu                  0.1438      0.366      0.393      0.694      -0.573       0.861\n",
       "n_fs                  0.1462      0.366      0.400      0.689      -0.571       0.863\n",
       "throws                0.2697      0.051      5.302      0.000       0.170       0.370\n",
       "==============================================================================\n",
       "Omnibus:                      973.999   Durbin-Watson:                   1.493\n",
       "Prob(Omnibus):                  0.000   Jarque-Bera (JB):             5402.167\n",
       "Skew:                           1.960   Prob(JB):                         0.00\n",
       "Kurtosis:                       9.438   Cond. No.                     4.01e+06\n",
       "==============================================================================\n",
       "\n",
       "Notes:\n",
       "[1] Standard Errors assume that the covariance matrix of the errors is correctly specified.\n",
       "[2] The condition number is large, 4.01e+06. This might indicate that there are\n",
       "strong multicollinearity or other numerical problems.\n",
       "\"\"\""
      ]
     },
     "execution_count": 330,
     "metadata": {},
     "output_type": "execute_result"
    }
   ],
   "source": [
    "# Note the difference in argument order\n",
    "model = sm.OLS(y, X).fit() ## sm.OLS(output, input)\n",
    "predictions = model.predict(X)\n",
    "\n",
    "# Print out the statistics\n",
    "model.summary()\n"
   ]
  },
  {
   "cell_type": "code",
   "execution_count": 331,
   "id": "81839993",
   "metadata": {},
   "outputs": [],
   "source": [
    "X=feature_cols = ['BB/9','F-Strike%','avg_spin', 'avg_fastest_speed',  'n_ff', 'n_si', 'n_fc', 'n_sl', 'n_ch', 'n_cu', 'n_fs', 'throws']\n",
    "X = pitching_data[feature_cols]"
   ]
  },
  {
   "cell_type": "markdown",
   "id": "177bece8",
   "metadata": {},
   "source": [
    "## Decision Tree Regressor"
   ]
  },
  {
   "cell_type": "code",
   "execution_count": 332,
   "id": "4841910a",
   "metadata": {},
   "outputs": [],
   "source": [
    "from sklearn.tree import DecisionTreeRegressor\n",
    "from sklearn.model_selection import GridSearchCV"
   ]
  },
  {
   "cell_type": "markdown",
   "id": "beefaee2",
   "metadata": {},
   "source": [
    "Let's tune the decision tree first. Let's find the best max depth of the tree."
   ]
  },
  {
   "cell_type": "code",
   "execution_count": 333,
   "id": "bff163ca",
   "metadata": {},
   "outputs": [],
   "source": [
    "# List of values to try for max_depth:\n",
    "max_depth_range = range(1, 30)\n",
    "\n",
    "# List to store the average RMSE for each value of max_depth:\n",
    "RMSE_scores = []\n",
    "\n",
    "# Use 10-fold cross-validation with each value of max_depth.\n",
    "from sklearn.model_selection import cross_val_score\n",
    "for depth in max_depth_range:\n",
    "    treereg = DecisionTreeRegressor(max_depth=depth, random_state=1)\n",
    "    MSE_scores = cross_val_score(treereg, X, y, cv=10, scoring='neg_mean_squared_error')\n",
    "    RMSE_scores.append(np.mean(np.sqrt(-MSE_scores)))"
   ]
  },
  {
   "cell_type": "code",
   "execution_count": 334,
   "id": "19e09e61",
   "metadata": {},
   "outputs": [
    {
     "data": {
      "image/png": "[encoded data removed]",
      "text/plain": [
       "<Figure size 432x288 with 1 Axes>"
      ]
     },
     "metadata": {
      "needs_background": "light"
     },
     "output_type": "display_data"
    }
   ],
   "source": [
    "# Plot max_depth (x-axis) versus RMSE (y-axis).\n",
    "plt.plot(max_depth_range, RMSE_scores);\n",
    "plt.xlabel('max_depth');\n",
    "plt.ylabel('RMSE (lower is better)');"
   ]
  },
  {
   "cell_type": "code",
   "execution_count": 335,
   "id": "7043f0d0",
   "metadata": {},
   "outputs": [
    {
     "data": {
      "text/plain": [
       "{'max_depth': 4}"
      ]
     },
     "execution_count": 335,
     "metadata": {},
     "output_type": "execute_result"
    }
   ],
   "source": [
    "#use grid search to get the best parameters\n",
    "n=range(1,15)\n",
    "params={'max_depth': n}\n",
    "gs = GridSearchCV(DecisionTreeRegressor(random_state = 1),\n",
    "                  param_grid=params,\n",
    "                  cv=4)\n",
    "gs.fit(X, y)\n",
    "gs.best_params_"
   ]
  },
  {
   "cell_type": "markdown",
   "id": "cee34cf6",
   "metadata": {},
   "source": [
    "The best max depth is 4. Let's fit it to some test data and predict."
   ]
  },
  {
   "cell_type": "code",
   "execution_count": 336,
   "id": "1352238f",
   "metadata": {},
   "outputs": [
    {
     "name": "stdout",
     "output_type": "stream",
     "text": [
      "Cross Validated R-squared: 0.19783721031613233\n",
      "Cross Validated RMSE: 1.0382500082442134\n"
     ]
    }
   ],
   "source": [
    "#y = pitching_data['successful']\n",
    "\n",
    "X_train, X_test, y_train, y_test = train_test_split(X,y, random_state=45)\n",
    "\n",
    "#Build our model\n",
    "\n",
    "DTR = DecisionTreeRegressor(max_depth=4, random_state=6)\n",
    "\n",
    "print('Cross Validated R-squared:', np.mean(cross_val_score(DTR, X, y, cv=kf)))\n",
    "print('Cross Validated RMSE:', np.sqrt(np.mean(-cross_val_score(DTR, X, y, cv=kf, scoring='neg_mean_squared_error'))))"
   ]
  },
  {
   "cell_type": "code",
   "execution_count": 337,
   "id": "3d8303e2",
   "metadata": {},
   "outputs": [
    {
     "data": {
      "text/html": [
       "<div>\n",
       "<style scoped>\n",
       "    .dataframe tbody tr th:only-of-type {\n",
       "        vertical-align: middle;\n",
       "    }\n",
       "\n",
       "    .dataframe tbody tr th {\n",
       "        vertical-align: top;\n",
       "    }\n",
       "\n",
       "    .dataframe thead th {\n",
       "        text-align: right;\n",
       "    }\n",
       "</style>\n",
       "<table border=\"1\" class=\"dataframe\">\n",
       "  <thead>\n",
       "    <tr style=\"text-align: right;\">\n",
       "      <th></th>\n",
       "      <th>feature</th>\n",
       "      <th>importance</th>\n",
       "    </tr>\n",
       "  </thead>\n",
       "  <tbody>\n",
       "    <tr>\n",
       "      <th>0</th>\n",
       "      <td>BB/9</td>\n",
       "      <td>0.624795</td>\n",
       "    </tr>\n",
       "    <tr>\n",
       "      <th>3</th>\n",
       "      <td>avg_fastest_speed</td>\n",
       "      <td>0.184663</td>\n",
       "    </tr>\n",
       "    <tr>\n",
       "      <th>9</th>\n",
       "      <td>n_cu</td>\n",
       "      <td>0.125074</td>\n",
       "    </tr>\n",
       "    <tr>\n",
       "      <th>1</th>\n",
       "      <td>F-Strike%</td>\n",
       "      <td>0.055266</td>\n",
       "    </tr>\n",
       "    <tr>\n",
       "      <th>7</th>\n",
       "      <td>n_sl</td>\n",
       "      <td>0.005611</td>\n",
       "    </tr>\n",
       "    <tr>\n",
       "      <th>2</th>\n",
       "      <td>avg_spin</td>\n",
       "      <td>0.004592</td>\n",
       "    </tr>\n",
       "    <tr>\n",
       "      <th>4</th>\n",
       "      <td>n_ff</td>\n",
       "      <td>0.000000</td>\n",
       "    </tr>\n",
       "    <tr>\n",
       "      <th>5</th>\n",
       "      <td>n_si</td>\n",
       "      <td>0.000000</td>\n",
       "    </tr>\n",
       "    <tr>\n",
       "      <th>6</th>\n",
       "      <td>n_fc</td>\n",
       "      <td>0.000000</td>\n",
       "    </tr>\n",
       "    <tr>\n",
       "      <th>8</th>\n",
       "      <td>n_ch</td>\n",
       "      <td>0.000000</td>\n",
       "    </tr>\n",
       "    <tr>\n",
       "      <th>10</th>\n",
       "      <td>n_fs</td>\n",
       "      <td>0.000000</td>\n",
       "    </tr>\n",
       "    <tr>\n",
       "      <th>11</th>\n",
       "      <td>throws</td>\n",
       "      <td>0.000000</td>\n",
       "    </tr>\n",
       "  </tbody>\n",
       "</table>\n",
       "</div>"
      ],
      "text/plain": [
       "              feature  importance\n",
       "0                BB/9    0.624795\n",
       "3   avg_fastest_speed    0.184663\n",
       "9                n_cu    0.125074\n",
       "1           F-Strike%    0.055266\n",
       "7                n_sl    0.005611\n",
       "2            avg_spin    0.004592\n",
       "4                n_ff    0.000000\n",
       "5                n_si    0.000000\n",
       "6                n_fc    0.000000\n",
       "8                n_ch    0.000000\n",
       "10               n_fs    0.000000\n",
       "11             throws    0.000000"
      ]
     },
     "execution_count": 337,
     "metadata": {},
     "output_type": "execute_result"
    }
   ],
   "source": [
    "DTR.fit(X,y)\n",
    "pd.DataFrame({'feature':feature_cols,\n",
    "              'importance':DTR.feature_importances_}).sort_values(by='importance', ascending=False)"
   ]
  },
  {
   "cell_type": "markdown",
   "id": "398ff77a",
   "metadata": {},
   "source": [
    "Again, BB/9 dominates. What shocks me is the importance of the percentage of curveballs thrown. It's somehow greater than the average spin on the baseball, which astonishes me considering the emphasis on spin rate in baseball in recent years! \n",
    "\n",
    "However, I also realize that this is indicative of what the above model thinks is important and is not an objective assessment of the features."
   ]
  },
  {
   "cell_type": "code",
   "execution_count": 338,
   "id": "d02a2e95",
   "metadata": {},
   "outputs": [
    {
     "name": "stdout",
     "output_type": "stream",
     "text": [
      "Cross Validated R-squared: 0.19783721031613233\n",
      "Cross Validated RMSE: 1.0382500082442134\n"
     ]
    }
   ],
   "source": [
    "print('Cross Validated R-squared:', np.mean(cross_val_score(DTR, X, y, cv=kf)))\n",
    "print('Cross Validated RMSE:', np.sqrt(np.mean(-cross_val_score(DTR, X, y, cv=kf, scoring='neg_mean_squared_error'))))"
   ]
  },
  {
   "cell_type": "markdown",
   "id": "d0c53330",
   "metadata": {},
   "source": [
    "Similar to the case in classification, it seems the decision tree just slightly underperforms the linear regression model."
   ]
  },
  {
   "cell_type": "markdown",
   "id": "8223241c",
   "metadata": {},
   "source": [
    "Lastly, let's check the random forest regressor to get more exposure to alll the features."
   ]
  },
  {
   "cell_type": "markdown",
   "id": "87ba3c9c",
   "metadata": {},
   "source": [
    "## Random Forest Regressor"
   ]
  },
  {
   "cell_type": "code",
   "execution_count": 339,
   "id": "12eb63d6",
   "metadata": {},
   "outputs": [],
   "source": [
    "from sklearn.ensemble import RandomForestRegressor\n",
    "rfreg = RandomForestRegressor() #instantiate"
   ]
  },
  {
   "cell_type": "markdown",
   "id": "1aaaa7ff",
   "metadata": {},
   "source": [
    "Let's tune the Random Forest Regressor Model. Let's get the number of estimators down. Mind that the tuning is a slow process."
   ]
  },
  {
   "cell_type": "code",
   "execution_count": 363,
   "id": "37f89135",
   "metadata": {},
   "outputs": [],
   "source": [
    "# CELL IS SLOW, BE CAREFUL BEFORE RUNNING\n",
    "estimator_range = range(10, 500, 10)\n",
    "\n",
    "RMSE_scores = []\n",
    "\n",
    "for estimator in estimator_range:\n",
    "    rfreg = RandomForestRegressor(n_estimators=estimator, random_state=33)\n",
    "    MSE_scores = cross_val_score(rfreg, X, y, cv=5, scoring='neg_mean_squared_error')\n",
    "    RMSE_scores.append(np.mean(np.sqrt(-MSE_scores)))"
   ]
  },
  {
   "cell_type": "markdown",
   "id": "fd28cdd2",
   "metadata": {},
   "source": [
    "Minimize Root Mean Squared Error."
   ]
  },
  {
   "cell_type": "code",
   "execution_count": 364,
   "id": "00e2c25a",
   "metadata": {},
   "outputs": [
    {
     "data": {
      "image/png": "[encoded data removed]",
      "text/plain": [
       "<Figure size 432x288 with 1 Axes>"
      ]
     },
     "metadata": {
      "needs_background": "light"
     },
     "output_type": "display_data"
    }
   ],
   "source": [
    "# Plot RMSE (y-axis) versus n_estimators (x-axis).\n",
    "\n",
    "plt.plot(estimator_range, RMSE_scores);\n",
    "\n",
    "plt.xlabel('n_estimators');\n",
    "plt.ylabel('RMSE (lower is better)');"
   ]
  },
  {
   "cell_type": "markdown",
   "id": "0c00695f",
   "metadata": {},
   "source": [
    "Find the best number of estimators."
   ]
  },
  {
   "cell_type": "code",
   "execution_count": 365,
   "id": "7d60a092",
   "metadata": {
    "scrolled": true
   },
   "outputs": [
    {
     "data": {
      "text/plain": [
       "[(0.9852164297491713, 250),\n",
       " (0.9853265781853133, 260),\n",
       " (0.9855770177356054, 270),\n",
       " (0.9856342385229221, 240),\n",
       " (0.9860175279327132, 340),\n",
       " (0.9860415396269611, 180),\n",
       " (0.9860738214705709, 350),\n",
       " (0.9861030663968456, 190),\n",
       " (0.9861496429703276, 200),\n",
       " (0.9862138781813886, 280)]"
      ]
     },
     "execution_count": 365,
     "metadata": {},
     "output_type": "execute_result"
    }
   ],
   "source": [
    "sorted(list(zip(RMSE_scores, estimator_range)))[0:10]\n",
    "\n",
    "#estimator ~250"
   ]
  },
  {
   "cell_type": "markdown",
   "id": "22fb2d70",
   "metadata": {},
   "source": [
    "The best number of estimators is __250__."
   ]
  },
  {
   "cell_type": "markdown",
   "id": "c2aa52d3",
   "metadata": {},
   "source": [
    "Next, let's narrow down the max number of features. This is the maximum number of features considered during each split in the tree"
   ]
  },
  {
   "cell_type": "code",
   "execution_count": 366,
   "id": "80cd9406",
   "metadata": {},
   "outputs": [
    {
     "name": "stdout",
     "output_type": "stream",
     "text": [
      "1\n",
      "Cross Validated R-squared: 0.29908591575537\n",
      "Cross Validated RMSE: 0.9714038590037718\n",
      "2\n",
      "Cross Validated R-squared: 0.3195027311058027\n",
      "Cross Validated RMSE: 0.957366568819513\n",
      "3\n",
      "Cross Validated R-squared: 0.32949816940489\n",
      "Cross Validated RMSE: 0.9500180081438521\n",
      "4\n",
      "Cross Validated R-squared: 0.3327028501975791\n",
      "Cross Validated RMSE: 0.9479262022449885\n",
      "5\n",
      "Cross Validated R-squared: 0.33060651875901004\n",
      "Cross Validated RMSE: 0.9493630388715455\n",
      "6\n",
      "Cross Validated R-squared: 0.3267759248493491\n",
      "Cross Validated RMSE: 0.9518630870628012\n",
      "7\n",
      "Cross Validated R-squared: 0.31847395916378457\n",
      "Cross Validated RMSE: 0.9578712842244766\n"
     ]
    }
   ],
   "source": [
    "for i in range(1, 8):\n",
    "    rfreg = RandomForestRegressor(n_estimators=250,\n",
    "                              max_features=i,\n",
    "                              oob_score=True,\n",
    "                              random_state=33)\n",
    "    rfreg.fit(X, y)\n",
    "    print(i)\n",
    "    print('Cross Validated R-squared:', np.mean(cross_val_score(rfreg, X, y, cv=kf)))\n",
    "    print('Cross Validated RMSE:', np.sqrt(np.mean(-cross_val_score(rfreg, X, y, cv=kf, scoring='neg_mean_squared_error'))))\n"
   ]
  },
  {
   "cell_type": "markdown",
   "id": "e370c5a1",
   "metadata": {},
   "source": [
    "The best value for max_features is __4__."
   ]
  },
  {
   "cell_type": "code",
   "execution_count": 367,
   "id": "1c250937",
   "metadata": {},
   "outputs": [
    {
     "data": {
      "text/plain": [
       "RandomForestRegressor(max_features=4, n_estimators=250, oob_score=True,\n",
       "                      random_state=33)"
      ]
     },
     "execution_count": 367,
     "metadata": {},
     "output_type": "execute_result"
    }
   ],
   "source": [
    "rfreg = RandomForestRegressor(n_estimators=250,\n",
    "                              max_features=4,\n",
    "                              oob_score=True,\n",
    "                              random_state=33)\n",
    "rfreg.fit(X, y)"
   ]
  },
  {
   "cell_type": "code",
   "execution_count": 368,
   "id": "2835e1a0",
   "metadata": {},
   "outputs": [
    {
     "name": "stdout",
     "output_type": "stream",
     "text": [
      "Cross Validated R-squared: 0.3327028501975791\n",
      "Cross Validated RMSE: 0.9479262022449885\n"
     ]
    }
   ],
   "source": [
    "print('Cross Validated R-squared:', np.mean(cross_val_score(rfreg, X, y, cv=kf)))\n",
    "print('Cross Validated RMSE:', np.sqrt(np.mean(-cross_val_score(rfreg, X, y, cv=kf, scoring='neg_mean_squared_error'))))\n"
   ]
  },
  {
   "cell_type": "markdown",
   "id": "c72c5ba6",
   "metadata": {},
   "source": [
    "Looking at the R Squared value for the Random Forest Regressor, we see that it does __much better than linear regression__. However, still fits the model fairly weakly. The RMSE error is ~0.95, which makes it hard to predict the successfulness of the average MLB pitcher (since they typically have a WAR under 1). Yet, it is useful in predicting pitcher's that may exhibit exceptional results (WAR above 1). \n",
    "\n",
    "Let's look at the feature importance."
   ]
  },
  {
   "cell_type": "code",
   "execution_count": 369,
   "id": "913c0f91",
   "metadata": {},
   "outputs": [
    {
     "data": {
      "text/html": [
       "<div>\n",
       "<style scoped>\n",
       "    .dataframe tbody tr th:only-of-type {\n",
       "        vertical-align: middle;\n",
       "    }\n",
       "\n",
       "    .dataframe tbody tr th {\n",
       "        vertical-align: top;\n",
       "    }\n",
       "\n",
       "    .dataframe thead th {\n",
       "        text-align: right;\n",
       "    }\n",
       "</style>\n",
       "<table border=\"1\" class=\"dataframe\">\n",
       "  <thead>\n",
       "    <tr style=\"text-align: right;\">\n",
       "      <th></th>\n",
       "      <th>feature</th>\n",
       "      <th>importance</th>\n",
       "    </tr>\n",
       "  </thead>\n",
       "  <tbody>\n",
       "    <tr>\n",
       "      <th>0</th>\n",
       "      <td>BB/9</td>\n",
       "      <td>0.236990</td>\n",
       "    </tr>\n",
       "    <tr>\n",
       "      <th>1</th>\n",
       "      <td>F-Strike%</td>\n",
       "      <td>0.119091</td>\n",
       "    </tr>\n",
       "    <tr>\n",
       "      <th>3</th>\n",
       "      <td>avg_fastest_speed</td>\n",
       "      <td>0.117748</td>\n",
       "    </tr>\n",
       "    <tr>\n",
       "      <th>9</th>\n",
       "      <td>n_cu</td>\n",
       "      <td>0.094650</td>\n",
       "    </tr>\n",
       "    <tr>\n",
       "      <th>2</th>\n",
       "      <td>avg_spin</td>\n",
       "      <td>0.092560</td>\n",
       "    </tr>\n",
       "    <tr>\n",
       "      <th>4</th>\n",
       "      <td>n_ff</td>\n",
       "      <td>0.080454</td>\n",
       "    </tr>\n",
       "    <tr>\n",
       "      <th>8</th>\n",
       "      <td>n_ch</td>\n",
       "      <td>0.070525</td>\n",
       "    </tr>\n",
       "    <tr>\n",
       "      <th>7</th>\n",
       "      <td>n_sl</td>\n",
       "      <td>0.068198</td>\n",
       "    </tr>\n",
       "    <tr>\n",
       "      <th>5</th>\n",
       "      <td>n_si</td>\n",
       "      <td>0.057422</td>\n",
       "    </tr>\n",
       "    <tr>\n",
       "      <th>6</th>\n",
       "      <td>n_fc</td>\n",
       "      <td>0.035257</td>\n",
       "    </tr>\n",
       "    <tr>\n",
       "      <th>11</th>\n",
       "      <td>throws</td>\n",
       "      <td>0.013687</td>\n",
       "    </tr>\n",
       "    <tr>\n",
       "      <th>10</th>\n",
       "      <td>n_fs</td>\n",
       "      <td>0.013418</td>\n",
       "    </tr>\n",
       "  </tbody>\n",
       "</table>\n",
       "</div>"
      ],
      "text/plain": [
       "              feature  importance\n",
       "0                BB/9    0.236990\n",
       "1           F-Strike%    0.119091\n",
       "3   avg_fastest_speed    0.117748\n",
       "9                n_cu    0.094650\n",
       "2            avg_spin    0.092560\n",
       "4                n_ff    0.080454\n",
       "8                n_ch    0.070525\n",
       "7                n_sl    0.068198\n",
       "5                n_si    0.057422\n",
       "6                n_fc    0.035257\n",
       "11             throws    0.013687\n",
       "10               n_fs    0.013418"
      ]
     },
     "execution_count": 369,
     "metadata": {},
     "output_type": "execute_result"
    }
   ],
   "source": [
    "pd.DataFrame({'feature':feature_cols,\n",
    "              'importance':rfreg.feature_importances_}).sort_values(by='importance', ascending=False)"
   ]
  },
  {
   "cell_type": "markdown",
   "id": "3e02ec9b",
   "metadata": {},
   "source": [
    "As expected the most important feature is BB/9, followed by F-Strike% and how fast the pitcher thorws. The percentage of curveballs thrown is again a shocking result. I'd expect the spin of the baseball to have more importance. \n",
    "\n",
    "The hand at which a pitcher throws seems to have little to no importance. Historically, pitchers perform better against batters who swing from the same side they are throwing. Yet, on a macro-scale, the hand a pitcher throws has no influence on their overall WAR. I wonder if this is a consequence of how pitcher's are used or if this is an indication that pitcher handidness collectively does not really matter?"
   ]
  },
  {
   "cell_type": "markdown",
   "id": "a7bd00d1",
   "metadata": {},
   "source": [
    "# Summary of Machine Learning Models Tested"
   ]
  },
  {
   "cell_type": "markdown",
   "id": "c750260e",
   "metadata": {},
   "source": [
    "__RESULT__: Among the classification algorithms, __logistic regression__ performed the best with cross validation.\n",
    "\n",
    "__RESULT__: Among the regression algorithms, __random forest regression__ performed the best with cross validation.\n",
    "\n",
    "I am not sure exactly why the random forest classifier performed much worse than the random forest regressor since the response variable come from the same source (except one is categorical and the other continuous). Is this because WAR is skewed left? "
   ]
  },
  {
   "cell_type": "markdown",
   "id": "4a9ffa83",
   "metadata": {},
   "source": [
    "Another important note is the dominance BB/9 in all models tested. It seems BB/9 is integral to a pitcher's success. Let's try a logistic regression without BB/9 and see if the other features can reject the null hypothesis. "
   ]
  },
  {
   "cell_type": "markdown",
   "id": "f5a8421f",
   "metadata": {},
   "source": [
    "#### Try removing BB/9 (Logistic Regression)"
   ]
  },
  {
   "cell_type": "code",
   "execution_count": 370,
   "id": "f748af36",
   "metadata": {},
   "outputs": [],
   "source": [
    "#remove BB/9 for the new feature columns\n",
    "feature_cols = ['F-Strike%','avg_spin', 'avg_fastest_speed',  'n_ff', 'n_si', 'n_fc', 'n_sl', 'n_ch', 'n_cu', 'n_fs', 'throws']\n",
    "X = pitching_data[feature_cols]\n",
    "y = pitching_data['successful']"
   ]
  },
  {
   "cell_type": "code",
   "execution_count": 371,
   "id": "6d5dc211",
   "metadata": {},
   "outputs": [],
   "source": [
    "logreg = LogisticRegression(max_iter=1500, random_state=89)"
   ]
  },
  {
   "cell_type": "code",
   "execution_count": 372,
   "id": "bfaaa99f",
   "metadata": {},
   "outputs": [
    {
     "name": "stdout",
     "output_type": "stream",
     "text": [
      "accuracy: 0.6568774233175938\n",
      "precision: 0.6645173524071557\n",
      "recall: 0.964207059449721\n"
     ]
    }
   ],
   "source": [
    "#5 split cross validation on the dataset\n",
    "kf = model_selection.KFold(n_splits=5, shuffle=True, random_state=40)\n",
    "\n",
    "print('accuracy:', np.mean(cross_val_score(logreg, X, y, cv=kf, scoring='accuracy')))\n",
    "print('precision:', np.mean(cross_val_score(logreg, X, y, cv=kf, scoring='precision')))\n",
    "print('recall:', np.mean(cross_val_score(logreg, X, y, cv=kf, scoring='recall')))"
   ]
  },
  {
   "cell_type": "markdown",
   "id": "de095444",
   "metadata": {},
   "source": [
    "We see that the accuracy does not reject the null baseline. This shows that BB/9 is the sole feature that pushes the original logistic regression test to beat the baseline. Look below for the baseline (most frequent)."
   ]
  },
  {
   "cell_type": "code",
   "execution_count": 373,
   "id": "6e7c4c72",
   "metadata": {},
   "outputs": [
    {
     "data": {
      "text/plain": [
       "1    0.656004\n",
       "0    0.343996\n",
       "Name: successful, dtype: float64"
      ]
     },
     "execution_count": 373,
     "metadata": {},
     "output_type": "execute_result"
    }
   ],
   "source": [
    "y.value_counts(normalize=True)"
   ]
  },
  {
   "cell_type": "markdown",
   "id": "4f493680",
   "metadata": {},
   "source": [
    "Let's look at the confusion matrix to see how the predictions are made."
   ]
  },
  {
   "cell_type": "code",
   "execution_count": 374,
   "id": "30fadcd6",
   "metadata": {},
   "outputs": [
    {
     "data": {
      "text/plain": [
       "<sklearn.metrics._plot.confusion_matrix.ConfusionMatrixDisplay at 0x18c62386370>"
      ]
     },
     "execution_count": 374,
     "metadata": {},
     "output_type": "execute_result"
    },
    {
     "data": {
      "image/png": "[encoded data removed]",
      "text/plain": [
       "<Figure size 432x288 with 2 Axes>"
      ]
     },
     "metadata": {
      "needs_background": "light"
     },
     "output_type": "display_data"
    }
   ],
   "source": [
    "logreg.fit(X, y)\n",
    "metrics.plot_confusion_matrix(logreg, X, y)"
   ]
  },
  {
   "cell_type": "markdown",
   "id": "6446223a",
   "metadata": {},
   "source": [
    "As expected, the model decides to predict pitchers will be successful. To add insult to injury, when the few times the model predicts the pitcher to be unsuccessful, they are actually successful. Therefore, without BB/9, logistic regression does not reject the null hypothesis."
   ]
  },
  {
   "cell_type": "markdown",
   "id": "c7e42c5a",
   "metadata": {},
   "source": [
    "Let's look at feature weights without BB/9."
   ]
  },
  {
   "cell_type": "code",
   "execution_count": 375,
   "id": "2315f9cc",
   "metadata": {},
   "outputs": [
    {
     "data": {
      "text/plain": [
       "{'F-Strike%': 0.23835532550999874,\n",
       " 'avg_spin': 0.0007060142553127179,\n",
       " 'avg_fastest_speed': 0.11421211141649275,\n",
       " 'n_ff': -0.12561257083903946,\n",
       " 'n_si': -0.11775299593224373,\n",
       " 'n_fc': -0.11446508434659763,\n",
       " 'n_sl': -0.11857486807693624,\n",
       " 'n_ch': -0.10668711175249752,\n",
       " 'n_cu': -0.11468781664063328,\n",
       " 'n_fs': -0.09134803101468382,\n",
       " 'throws': 0.4686223174268117}"
      ]
     },
     "execution_count": 375,
     "metadata": {},
     "output_type": "execute_result"
    }
   ],
   "source": [
    "feature_cols\n",
    "logreg.coef_[0]\n",
    "dict(zip(feature_cols, logreg.coef_[0]))"
   ]
  },
  {
   "cell_type": "markdown",
   "id": "e048ed9b",
   "metadata": {},
   "source": [
    "Suprisingly, throws is the most weighted feature. In the random forest regressor, throws was the second least important feature. Maybe this model is inherently flawed in making predictions without BB/9? Let's look at the Random Forest Regressor to see if it can beat the null baseline without BB/9. "
   ]
  },
  {
   "cell_type": "markdown",
   "id": "d40de998",
   "metadata": {},
   "source": [
    "#### Try removing BB/9 (Random Forest Regressor)"
   ]
  },
  {
   "cell_type": "code",
   "execution_count": 376,
   "id": "a48d5349",
   "metadata": {},
   "outputs": [],
   "source": [
    "#remove BB/9 for the new feature columns and make the response variable continuous\n",
    "feature_cols = ['F-Strike%','avg_spin', 'avg_fastest_speed',  'n_ff', 'n_si', 'n_fc', 'n_sl', 'n_ch', 'n_cu', 'n_fs', 'throws']\n",
    "X = pitching_data[feature_cols]\n",
    "y = pitching_data['WAR']"
   ]
  },
  {
   "cell_type": "code",
   "execution_count": 377,
   "id": "a37a5ab1",
   "metadata": {},
   "outputs": [
    {
     "data": {
      "text/plain": [
       "RandomForestRegressor(max_features=4, n_estimators=250, oob_score=True,\n",
       "                      random_state=40)"
      ]
     },
     "execution_count": 377,
     "metadata": {},
     "output_type": "execute_result"
    }
   ],
   "source": [
    "rfreg = RandomForestRegressor(n_estimators=250,\n",
    "                              max_features=4,\n",
    "                              oob_score=True,\n",
    "                              random_state=40)\n",
    "rfreg.fit(X, y)"
   ]
  },
  {
   "cell_type": "code",
   "execution_count": 378,
   "id": "15c3dfcf",
   "metadata": {},
   "outputs": [
    {
     "name": "stdout",
     "output_type": "stream",
     "text": [
      "Cross Validated R-squared: 0.18158323895128753\n",
      "Cross Validated RMSE: 1.048080102909498\n"
     ]
    }
   ],
   "source": [
    "print('Cross Validated R-squared:', np.mean(cross_val_score(rfreg, X, y, cv=kf)))\n",
    "print('Cross Validated RMSE:', np.sqrt(np.mean(-cross_val_score(rfreg, X, y, cv=kf, scoring='neg_mean_squared_error'))))"
   ]
  },
  {
   "cell_type": "markdown",
   "id": "b69727e7",
   "metadata": {},
   "source": [
    "Remember that the baseline (using the mean of pitcher's WAR), had a negative R squared value. This at least somewhat fits the data. In addition, the RMSE is better than the baseline. While, the efficacy of the model takes a huge hit from losing BB/9 as a feature, it still beats the baseline. Therefore, the random forest regressor can make educated decisions without BB/9, giving validity to the other features.\n",
    "\n",
    "Let's look at the feature importance"
   ]
  },
  {
   "cell_type": "code",
   "execution_count": 379,
   "id": "01dea83f",
   "metadata": {},
   "outputs": [
    {
     "data": {
      "text/html": [
       "<div>\n",
       "<style scoped>\n",
       "    .dataframe tbody tr th:only-of-type {\n",
       "        vertical-align: middle;\n",
       "    }\n",
       "\n",
       "    .dataframe tbody tr th {\n",
       "        vertical-align: top;\n",
       "    }\n",
       "\n",
       "    .dataframe thead th {\n",
       "        text-align: right;\n",
       "    }\n",
       "</style>\n",
       "<table border=\"1\" class=\"dataframe\">\n",
       "  <thead>\n",
       "    <tr style=\"text-align: right;\">\n",
       "      <th></th>\n",
       "      <th>feature</th>\n",
       "      <th>importance</th>\n",
       "    </tr>\n",
       "  </thead>\n",
       "  <tbody>\n",
       "    <tr>\n",
       "      <th>0</th>\n",
       "      <td>F-Strike%</td>\n",
       "      <td>0.181418</td>\n",
       "    </tr>\n",
       "    <tr>\n",
       "      <th>2</th>\n",
       "      <td>avg_fastest_speed</td>\n",
       "      <td>0.133429</td>\n",
       "    </tr>\n",
       "    <tr>\n",
       "      <th>1</th>\n",
       "      <td>avg_spin</td>\n",
       "      <td>0.120117</td>\n",
       "    </tr>\n",
       "    <tr>\n",
       "      <th>8</th>\n",
       "      <td>n_cu</td>\n",
       "      <td>0.112431</td>\n",
       "    </tr>\n",
       "    <tr>\n",
       "      <th>3</th>\n",
       "      <td>n_ff</td>\n",
       "      <td>0.110382</td>\n",
       "    </tr>\n",
       "    <tr>\n",
       "      <th>6</th>\n",
       "      <td>n_sl</td>\n",
       "      <td>0.094420</td>\n",
       "    </tr>\n",
       "    <tr>\n",
       "      <th>7</th>\n",
       "      <td>n_ch</td>\n",
       "      <td>0.090301</td>\n",
       "    </tr>\n",
       "    <tr>\n",
       "      <th>4</th>\n",
       "      <td>n_si</td>\n",
       "      <td>0.075815</td>\n",
       "    </tr>\n",
       "    <tr>\n",
       "      <th>5</th>\n",
       "      <td>n_fc</td>\n",
       "      <td>0.050597</td>\n",
       "    </tr>\n",
       "    <tr>\n",
       "      <th>9</th>\n",
       "      <td>n_fs</td>\n",
       "      <td>0.015586</td>\n",
       "    </tr>\n",
       "    <tr>\n",
       "      <th>10</th>\n",
       "      <td>throws</td>\n",
       "      <td>0.015505</td>\n",
       "    </tr>\n",
       "  </tbody>\n",
       "</table>\n",
       "</div>"
      ],
      "text/plain": [
       "              feature  importance\n",
       "0           F-Strike%    0.181418\n",
       "2   avg_fastest_speed    0.133429\n",
       "1            avg_spin    0.120117\n",
       "8                n_cu    0.112431\n",
       "3                n_ff    0.110382\n",
       "6                n_sl    0.094420\n",
       "7                n_ch    0.090301\n",
       "4                n_si    0.075815\n",
       "5                n_fc    0.050597\n",
       "9                n_fs    0.015586\n",
       "10             throws    0.015505"
      ]
     },
     "execution_count": 379,
     "metadata": {},
     "output_type": "execute_result"
    }
   ],
   "source": [
    "pd.DataFrame({'feature':feature_cols,\n",
    "              'importance':rfreg.feature_importances_}).sort_values(by='importance', ascending=False)"
   ]
  },
  {
   "cell_type": "markdown",
   "id": "6d27dc1f",
   "metadata": {},
   "source": [
    "Unlike logistic regression, throws is the least importnat feature. Everything else makes conceptual sense, as a pitcher's ability to throw a first pitch strike should translate to success. Throwing fast and having a lot of natural spin on the ball should follow in importance. \n",
    "\n",
    "Hence, the results here make a lot more sense than the logistic regression results. As a consequence, this problem may be better approached as a regression problem rather than a classification problem. \n",
    "\n",
    "__RESULT__: _While it was a good exercise to treat this problem as a classification problem, it may be better to use the Random Forest Regressor as the model to predict pitching success for mlb prospects._"
   ]
  },
  {
   "cell_type": "markdown",
   "id": "31ac7c41",
   "metadata": {},
   "source": [
    "# 5. Predicting Prospects Future"
   ]
  },
  {
   "cell_type": "markdown",
   "id": "b48f8fd6",
   "metadata": {},
   "source": [
    "Let's use what we learned so far and make some predictions! We can use the models that best predict the mlb pitching data to predict the WAR of mlb prospects. The data for mlb prospects comes from fangraphs.com. I downloaded csv files directly from the website. \n",
    "\n",
    "One csv called (supplementary)_prospect_stats contains information about the performance history of mlb prospects in the minor leagues. Another other contains their scouting data called (supplementary_scouting. The last csv contains summary info on a prospect (height, weight, throwing hand, etc). The three csv files are merged into prospect_data.csv, which is read below."
   ]
  },
  {
   "cell_type": "code",
   "execution_count": 396,
   "id": "a4a90c4c",
   "metadata": {},
   "outputs": [
    {
     "data": {
      "text/html": [
       "<div>\n",
       "<style scoped>\n",
       "    .dataframe tbody tr th:only-of-type {\n",
       "        vertical-align: middle;\n",
       "    }\n",
       "\n",
       "    .dataframe tbody tr th {\n",
       "        vertical-align: top;\n",
       "    }\n",
       "\n",
       "    .dataframe thead th {\n",
       "        text-align: right;\n",
       "    }\n",
       "</style>\n",
       "<table border=\"1\" class=\"dataframe\">\n",
       "  <thead>\n",
       "    <tr style=\"text-align: right;\">\n",
       "      <th></th>\n",
       "      <th>Unnamed: 0</th>\n",
       "      <th>Name</th>\n",
       "      <th>Pos</th>\n",
       "      <th>Org</th>\n",
       "      <th>Top 100</th>\n",
       "      <th>Org Rk</th>\n",
       "      <th>Age_x</th>\n",
       "      <th>TJ Date</th>\n",
       "      <th>FB Type</th>\n",
       "      <th>FB</th>\n",
       "      <th>...</th>\n",
       "      <th>avg_fastest_speed</th>\n",
       "      <th>avg_spin</th>\n",
       "      <th>K/9</th>\n",
       "      <th>IP</th>\n",
       "      <th>BB/9</th>\n",
       "      <th>Age_y</th>\n",
       "      <th>ERA</th>\n",
       "      <th>height</th>\n",
       "      <th>weight</th>\n",
       "      <th>throws</th>\n",
       "    </tr>\n",
       "  </thead>\n",
       "  <tbody>\n",
       "    <tr>\n",
       "      <th>0</th>\n",
       "      <td>0</td>\n",
       "      <td>Grayson Rodriguez</td>\n",
       "      <td>SP</td>\n",
       "      <td>BAL</td>\n",
       "      <td>10.0</td>\n",
       "      <td>2</td>\n",
       "      <td>21.897222</td>\n",
       "      <td>NaN</td>\n",
       "      <td>Tail</td>\n",
       "      <td>60 / 60</td>\n",
       "      <td>...</td>\n",
       "      <td>92.5</td>\n",
       "      <td>2525.0</td>\n",
       "      <td>11.86</td>\n",
       "      <td>113.1</td>\n",
       "      <td>3.90</td>\n",
       "      <td>—</td>\n",
       "      <td>2.461765</td>\n",
       "      <td>6' 5\"</td>\n",
       "      <td>230</td>\n",
       "      <td>R</td>\n",
       "    </tr>\n",
       "    <tr>\n",
       "      <th>1</th>\n",
       "      <td>1</td>\n",
       "      <td>D.L. Hall</td>\n",
       "      <td>MIRP</td>\n",
       "      <td>BAL</td>\n",
       "      <td>28.0</td>\n",
       "      <td>3</td>\n",
       "      <td>23.055556</td>\n",
       "      <td>NaN</td>\n",
       "      <td>Tail</td>\n",
       "      <td>60 / 60</td>\n",
       "      <td>...</td>\n",
       "      <td>94.5</td>\n",
       "      <td>2450.0</td>\n",
       "      <td>11.11</td>\n",
       "      <td>175.0</td>\n",
       "      <td>5.50</td>\n",
       "      <td>—</td>\n",
       "      <td>2.725714</td>\n",
       "      <td>6' 0\"</td>\n",
       "      <td>195</td>\n",
       "      <td>L</td>\n",
       "    </tr>\n",
       "    <tr>\n",
       "      <th>2</th>\n",
       "      <td>2</td>\n",
       "      <td>Hunter Greene</td>\n",
       "      <td>SP</td>\n",
       "      <td>CIN</td>\n",
       "      <td>34.0</td>\n",
       "      <td>2</td>\n",
       "      <td>22.175000</td>\n",
       "      <td>4/9/2019</td>\n",
       "      <td>Tail</td>\n",
       "      <td>60 / 65</td>\n",
       "      <td>...</td>\n",
       "      <td>96.5</td>\n",
       "      <td>2312.5</td>\n",
       "      <td>11.76</td>\n",
       "      <td>68.1</td>\n",
       "      <td>3.83</td>\n",
       "      <td>—</td>\n",
       "      <td>4.478051</td>\n",
       "      <td>6' 4\"</td>\n",
       "      <td>215</td>\n",
       "      <td>R</td>\n",
       "    </tr>\n",
       "    <tr>\n",
       "      <th>3</th>\n",
       "      <td>3</td>\n",
       "      <td>Quinn Priester</td>\n",
       "      <td>SP</td>\n",
       "      <td>PIT</td>\n",
       "      <td>35.0</td>\n",
       "      <td>2</td>\n",
       "      <td>21.066667</td>\n",
       "      <td>NaN</td>\n",
       "      <td>Rise</td>\n",
       "      <td>55 / 55</td>\n",
       "      <td>...</td>\n",
       "      <td>95.5</td>\n",
       "      <td>2325.0</td>\n",
       "      <td>10.19</td>\n",
       "      <td>36.2</td>\n",
       "      <td>4.72</td>\n",
       "      <td>—</td>\n",
       "      <td>3.190906</td>\n",
       "      <td>6' 3\"</td>\n",
       "      <td>210</td>\n",
       "      <td>R</td>\n",
       "    </tr>\n",
       "    <tr>\n",
       "      <th>4</th>\n",
       "      <td>4</td>\n",
       "      <td>Sixto Sanchez</td>\n",
       "      <td>SP</td>\n",
       "      <td>MIA</td>\n",
       "      <td>36.0</td>\n",
       "      <td>2</td>\n",
       "      <td>23.194444</td>\n",
       "      <td>NaN</td>\n",
       "      <td>Tail</td>\n",
       "      <td>60 / 60</td>\n",
       "      <td>...</td>\n",
       "      <td>97.0</td>\n",
       "      <td>2250.0</td>\n",
       "      <td>8.31</td>\n",
       "      <td>160.2</td>\n",
       "      <td>2.08</td>\n",
       "      <td>—</td>\n",
       "      <td>2.688796</td>\n",
       "      <td>6' 0\"</td>\n",
       "      <td>234</td>\n",
       "      <td>R</td>\n",
       "    </tr>\n",
       "    <tr>\n",
       "      <th>...</th>\n",
       "      <td>...</td>\n",
       "      <td>...</td>\n",
       "      <td>...</td>\n",
       "      <td>...</td>\n",
       "      <td>...</td>\n",
       "      <td>...</td>\n",
       "      <td>...</td>\n",
       "      <td>...</td>\n",
       "      <td>...</td>\n",
       "      <td>...</td>\n",
       "      <td>...</td>\n",
       "      <td>...</td>\n",
       "      <td>...</td>\n",
       "      <td>...</td>\n",
       "      <td>...</td>\n",
       "      <td>...</td>\n",
       "      <td>...</td>\n",
       "      <td>...</td>\n",
       "      <td>...</td>\n",
       "      <td>...</td>\n",
       "      <td>...</td>\n",
       "    </tr>\n",
       "    <tr>\n",
       "      <th>461</th>\n",
       "      <td>461</td>\n",
       "      <td>Audry Lugo</td>\n",
       "      <td>SIRP</td>\n",
       "      <td>TBR</td>\n",
       "      <td>NaN</td>\n",
       "      <td>51</td>\n",
       "      <td>22.944444</td>\n",
       "      <td>NaN</td>\n",
       "      <td>Cut</td>\n",
       "      <td>45 / 55</td>\n",
       "      <td>...</td>\n",
       "      <td>93.0</td>\n",
       "      <td>2525.0</td>\n",
       "      <td>9.71</td>\n",
       "      <td>38.0</td>\n",
       "      <td>4.26</td>\n",
       "      <td>—</td>\n",
       "      <td>2.131579</td>\n",
       "      <td>5' 11\"</td>\n",
       "      <td>160</td>\n",
       "      <td>R</td>\n",
       "    </tr>\n",
       "    <tr>\n",
       "      <th>462</th>\n",
       "      <td>462</td>\n",
       "      <td>Felix Bautista</td>\n",
       "      <td>SIRP</td>\n",
       "      <td>BAL</td>\n",
       "      <td>NaN</td>\n",
       "      <td>47</td>\n",
       "      <td>26.302778</td>\n",
       "      <td>NaN</td>\n",
       "      <td>Tail</td>\n",
       "      <td>65 / 65</td>\n",
       "      <td>...</td>\n",
       "      <td>95.5</td>\n",
       "      <td>NaN</td>\n",
       "      <td>11.11</td>\n",
       "      <td>63.2</td>\n",
       "      <td>5.13</td>\n",
       "      <td>—</td>\n",
       "      <td>3.816752</td>\n",
       "      <td>6' 5\"</td>\n",
       "      <td>220</td>\n",
       "      <td>R</td>\n",
       "    </tr>\n",
       "    <tr>\n",
       "      <th>463</th>\n",
       "      <td>463</td>\n",
       "      <td>Will Ethridge</td>\n",
       "      <td>SP</td>\n",
       "      <td>COL</td>\n",
       "      <td>NaN</td>\n",
       "      <td>31</td>\n",
       "      <td>23.802778</td>\n",
       "      <td>NaN</td>\n",
       "      <td>Tail</td>\n",
       "      <td>40 / 40</td>\n",
       "      <td>...</td>\n",
       "      <td>92.5</td>\n",
       "      <td>2175.0</td>\n",
       "      <td>6.26</td>\n",
       "      <td>30.2</td>\n",
       "      <td>2.38</td>\n",
       "      <td>—</td>\n",
       "      <td>3.815213</td>\n",
       "      <td>6' 5\"</td>\n",
       "      <td>220</td>\n",
       "      <td>R</td>\n",
       "    </tr>\n",
       "    <tr>\n",
       "      <th>464</th>\n",
       "      <td>464</td>\n",
       "      <td>Antonio Santos</td>\n",
       "      <td>SIRP</td>\n",
       "      <td>COL</td>\n",
       "      <td>NaN</td>\n",
       "      <td>32</td>\n",
       "      <td>25.008333</td>\n",
       "      <td>NaN</td>\n",
       "      <td>Rise</td>\n",
       "      <td>55 / 55</td>\n",
       "      <td>...</td>\n",
       "      <td>93.5</td>\n",
       "      <td>2200.0</td>\n",
       "      <td>8.55</td>\n",
       "      <td>297.0</td>\n",
       "      <td>2.09</td>\n",
       "      <td>—</td>\n",
       "      <td>4.666667</td>\n",
       "      <td>6' 3\"</td>\n",
       "      <td>190</td>\n",
       "      <td>R</td>\n",
       "    </tr>\n",
       "    <tr>\n",
       "      <th>465</th>\n",
       "      <td>465</td>\n",
       "      <td>Andrew Nardi</td>\n",
       "      <td>SIRP</td>\n",
       "      <td>MIA</td>\n",
       "      <td>NaN</td>\n",
       "      <td>33</td>\n",
       "      <td>23.141667</td>\n",
       "      <td>NaN</td>\n",
       "      <td>NaN</td>\n",
       "      <td>45 / 45</td>\n",
       "      <td>...</td>\n",
       "      <td>88.0</td>\n",
       "      <td>NaN</td>\n",
       "      <td>15.08</td>\n",
       "      <td>19.1</td>\n",
       "      <td>6.60</td>\n",
       "      <td>—</td>\n",
       "      <td>0.931036</td>\n",
       "      <td>6' 3\"</td>\n",
       "      <td>201</td>\n",
       "      <td>L</td>\n",
       "    </tr>\n",
       "  </tbody>\n",
       "</table>\n",
       "<p>466 rows × 30 columns</p>\n",
       "</div>"
      ],
      "text/plain": [
       "     Unnamed: 0               Name   Pos  Org  Top 100  Org Rk      Age_x  \\\n",
       "0             0  Grayson Rodriguez    SP  BAL     10.0       2  21.897222   \n",
       "1             1          D.L. Hall  MIRP  BAL     28.0       3  23.055556   \n",
       "2             2      Hunter Greene    SP  CIN     34.0       2  22.175000   \n",
       "3             3     Quinn Priester    SP  PIT     35.0       2  21.066667   \n",
       "4             4      Sixto Sanchez    SP  MIA     36.0       2  23.194444   \n",
       "..          ...                ...   ...  ...      ...     ...        ...   \n",
       "461         461         Audry Lugo  SIRP  TBR      NaN      51  22.944444   \n",
       "462         462     Felix Bautista  SIRP  BAL      NaN      47  26.302778   \n",
       "463         463      Will Ethridge    SP  COL      NaN      31  23.802778   \n",
       "464         464     Antonio Santos  SIRP  COL      NaN      32  25.008333   \n",
       "465         465       Andrew Nardi  SIRP  MIA      NaN      33  23.141667   \n",
       "\n",
       "      TJ Date FB Type       FB  ... avg_fastest_speed avg_spin    K/9     IP  \\\n",
       "0         NaN    Tail  60 / 60  ...              92.5   2525.0  11.86  113.1   \n",
       "1         NaN    Tail  60 / 60  ...              94.5   2450.0  11.11  175.0   \n",
       "2    4/9/2019    Tail  60 / 65  ...              96.5   2312.5  11.76   68.1   \n",
       "3         NaN    Rise  55 / 55  ...              95.5   2325.0  10.19   36.2   \n",
       "4         NaN    Tail  60 / 60  ...              97.0   2250.0   8.31  160.2   \n",
       "..        ...     ...      ...  ...               ...      ...    ...    ...   \n",
       "461       NaN     Cut  45 / 55  ...              93.0   2525.0   9.71   38.0   \n",
       "462       NaN    Tail  65 / 65  ...              95.5      NaN  11.11   63.2   \n",
       "463       NaN    Tail  40 / 40  ...              92.5   2175.0   6.26   30.2   \n",
       "464       NaN    Rise  55 / 55  ...              93.5   2200.0   8.55  297.0   \n",
       "465       NaN     NaN  45 / 45  ...              88.0      NaN  15.08   19.1   \n",
       "\n",
       "     BB/9  Age_y       ERA  height weight throws  \n",
       "0    3.90      —  2.461765   6' 5\"    230      R  \n",
       "1    5.50      —  2.725714   6' 0\"    195      L  \n",
       "2    3.83      —  4.478051   6' 4\"    215      R  \n",
       "3    4.72      —  3.190906   6' 3\"    210      R  \n",
       "4    2.08      —  2.688796   6' 0\"    234      R  \n",
       "..    ...    ...       ...     ...    ...    ...  \n",
       "461  4.26      —  2.131579  5' 11\"    160      R  \n",
       "462  5.13      —  3.816752   6' 5\"    220      R  \n",
       "463  2.38      —  3.815213   6' 5\"    220      R  \n",
       "464  2.09      —  4.666667   6' 3\"    190      R  \n",
       "465  6.60      —  0.931036   6' 3\"    201      L  \n",
       "\n",
       "[466 rows x 30 columns]"
      ]
     },
     "execution_count": 396,
     "metadata": {},
     "output_type": "execute_result"
    }
   ],
   "source": [
    "prospect_data = pd.read_csv('prospect_data.csv') #read the prospect data in from csv to pandas dataframe\n",
    "prospect_data"
   ]
  },
  {
   "cell_type": "markdown",
   "id": "757efb10",
   "metadata": {},
   "source": [
    "### Clean the Prospect Data\n",
    "Change throws to be machine learning readable. This means converting righties to 0 and lefties to 1."
   ]
  },
  {
   "cell_type": "code",
   "execution_count": 381,
   "id": "860ec0a5",
   "metadata": {},
   "outputs": [
    {
     "data": {
      "text/plain": [
       "array(['R', 'L', 'r'], dtype=object)"
      ]
     },
     "execution_count": 381,
     "metadata": {},
     "output_type": "execute_result"
    }
   ],
   "source": [
    "#check if there are any outliers\n",
    "prospect_data['throws'].unique()"
   ]
  },
  {
   "cell_type": "code",
   "execution_count": 382,
   "id": "5c897df3",
   "metadata": {},
   "outputs": [
    {
     "name": "stderr",
     "output_type": "stream",
     "text": [
      "C:\\Users\\605089\\Anaconda3\\lib\\site-packages\\pandas\\core\\indexing.py:1637: SettingWithCopyWarning: \n",
      "A value is trying to be set on a copy of a slice from a DataFrame\n",
      "\n",
      "See the caveats in the documentation: https://pandas.pydata.org/pandas-docs/stable/user_guide/indexing.html#returning-a-view-versus-a-copy\n",
      "  self._setitem_single_block(indexer, value, name)\n"
     ]
    },
    {
     "data": {
      "text/plain": [
       "'R'"
      ]
     },
     "execution_count": 382,
     "metadata": {},
     "output_type": "execute_result"
    }
   ],
   "source": [
    "#since there is an unwanted 'r', let's find it and fix the problem\n",
    "ind = prospect_data[prospect_data['throws']=='r'].index\n",
    "prospect_data['throws'].loc[ind[0]] = 'R'\n",
    "prospect_data['throws'].loc[ind[0]]"
   ]
  },
  {
   "cell_type": "code",
   "execution_count": 383,
   "id": "b5749b84",
   "metadata": {},
   "outputs": [],
   "source": [
    "#make the categorical data into numbers\n",
    "prospect_data['throws'].replace({'R': 0, 'L': 1}, inplace=True)"
   ]
  },
  {
   "cell_type": "markdown",
   "id": "3d848a15",
   "metadata": {},
   "source": [
    "Check if there are any unwanted values for average fastest speed"
   ]
  },
  {
   "cell_type": "code",
   "execution_count": 384,
   "id": "028c3c8e",
   "metadata": {},
   "outputs": [
    {
     "data": {
      "text/plain": [
       "array([92.5, 94.5, 96.5, 95.5, 97. , 95. , 93.5, 96. , 93. , 92. , 91.5,\n",
       "       90. , 91. , 94. , 99.5, 88.5, 87.5, 84.5, 90.5, 89.5, 98. , 89. ,\n",
       "       97.5, 88. , 86. , 86.5, 98.5])"
      ]
     },
     "execution_count": 384,
     "metadata": {},
     "output_type": "execute_result"
    }
   ],
   "source": [
    "prospect_data['avg_fastest_speed'].unique() "
   ]
  },
  {
   "cell_type": "markdown",
   "id": "5c8555fc",
   "metadata": {},
   "source": [
    "Check if there are any unwanted values in BB/9"
   ]
  },
  {
   "cell_type": "code",
   "execution_count": 385,
   "id": "7ab9cf93",
   "metadata": {},
   "outputs": [
    {
     "data": {
      "text/plain": [
       "array([ 3.9 ,  5.5 ,  3.83,  4.72,  2.08,  4.02,  0.  ,  3.02,  4.14,\n",
       "        2.9 ,  4.27,  8.21,  4.46,  5.07,  2.3 ,  4.42,  3.72,  2.68,\n",
       "        2.1 ,  0.5 ,  3.57,  6.98,  1.59,  3.6 ,  3.01,  6.25,  5.54,\n",
       "        1.09,  4.37,  3.16,  4.93,  1.64,  3.63,  5.84,  5.63,  2.65,\n",
       "        2.34,  2.61,  5.27,  5.06,  2.44,  3.64,  1.71,  8.01,  6.1 ,\n",
       "        1.28,  3.85,  4.5 ,  2.25,  2.87,  3.46,  2.51,  5.45,  2.48,\n",
       "        5.35,  2.47,  3.56,  5.26,  3.17,  8.04,  5.44,  4.26,  2.02,\n",
       "        1.56,  3.94,  4.17,  5.43,  4.52,  3.58,  5.14,  3.15,  5.18,\n",
       "        2.98,  5.  ,  4.9 ,  3.61,  2.15,  4.87,  3.26,  6.46,  3.91,\n",
       "        4.7 ,  5.31,  4.98,  2.6 ,  2.18,  3.  ,  2.85,  6.38, 12.  ,\n",
       "        5.2 ,  2.32,  1.69,  3.4 ,  0.89,  1.99,  3.07,  3.59,  2.57,\n",
       "        5.61,  4.3 ,  4.91,  1.76,  8.59,  5.24,  3.79,  5.46,  3.99,\n",
       "        2.38,  3.55,  8.46,  3.76,  4.13,  3.52,  2.63,  4.57,  1.08,\n",
       "        1.13,  3.24,  4.09,  4.99,  5.08,  2.84,  4.15,  2.74,  4.41,\n",
       "        3.97,  1.7 ,  2.93,  4.29,  4.33,  4.97,  6.  ,  6.31,  3.32,\n",
       "        4.73,  3.37,  3.06,  5.69,  3.1 ,  7.09,  5.62,  2.19,  5.66,\n",
       "        2.83,  4.01,  4.  ,  4.12,  3.69,  5.16,  4.05,  3.53,  4.07,\n",
       "        4.06,  5.49,  4.86,  2.49,  3.41,  4.38,  3.95,  3.38,  5.04,\n",
       "        1.42,  5.28,  6.41,  2.62,  4.8 ,  4.45,  6.99,  4.85,  5.3 ,\n",
       "        4.63,  2.7 ,  5.34,  2.35,  2.29,  5.25,  5.53,  2.76,  5.99,\n",
       "        8.61,  6.61,  4.89,  8.69,  3.54,  5.12,  5.96,  1.85,  4.74,\n",
       "        2.43,  3.62,  6.6 ,  1.12,  3.12,  4.23,  2.96,  1.91,  3.66,\n",
       "        5.88,  4.44,  2.4 ,  6.06,  1.77,  7.91,  7.29,  3.29,  3.67,\n",
       "        3.36,  6.89,  3.21,  2.77,  3.39,  6.35, 16.62,  4.58,  6.65,\n",
       "        7.78,  0.61,  4.67,  3.43,  1.75,  3.2 ,  4.28,  6.47,  6.14,\n",
       "        5.81,  3.3 ,  1.65,  2.72,  5.89,  4.82,  5.52,  5.98, 12.44,\n",
       "        6.64,  6.83,  2.73,  3.68,  1.5 ,  3.81,  4.21,  8.17,  3.45,\n",
       "        6.39,  9.71,  8.4 ,  5.29,  4.78,  2.55,  3.88,  5.73,  4.39,\n",
       "        3.7 ,  6.73,  2.45,  6.81,  8.55,  4.18,  8.57,  1.44,  8.96,\n",
       "        3.86,  3.31,  4.59,  5.32,  3.48,  4.32,  8.27,  9.55,  5.93,\n",
       "        4.76,  7.17,  4.71,  6.84,  5.57,  3.75,  7.46,  5.13,  5.82,\n",
       "        2.81,  8.63, 45.  ,  6.09,  6.58,  8.13,  6.95, 23.95,  3.08,\n",
       "        7.1 ,  2.33,  2.39,  4.49,  4.08,  5.79,  4.62,  3.92,  7.2 ,\n",
       "        9.42,  2.13,  4.24,  5.02,  5.59,  9.82,  9.67,  2.09])"
      ]
     },
     "execution_count": 385,
     "metadata": {},
     "output_type": "execute_result"
    }
   ],
   "source": [
    "prospect_data['BB/9'].unique() "
   ]
  },
  {
   "cell_type": "markdown",
   "id": "4c0e34ad",
   "metadata": {},
   "source": [
    "Check if there are any unwanted values for average spin"
   ]
  },
  {
   "cell_type": "code",
   "execution_count": 386,
   "id": "710925e5",
   "metadata": {},
   "outputs": [
    {
     "data": {
      "text/plain": [
       "array([2525. , 2450. , 2312.5, 2325. , 2250. , 2275. , 2225. , 2175. ,\n",
       "       2400. , 2425. , 2575. , 2550. , 2350. , 2075. , 2375. , 2675. ,\n",
       "          nan, 2625. , 2500. , 2300. , 2600. , 2650. , 2475. , 2200. ,\n",
       "       2700. , 2725. , 2150. , 2362.5, 2750. , 2387.5, 2000. , 2100. ,\n",
       "       2050. , 1725. , 1875. , 2825. , 2125. ])"
      ]
     },
     "execution_count": 386,
     "metadata": {},
     "output_type": "execute_result"
    }
   ],
   "source": [
    "prospect_data['avg_spin'].unique() "
   ]
  },
  {
   "cell_type": "markdown",
   "id": "d9dc1618",
   "metadata": {},
   "source": [
    "Drop the nan value in average spin"
   ]
  },
  {
   "cell_type": "code",
   "execution_count": 387,
   "id": "3e037f5a",
   "metadata": {},
   "outputs": [],
   "source": [
    "prospect_data.drop(prospect_data[pd.isna(prospect_data['avg_spin'])].index, inplace=True) "
   ]
  },
  {
   "cell_type": "markdown",
   "id": "4141f828",
   "metadata": {},
   "source": [
    "The information in this dataset does not include all the features used in the Machine Learning section. I do not have information on pitcher's pitch distribution (how many of each pitch is thrown), nor the percentage of first strikes thrown. These are things that would have to be tracked more heavily in the data portion.\n",
    "\n",
    "In short, let's work with the features that we have."
   ]
  },
  {
   "cell_type": "code",
   "execution_count": 388,
   "id": "63ade543",
   "metadata": {},
   "outputs": [],
   "source": [
    "feature_cols = ['BB/9', 'avg_fastest_speed', 'avg_spin', 'throws']"
   ]
  },
  {
   "cell_type": "code",
   "execution_count": 389,
   "id": "a767d63e",
   "metadata": {},
   "outputs": [],
   "source": [
    "X = pitching_data[feature_cols]\n",
    "y = pitching_data['WAR']"
   ]
  },
  {
   "cell_type": "markdown",
   "id": "f2dd3484",
   "metadata": {},
   "source": [
    "### Let's try our regression algorithms. \n",
    "Cross validate, choose the best one, run the algorithm across the entire mlb data set, and then predict the prospect data set.\n",
    "\n",
    "Remember that the features have changed slightly, so we should check how effective the model is still compared to previously."
   ]
  },
  {
   "cell_type": "code",
   "execution_count": 390,
   "id": "47ee9b58",
   "metadata": {},
   "outputs": [
    {
     "data": {
      "text/plain": [
       "RandomForestRegressor(max_features=2, n_estimators=250, oob_score=True,\n",
       "                      random_state=40)"
      ]
     },
     "execution_count": 390,
     "metadata": {},
     "output_type": "execute_result"
    }
   ],
   "source": [
    "rfreg = RandomForestRegressor(n_estimators=250,\n",
    "                              max_features=2,\n",
    "                              oob_score=True,\n",
    "                              random_state=40)\n",
    "rfreg.fit(X, y)"
   ]
  },
  {
   "cell_type": "code",
   "execution_count": 391,
   "id": "c6840a8e",
   "metadata": {},
   "outputs": [
    {
     "name": "stdout",
     "output_type": "stream",
     "text": [
      "Cross Validated R-squared: 0.18782405424053264\n",
      "Cross Validated RMSE: 1.0434600667591982\n"
     ]
    }
   ],
   "source": [
    "print('Cross Validated R-squared:', np.mean(cross_val_score(rfreg, X, y, cv=kf)))\n",
    "print('Cross Validated RMSE:', np.sqrt(np.mean(-cross_val_score(rfreg, X, y, cv=kf, scoring='neg_mean_squared_error'))))"
   ]
  },
  {
   "cell_type": "markdown",
   "id": "0b0173b0",
   "metadata": {},
   "source": [
    "We see that by losing a lot of the features, the R-squared value went down significantly. However, we still beat the baseline. The RMSE still states that the error is + or - 1 WAR, so we can use that context when looking at predicted WARs. "
   ]
  },
  {
   "cell_type": "markdown",
   "id": "737558c8",
   "metadata": {},
   "source": [
    "Let's make a prediction using our fitted model on the prospect data."
   ]
  },
  {
   "cell_type": "code",
   "execution_count": 392,
   "id": "125bb4c4",
   "metadata": {},
   "outputs": [],
   "source": [
    "prospect_data['pred_WAR'] = rfreg.predict(prospect_data[feature_cols])"
   ]
  },
  {
   "cell_type": "code",
   "execution_count": 393,
   "id": "4313a3a7",
   "metadata": {
    "scrolled": true
   },
   "outputs": [
    {
     "data": {
      "text/html": [
       "<div>\n",
       "<style scoped>\n",
       "    .dataframe tbody tr th:only-of-type {\n",
       "        vertical-align: middle;\n",
       "    }\n",
       "\n",
       "    .dataframe tbody tr th {\n",
       "        vertical-align: top;\n",
       "    }\n",
       "\n",
       "    .dataframe thead th {\n",
       "        text-align: right;\n",
       "    }\n",
       "</style>\n",
       "<table border=\"1\" class=\"dataframe\">\n",
       "  <thead>\n",
       "    <tr style=\"text-align: right;\">\n",
       "      <th></th>\n",
       "      <th>Unnamed: 0</th>\n",
       "      <th>Name</th>\n",
       "      <th>Pos</th>\n",
       "      <th>Org</th>\n",
       "      <th>Top 100</th>\n",
       "      <th>Org Rk</th>\n",
       "      <th>Age_x</th>\n",
       "      <th>TJ Date</th>\n",
       "      <th>FB Type</th>\n",
       "      <th>FB</th>\n",
       "      <th>...</th>\n",
       "      <th>avg_spin</th>\n",
       "      <th>K/9</th>\n",
       "      <th>IP</th>\n",
       "      <th>BB/9</th>\n",
       "      <th>Age_y</th>\n",
       "      <th>ERA</th>\n",
       "      <th>height</th>\n",
       "      <th>weight</th>\n",
       "      <th>throws</th>\n",
       "      <th>pred_WAR</th>\n",
       "    </tr>\n",
       "  </thead>\n",
       "  <tbody>\n",
       "    <tr>\n",
       "      <th>0</th>\n",
       "      <td>0</td>\n",
       "      <td>Grayson Rodriguez</td>\n",
       "      <td>SP</td>\n",
       "      <td>BAL</td>\n",
       "      <td>10.0</td>\n",
       "      <td>2</td>\n",
       "      <td>21.897222</td>\n",
       "      <td>NaN</td>\n",
       "      <td>Tail</td>\n",
       "      <td>60 / 60</td>\n",
       "      <td>...</td>\n",
       "      <td>2525.0</td>\n",
       "      <td>11.86</td>\n",
       "      <td>113.1</td>\n",
       "      <td>3.90</td>\n",
       "      <td>—</td>\n",
       "      <td>2.461765</td>\n",
       "      <td>6' 5\"</td>\n",
       "      <td>230</td>\n",
       "      <td>0</td>\n",
       "      <td>0.5496</td>\n",
       "    </tr>\n",
       "    <tr>\n",
       "      <th>1</th>\n",
       "      <td>1</td>\n",
       "      <td>D.L. Hall</td>\n",
       "      <td>MIRP</td>\n",
       "      <td>BAL</td>\n",
       "      <td>28.0</td>\n",
       "      <td>3</td>\n",
       "      <td>23.055556</td>\n",
       "      <td>NaN</td>\n",
       "      <td>Tail</td>\n",
       "      <td>60 / 60</td>\n",
       "      <td>...</td>\n",
       "      <td>2450.0</td>\n",
       "      <td>11.11</td>\n",
       "      <td>175.0</td>\n",
       "      <td>5.50</td>\n",
       "      <td>—</td>\n",
       "      <td>2.725714</td>\n",
       "      <td>6' 0\"</td>\n",
       "      <td>195</td>\n",
       "      <td>1</td>\n",
       "      <td>0.0864</td>\n",
       "    </tr>\n",
       "    <tr>\n",
       "      <th>2</th>\n",
       "      <td>2</td>\n",
       "      <td>Hunter Greene</td>\n",
       "      <td>SP</td>\n",
       "      <td>CIN</td>\n",
       "      <td>34.0</td>\n",
       "      <td>2</td>\n",
       "      <td>22.175000</td>\n",
       "      <td>4/9/2019</td>\n",
       "      <td>Tail</td>\n",
       "      <td>60 / 65</td>\n",
       "      <td>...</td>\n",
       "      <td>2312.5</td>\n",
       "      <td>11.76</td>\n",
       "      <td>68.1</td>\n",
       "      <td>3.83</td>\n",
       "      <td>—</td>\n",
       "      <td>4.478051</td>\n",
       "      <td>6' 4\"</td>\n",
       "      <td>215</td>\n",
       "      <td>0</td>\n",
       "      <td>1.0124</td>\n",
       "    </tr>\n",
       "    <tr>\n",
       "      <th>3</th>\n",
       "      <td>3</td>\n",
       "      <td>Quinn Priester</td>\n",
       "      <td>SP</td>\n",
       "      <td>PIT</td>\n",
       "      <td>35.0</td>\n",
       "      <td>2</td>\n",
       "      <td>21.066667</td>\n",
       "      <td>NaN</td>\n",
       "      <td>Rise</td>\n",
       "      <td>55 / 55</td>\n",
       "      <td>...</td>\n",
       "      <td>2325.0</td>\n",
       "      <td>10.19</td>\n",
       "      <td>36.2</td>\n",
       "      <td>4.72</td>\n",
       "      <td>—</td>\n",
       "      <td>3.190906</td>\n",
       "      <td>6' 3\"</td>\n",
       "      <td>210</td>\n",
       "      <td>0</td>\n",
       "      <td>0.2804</td>\n",
       "    </tr>\n",
       "    <tr>\n",
       "      <th>4</th>\n",
       "      <td>4</td>\n",
       "      <td>Sixto Sanchez</td>\n",
       "      <td>SP</td>\n",
       "      <td>MIA</td>\n",
       "      <td>36.0</td>\n",
       "      <td>2</td>\n",
       "      <td>23.194444</td>\n",
       "      <td>NaN</td>\n",
       "      <td>Tail</td>\n",
       "      <td>60 / 60</td>\n",
       "      <td>...</td>\n",
       "      <td>2250.0</td>\n",
       "      <td>8.31</td>\n",
       "      <td>160.2</td>\n",
       "      <td>2.08</td>\n",
       "      <td>—</td>\n",
       "      <td>2.688796</td>\n",
       "      <td>6' 0\"</td>\n",
       "      <td>234</td>\n",
       "      <td>0</td>\n",
       "      <td>2.4708</td>\n",
       "    </tr>\n",
       "  </tbody>\n",
       "</table>\n",
       "<p>5 rows × 31 columns</p>\n",
       "</div>"
      ],
      "text/plain": [
       "   Unnamed: 0               Name   Pos  Org  Top 100  Org Rk      Age_x  \\\n",
       "0           0  Grayson Rodriguez    SP  BAL     10.0       2  21.897222   \n",
       "1           1          D.L. Hall  MIRP  BAL     28.0       3  23.055556   \n",
       "2           2      Hunter Greene    SP  CIN     34.0       2  22.175000   \n",
       "3           3     Quinn Priester    SP  PIT     35.0       2  21.066667   \n",
       "4           4      Sixto Sanchez    SP  MIA     36.0       2  23.194444   \n",
       "\n",
       "    TJ Date FB Type       FB  ... avg_spin    K/9     IP  BB/9  Age_y  \\\n",
       "0       NaN    Tail  60 / 60  ...   2525.0  11.86  113.1  3.90      —   \n",
       "1       NaN    Tail  60 / 60  ...   2450.0  11.11  175.0  5.50      —   \n",
       "2  4/9/2019    Tail  60 / 65  ...   2312.5  11.76   68.1  3.83      —   \n",
       "3       NaN    Rise  55 / 55  ...   2325.0  10.19   36.2  4.72      —   \n",
       "4       NaN    Tail  60 / 60  ...   2250.0   8.31  160.2  2.08      —   \n",
       "\n",
       "        ERA height  weight throws pred_WAR  \n",
       "0  2.461765  6' 5\"     230      0   0.5496  \n",
       "1  2.725714  6' 0\"     195      1   0.0864  \n",
       "2  4.478051  6' 4\"     215      0   1.0124  \n",
       "3  3.190906  6' 3\"     210      0   0.2804  \n",
       "4  2.688796  6' 0\"     234      0   2.4708  \n",
       "\n",
       "[5 rows x 31 columns]"
      ]
     },
     "execution_count": 393,
     "metadata": {},
     "output_type": "execute_result"
    }
   ],
   "source": [
    "prospect_data.head()"
   ]
  },
  {
   "cell_type": "markdown",
   "id": "23c0945d",
   "metadata": {},
   "source": [
    "### Finding Prospects who will be \"Successful\""
   ]
  },
  {
   "cell_type": "markdown",
   "id": "c13640bc",
   "metadata": {},
   "source": [
    "In finding the \"successful\" pitchers, we need to acknowledge that the WAR has a RMSE of ~1. Therefore, to beat the odds, a pitcher should have a predicted WAR > 1.25. That way, we can account for the error and likely have a successful pitcher. Remember that these are prospects, so we want to go for those that will bring the biggest value in the future.\n",
    "\n",
    "__ASSUMPTION__: A pitcher with a predicted WAR above 1.25 is one that we think will be successful according to the model"
   ]
  },
  {
   "cell_type": "code",
   "execution_count": 394,
   "id": "74b91d60",
   "metadata": {},
   "outputs": [
    {
     "data": {
      "text/plain": [
       "Index(['Unnamed: 0', 'Name', 'Pos', 'Org', 'Top 100', 'Org Rk', 'Age_x',\n",
       "       'TJ Date', 'FB Type', 'FB', 'SL', 'CB', 'CH', 'CMD', 'RPM FB',\n",
       "       'RPM Break', 'Sits', 'Tops', 'FV', 'playerId', 'avg_fastest_speed',\n",
       "       'avg_spin', 'K/9', 'IP', 'BB/9', 'Age_y', 'ERA', 'height', 'weight',\n",
       "       'throws', 'pred_WAR'],\n",
       "      dtype='object')"
      ]
     },
     "execution_count": 394,
     "metadata": {},
     "output_type": "execute_result"
    }
   ],
   "source": [
    "prospect_data.columns"
   ]
  },
  {
   "cell_type": "code",
   "execution_count": 395,
   "id": "adeeaf08",
   "metadata": {},
   "outputs": [
    {
     "data": {
      "text/html": [
       "<div>\n",
       "<style scoped>\n",
       "    .dataframe tbody tr th:only-of-type {\n",
       "        vertical-align: middle;\n",
       "    }\n",
       "\n",
       "    .dataframe tbody tr th {\n",
       "        vertical-align: top;\n",
       "    }\n",
       "\n",
       "    .dataframe thead th {\n",
       "        text-align: right;\n",
       "    }\n",
       "</style>\n",
       "<table border=\"1\" class=\"dataframe\">\n",
       "  <thead>\n",
       "    <tr style=\"text-align: right;\">\n",
       "      <th></th>\n",
       "      <th>Name</th>\n",
       "      <th>pred_WAR</th>\n",
       "      <th>throws</th>\n",
       "      <th>avg_fastest_speed</th>\n",
       "      <th>avg_spin</th>\n",
       "      <th>K/9</th>\n",
       "      <th>IP</th>\n",
       "      <th>BB/9</th>\n",
       "      <th>ERA</th>\n",
       "    </tr>\n",
       "  </thead>\n",
       "  <tbody>\n",
       "    <tr>\n",
       "      <th>4</th>\n",
       "      <td>Sixto Sanchez</td>\n",
       "      <td>2.4708</td>\n",
       "      <td>0</td>\n",
       "      <td>97.0</td>\n",
       "      <td>2250.0</td>\n",
       "      <td>8.31</td>\n",
       "      <td>160.2</td>\n",
       "      <td>2.08</td>\n",
       "      <td>2.688796</td>\n",
       "    </tr>\n",
       "    <tr>\n",
       "      <th>57</th>\n",
       "      <td>Juan Then</td>\n",
       "      <td>1.9828</td>\n",
       "      <td>0</td>\n",
       "      <td>94.5</td>\n",
       "      <td>2425.0</td>\n",
       "      <td>8.26</td>\n",
       "      <td>98.1</td>\n",
       "      <td>2.48</td>\n",
       "      <td>2.837289</td>\n",
       "    </tr>\n",
       "    <tr>\n",
       "      <th>272</th>\n",
       "      <td>Alexander Wells</td>\n",
       "      <td>1.8424</td>\n",
       "      <td>1</td>\n",
       "      <td>87.5</td>\n",
       "      <td>2400.0</td>\n",
       "      <td>6.81</td>\n",
       "      <td>272.1</td>\n",
       "      <td>2.18</td>\n",
       "      <td>3.205634</td>\n",
       "    </tr>\n",
       "    <tr>\n",
       "      <th>81</th>\n",
       "      <td>Eduard Bazardo</td>\n",
       "      <td>1.6960</td>\n",
       "      <td>0</td>\n",
       "      <td>95.0</td>\n",
       "      <td>2575.0</td>\n",
       "      <td>10.25</td>\n",
       "      <td>151.0</td>\n",
       "      <td>2.15</td>\n",
       "      <td>2.443709</td>\n",
       "    </tr>\n",
       "    <tr>\n",
       "      <th>17</th>\n",
       "      <td>Gregory Santos</td>\n",
       "      <td>1.6932</td>\n",
       "      <td>0</td>\n",
       "      <td>95.5</td>\n",
       "      <td>2550.0</td>\n",
       "      <td>7.71</td>\n",
       "      <td>84.1</td>\n",
       "      <td>2.68</td>\n",
       "      <td>3.841894</td>\n",
       "    </tr>\n",
       "    <tr>\n",
       "      <th>293</th>\n",
       "      <td>Luis Palacios</td>\n",
       "      <td>1.5904</td>\n",
       "      <td>1</td>\n",
       "      <td>86.0</td>\n",
       "      <td>2250.0</td>\n",
       "      <td>9.00</td>\n",
       "      <td>104.0</td>\n",
       "      <td>0.61</td>\n",
       "      <td>0.951923</td>\n",
       "    </tr>\n",
       "    <tr>\n",
       "      <th>107</th>\n",
       "      <td>Jonathan Bowlan</td>\n",
       "      <td>1.5612</td>\n",
       "      <td>0</td>\n",
       "      <td>93.0</td>\n",
       "      <td>2275.0</td>\n",
       "      <td>8.60</td>\n",
       "      <td>181.0</td>\n",
       "      <td>1.99</td>\n",
       "      <td>3.878453</td>\n",
       "    </tr>\n",
       "    <tr>\n",
       "      <th>140</th>\n",
       "      <td>Ryan Rolison</td>\n",
       "      <td>1.5336</td>\n",
       "      <td>1</td>\n",
       "      <td>91.5</td>\n",
       "      <td>2425.0</td>\n",
       "      <td>9.34</td>\n",
       "      <td>160.0</td>\n",
       "      <td>2.87</td>\n",
       "      <td>3.937507</td>\n",
       "    </tr>\n",
       "    <tr>\n",
       "      <th>16</th>\n",
       "      <td>Jhoan Duran</td>\n",
       "      <td>1.5316</td>\n",
       "      <td>0</td>\n",
       "      <td>97.0</td>\n",
       "      <td>2250.0</td>\n",
       "      <td>10.50</td>\n",
       "      <td>215.2</td>\n",
       "      <td>3.72</td>\n",
       "      <td>3.755795</td>\n",
       "    </tr>\n",
       "    <tr>\n",
       "      <th>88</th>\n",
       "      <td>Ronny Henriquez</td>\n",
       "      <td>1.4596</td>\n",
       "      <td>0</td>\n",
       "      <td>94.5</td>\n",
       "      <td>2375.0</td>\n",
       "      <td>11.44</td>\n",
       "      <td>140.0</td>\n",
       "      <td>2.44</td>\n",
       "      <td>3.278571</td>\n",
       "    </tr>\n",
       "    <tr>\n",
       "      <th>338</th>\n",
       "      <td>Luis Rijo</td>\n",
       "      <td>1.4548</td>\n",
       "      <td>0</td>\n",
       "      <td>92.0</td>\n",
       "      <td>2350.0</td>\n",
       "      <td>7.97</td>\n",
       "      <td>167.1</td>\n",
       "      <td>1.99</td>\n",
       "      <td>2.635459</td>\n",
       "    </tr>\n",
       "    <tr>\n",
       "      <th>253</th>\n",
       "      <td>Raymond Burgos</td>\n",
       "      <td>1.3940</td>\n",
       "      <td>1</td>\n",
       "      <td>92.5</td>\n",
       "      <td>2275.0</td>\n",
       "      <td>10.22</td>\n",
       "      <td>94.2</td>\n",
       "      <td>2.87</td>\n",
       "      <td>3.422535</td>\n",
       "    </tr>\n",
       "    <tr>\n",
       "      <th>31</th>\n",
       "      <td>Clarke Schmidt</td>\n",
       "      <td>1.3864</td>\n",
       "      <td>0</td>\n",
       "      <td>93.0</td>\n",
       "      <td>2675.0</td>\n",
       "      <td>10.42</td>\n",
       "      <td>114.0</td>\n",
       "      <td>3.16</td>\n",
       "      <td>3.394738</td>\n",
       "    </tr>\n",
       "    <tr>\n",
       "      <th>68</th>\n",
       "      <td>Daulton Jefferies</td>\n",
       "      <td>1.3772</td>\n",
       "      <td>0</td>\n",
       "      <td>92.5</td>\n",
       "      <td>2375.0</td>\n",
       "      <td>10.89</td>\n",
       "      <td>81.0</td>\n",
       "      <td>1.56</td>\n",
       "      <td>3.333333</td>\n",
       "    </tr>\n",
       "    <tr>\n",
       "      <th>263</th>\n",
       "      <td>Tyler Phillips</td>\n",
       "      <td>1.3736</td>\n",
       "      <td>0</td>\n",
       "      <td>93.0</td>\n",
       "      <td>2250.0</td>\n",
       "      <td>7.81</td>\n",
       "      <td>264.0</td>\n",
       "      <td>1.77</td>\n",
       "      <td>3.170455</td>\n",
       "    </tr>\n",
       "    <tr>\n",
       "      <th>95</th>\n",
       "      <td>Peter Solomon</td>\n",
       "      <td>1.3360</td>\n",
       "      <td>0</td>\n",
       "      <td>92.0</td>\n",
       "      <td>2450.0</td>\n",
       "      <td>10.66</td>\n",
       "      <td>108.1</td>\n",
       "      <td>3.00</td>\n",
       "      <td>2.326153</td>\n",
       "    </tr>\n",
       "    <tr>\n",
       "      <th>105</th>\n",
       "      <td>Riley Thompson</td>\n",
       "      <td>1.3348</td>\n",
       "      <td>0</td>\n",
       "      <td>93.0</td>\n",
       "      <td>2675.0</td>\n",
       "      <td>8.46</td>\n",
       "      <td>119.1</td>\n",
       "      <td>3.40</td>\n",
       "      <td>3.016761</td>\n",
       "    </tr>\n",
       "    <tr>\n",
       "      <th>122</th>\n",
       "      <td>Sean Hjelle</td>\n",
       "      <td>1.3084</td>\n",
       "      <td>0</td>\n",
       "      <td>92.5</td>\n",
       "      <td>2350.0</td>\n",
       "      <td>8.78</td>\n",
       "      <td>165.0</td>\n",
       "      <td>3.16</td>\n",
       "      <td>3.545455</td>\n",
       "    </tr>\n",
       "    <tr>\n",
       "      <th>308</th>\n",
       "      <td>Yerry De Los Santos</td>\n",
       "      <td>1.3048</td>\n",
       "      <td>0</td>\n",
       "      <td>94.5</td>\n",
       "      <td>2325.0</td>\n",
       "      <td>12.82</td>\n",
       "      <td>68.1</td>\n",
       "      <td>3.30</td>\n",
       "      <td>1.712195</td>\n",
       "    </tr>\n",
       "    <tr>\n",
       "      <th>258</th>\n",
       "      <td>Ethan Lindow</td>\n",
       "      <td>1.2864</td>\n",
       "      <td>1</td>\n",
       "      <td>88.5</td>\n",
       "      <td>2275.0</td>\n",
       "      <td>9.09</td>\n",
       "      <td>180.2</td>\n",
       "      <td>2.40</td>\n",
       "      <td>2.391143</td>\n",
       "    </tr>\n",
       "    <tr>\n",
       "      <th>67</th>\n",
       "      <td>Matt Tabor</td>\n",
       "      <td>1.2864</td>\n",
       "      <td>0</td>\n",
       "      <td>91.5</td>\n",
       "      <td>2450.0</td>\n",
       "      <td>8.48</td>\n",
       "      <td>156.0</td>\n",
       "      <td>2.02</td>\n",
       "      <td>3.057692</td>\n",
       "    </tr>\n",
       "    <tr>\n",
       "      <th>330</th>\n",
       "      <td>Brett Conine</td>\n",
       "      <td>1.2500</td>\n",
       "      <td>0</td>\n",
       "      <td>91.5</td>\n",
       "      <td>2425.0</td>\n",
       "      <td>10.54</td>\n",
       "      <td>146.0</td>\n",
       "      <td>3.21</td>\n",
       "      <td>2.157534</td>\n",
       "    </tr>\n",
       "  </tbody>\n",
       "</table>\n",
       "</div>"
      ],
      "text/plain": [
       "                    Name  pred_WAR  throws  avg_fastest_speed  avg_spin  \\\n",
       "4          Sixto Sanchez    2.4708       0               97.0    2250.0   \n",
       "57             Juan Then    1.9828       0               94.5    2425.0   \n",
       "272      Alexander Wells    1.8424       1               87.5    2400.0   \n",
       "81        Eduard Bazardo    1.6960       0               95.0    2575.0   \n",
       "17        Gregory Santos    1.6932       0               95.5    2550.0   \n",
       "293        Luis Palacios    1.5904       1               86.0    2250.0   \n",
       "107      Jonathan Bowlan    1.5612       0               93.0    2275.0   \n",
       "140         Ryan Rolison    1.5336       1               91.5    2425.0   \n",
       "16           Jhoan Duran    1.5316       0               97.0    2250.0   \n",
       "88       Ronny Henriquez    1.4596       0               94.5    2375.0   \n",
       "338            Luis Rijo    1.4548       0               92.0    2350.0   \n",
       "253       Raymond Burgos    1.3940       1               92.5    2275.0   \n",
       "31        Clarke Schmidt    1.3864       0               93.0    2675.0   \n",
       "68     Daulton Jefferies    1.3772       0               92.5    2375.0   \n",
       "263       Tyler Phillips    1.3736       0               93.0    2250.0   \n",
       "95         Peter Solomon    1.3360       0               92.0    2450.0   \n",
       "105       Riley Thompson    1.3348       0               93.0    2675.0   \n",
       "122          Sean Hjelle    1.3084       0               92.5    2350.0   \n",
       "308  Yerry De Los Santos    1.3048       0               94.5    2325.0   \n",
       "258         Ethan Lindow    1.2864       1               88.5    2275.0   \n",
       "67            Matt Tabor    1.2864       0               91.5    2450.0   \n",
       "330         Brett Conine    1.2500       0               91.5    2425.0   \n",
       "\n",
       "       K/9     IP  BB/9       ERA  \n",
       "4     8.31  160.2  2.08  2.688796  \n",
       "57    8.26   98.1  2.48  2.837289  \n",
       "272   6.81  272.1  2.18  3.205634  \n",
       "81   10.25  151.0  2.15  2.443709  \n",
       "17    7.71   84.1  2.68  3.841894  \n",
       "293   9.00  104.0  0.61  0.951923  \n",
       "107   8.60  181.0  1.99  3.878453  \n",
       "140   9.34  160.0  2.87  3.937507  \n",
       "16   10.50  215.2  3.72  3.755795  \n",
       "88   11.44  140.0  2.44  3.278571  \n",
       "338   7.97  167.1  1.99  2.635459  \n",
       "253  10.22   94.2  2.87  3.422535  \n",
       "31   10.42  114.0  3.16  3.394738  \n",
       "68   10.89   81.0  1.56  3.333333  \n",
       "263   7.81  264.0  1.77  3.170455  \n",
       "95   10.66  108.1  3.00  2.326153  \n",
       "105   8.46  119.1  3.40  3.016761  \n",
       "122   8.78  165.0  3.16  3.545455  \n",
       "308  12.82   68.1  3.30  1.712195  \n",
       "258   9.09  180.2  2.40  2.391143  \n",
       "67    8.48  156.0  2.02  3.057692  \n",
       "330  10.54  146.0  3.21  2.157534  "
      ]
     },
     "execution_count": 395,
     "metadata": {},
     "output_type": "execute_result"
    }
   ],
   "source": [
    "#sort the data by predicted WAR\n",
    "sorted_prospect_data = prospect_data[['Name', 'pred_WAR', 'throws','avg_fastest_speed', 'avg_spin', 'K/9', 'IP', 'BB/9','ERA']].sort_values(by='pred_WAR', ascending=False)\n",
    "\n",
    "##filter by pitchers with a predicted WAR greater than 1.25, pitchers who have given up a walk (to show that they are human),\n",
    "#and pitchers who have pitched at least 50 innings in the minors\n",
    "sorted_prospect_data[(sorted_prospect_data['pred_WAR'] > 1.25) & \n",
    "                     (sorted_prospect_data['BB/9'] != 0) & \n",
    "                     (sorted_prospect_data['IP'] > 50)]"
   ]
  },
  {
   "cell_type": "markdown",
   "id": "33a40c1f",
   "metadata": {},
   "source": [
    "The list above is the short list of 2021 prospects that are expected to be successful mlb pitchers. Interestingly, Sixto Sanchez has a predicted WAR far above the rest. I can't say that there are many takeaways from this list because the future is truly up for grabs. I can say however, that these pitchers all exhibit a low BB/9.\n",
    "\n",
    "It's reassuring that other statistics associated with a strong successful pitcher such as ERA (amount of runs a pitcher gives up) is relatively low for all these pitcehrs (typically around 3 or below), despite the fact ERA was never used as a feature in the model.\n",
    "\n",
    "Additionally, the data was set up such that the index represents their prospect ranking. In other words, Sixto Sanchez is ranked number 4 out of all pitcher prospects according to common consensus. I am not exactly sure how this ranking is made, but it is interesting to see that only 1 of the top 10 pitchers shows up on this list. Conversely, we see pitchers ranked as high as 300 on the list show up on this list. We'll have to see whether this method or the rankings will hold, but only time will tell."
   ]
  },
  {
   "cell_type": "markdown",
   "id": "8470bebc",
   "metadata": {},
   "source": [
    "# 6. Conclusion"
   ]
  },
  {
   "cell_type": "markdown",
   "id": "219e3082",
   "metadata": {},
   "source": [
    "I was able to take data about mlb pitchers that someone could measure without the presence of an opposing team or batter and use that data to make a prediction about how successful a pitcher will be. The goal was to see if we can approach the scouting process from a machine learning standpoint. While the prediction is weak, it does beat the baseline. \n",
    "\n",
    "It is to be noted that the problem has not been entirely answered. As a reminder, the goal of this notebook was to see if we can predict a pitcher's success based off of data that can only be obtained without the presence of a batter. This was assumed to be things like what type of pitches does a pitcher throw, how fast they throw, or how accurate they are. The remaining question mark has mostly to do with accuracy. \n",
    "\n",
    "We saw that BB/9, a metric used to evaluate a pitcher's ability to throw strikes when they need to, was the most important feature in evaluating a pitcher's success. However, BB/9 does involve a batter, as it is up to the batter sometimes whether or not take take a ball or swing. Successful pitchers tend to get batters to swing at pitches they don't actually want to swing at. MLB hitters are especially good at laying off pitches that are out of the strikezone. I expect prospect's BB/9 to increase when they reach the major league level. Therefore, I expect this to have an effect on their predicted WAR.\n",
    "\n",
    "While the other features can somewhat beat the baseline, I am hesitant to say that without BB/9 we can definitely reject the null hypothesis. I would be more at ease if there was another metric to capture accuracy. However, I could not find another that was tracked. One takeaway (if MLB is listening) is to maybe figure out what that metric can be. Technology that can pick up the rotations on a ball can also be applied in other settings, so I'm curious to see if they can develop statistics that tracks a pitcher's ability to throw pitches where they want.\n",
    "\n",
    "It was a good exercise to try both classification algorithms and regression algorithms. Going forward, I may want to try boosting algorithms such as XGBoost. I also want to try more regression algorithms as I only went between random forest regressor and linear regression. \n",
    "\n",
    "A large part of this notebook was determining what features to use. There are still some features that I did EDA on that I didn't end up using (e.g. num pitches, favorite pitch, height, etc.). If I had more time, I would evaluate the efficacy of these features on the different algorithms. From my testing and playing around, the features I ended up using were giving the best results, which is why I ended up going with them.\n",
    "\n",
    "There are a lot of things that I think I can an improve on going forward. For now, I am satisifed with the practice I got applying machine learning algorithms to real world scenarios."
   ]
  }
 ],
 "metadata": {
  "kernelspec": {
   "display_name": "Python 3",
   "language": "python",
   "name": "python3"
  },
  "language_info": {
   "codemirror_mode": {
    "name": "ipython",
    "version": 3
   },
   "file_extension": ".py",
   "mimetype": "text/x-python",
   "name": "python",
   "nbconvert_exporter": "python",
   "pygments_lexer": "ipython3",
   "version": "3.8.8"
  }
 },
 "nbformat": 4,
 "nbformat_minor": 5
}
